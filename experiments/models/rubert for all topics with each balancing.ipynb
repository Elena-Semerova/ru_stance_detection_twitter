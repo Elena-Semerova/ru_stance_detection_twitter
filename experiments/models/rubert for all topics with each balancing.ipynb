{
 "cells": [
  {
   "cell_type": "markdown",
   "metadata": {
    "id": "4dxaMOql1k4-"
   },
   "source": [
    "### imports"
   ]
  },
  {
   "cell_type": "code",
   "execution_count": 1,
   "metadata": {
    "execution": {
     "iopub.execute_input": "2022-05-18T15:51:57.257402Z",
     "iopub.status.busy": "2022-05-18T15:51:57.256828Z",
     "iopub.status.idle": "2022-05-18T15:51:59.849382Z",
     "shell.execute_reply": "2022-05-18T15:51:59.848652Z",
     "shell.execute_reply.started": "2022-05-18T15:51:57.257297Z"
    },
    "id": "29c203b7"
   },
   "outputs": [],
   "source": [
    "import pandas as pd\n",
    "\n",
    "from bert import training"
   ]
  },
  {
   "cell_type": "markdown",
   "metadata": {
    "id": "X9G76Z3xt-jL"
   },
   "source": [
    "### read data"
   ]
  },
  {
   "cell_type": "code",
   "execution_count": 2,
   "metadata": {
    "execution": {
     "iopub.execute_input": "2022-05-18T15:52:07.897608Z",
     "iopub.status.busy": "2022-05-18T15:52:07.896799Z",
     "iopub.status.idle": "2022-05-18T15:52:08.033144Z",
     "shell.execute_reply": "2022-05-18T15:52:08.031787Z",
     "shell.execute_reply.started": "2022-05-18T15:52:07.897566Z"
    },
    "id": "cWLPF8ekuDzi"
   },
   "outputs": [],
   "source": [
    "data = pd.read_csv('../labeled_data/preprocess_all_data_final.csv')"
   ]
  },
  {
   "cell_type": "markdown",
   "metadata": {},
   "source": [
    "### training"
   ]
  },
  {
   "cell_type": "code",
   "execution_count": 3,
   "metadata": {
    "execution": {
     "iopub.execute_input": "2022-05-18T16:13:07.682871Z",
     "iopub.status.busy": "2022-05-18T16:13:07.682610Z",
     "iopub.status.idle": "2022-05-18T16:37:00.569285Z",
     "shell.execute_reply": "2022-05-18T16:37:00.568521Z",
     "shell.execute_reply.started": "2022-05-18T16:13:07.682836Z"
    },
    "id": "7ocodQFZHZRJ"
   },
   "outputs": [
    {
     "name": "stdout",
     "output_type": "stream",
     "text": [
      "MAX_LEN_train:\t 99\n",
      "MAX_LEN_valid:\t 84\n",
      "\n",
      "Epoch  1/10\n",
      "-------------------------\n"
     ]
    },
    {
     "name": "stderr",
     "output_type": "stream",
     "text": [
      "TRAIN: 100%|██████████| 441/441 [02:17<00:00,  3.20it/s]\n",
      "EVALUATION: 100%|██████████| 53/53 [00:04<00:00, 10.67it/s]\n"
     ]
    },
    {
     "name": "stdout",
     "output_type": "stream",
     "text": [
      "Train loss 1.0141 accuracy 0.5083\n",
      "Valid loss 6.4428 accuracy 0.2932\n",
      "Epoch  2/10\n",
      "-------------------------\n"
     ]
    },
    {
     "name": "stderr",
     "output_type": "stream",
     "text": [
      "TRAIN: 100%|██████████| 441/441 [02:17<00:00,  3.20it/s]\n",
      "EVALUATION: 100%|██████████| 53/53 [00:04<00:00, 10.64it/s]\n"
     ]
    },
    {
     "name": "stdout",
     "output_type": "stream",
     "text": [
      "Train loss 0.7592 accuracy 0.6851\n",
      "Valid loss 5.8295 accuracy 0.3839\n",
      "Epoch  3/10\n",
      "-------------------------\n"
     ]
    },
    {
     "name": "stderr",
     "output_type": "stream",
     "text": [
      "TRAIN: 100%|██████████| 441/441 [02:17<00:00,  3.20it/s]\n",
      "EVALUATION: 100%|██████████| 53/53 [00:04<00:00, 10.67it/s]\n"
     ]
    },
    {
     "name": "stdout",
     "output_type": "stream",
     "text": [
      "Train loss 0.5118 accuracy 0.8043\n",
      "Valid loss 5.4307 accuracy 0.3199\n",
      "Epoch  4/10\n",
      "-------------------------\n"
     ]
    },
    {
     "name": "stderr",
     "output_type": "stream",
     "text": [
      "TRAIN: 100%|██████████| 441/441 [02:17<00:00,  3.21it/s]\n",
      "EVALUATION: 100%|██████████| 53/53 [00:05<00:00, 10.52it/s]\n"
     ]
    },
    {
     "name": "stdout",
     "output_type": "stream",
     "text": [
      "Train loss 0.3255 accuracy 0.8812\n",
      "Valid loss 5.2886 accuracy 0.3140\n",
      "Epoch  5/10\n",
      "-------------------------\n"
     ]
    },
    {
     "name": "stderr",
     "output_type": "stream",
     "text": [
      "TRAIN: 100%|██████████| 441/441 [02:17<00:00,  3.21it/s]\n",
      "EVALUATION: 100%|██████████| 53/53 [00:04<00:00, 10.67it/s]\n"
     ]
    },
    {
     "name": "stdout",
     "output_type": "stream",
     "text": [
      "Train loss 0.2104 accuracy 0.9256\n",
      "Valid loss 5.0589 accuracy 0.3335\n",
      "Epoch  6/10\n",
      "-------------------------\n"
     ]
    },
    {
     "name": "stderr",
     "output_type": "stream",
     "text": [
      "TRAIN: 100%|██████████| 441/441 [02:17<00:00,  3.21it/s]\n",
      "EVALUATION: 100%|██████████| 53/53 [00:04<00:00, 10.68it/s]\n"
     ]
    },
    {
     "name": "stdout",
     "output_type": "stream",
     "text": [
      "Train loss 0.1557 accuracy 0.9476\n",
      "Valid loss 4.9342 accuracy 0.3246\n",
      "Epoch  7/10\n",
      "-------------------------\n"
     ]
    },
    {
     "name": "stderr",
     "output_type": "stream",
     "text": [
      "TRAIN: 100%|██████████| 441/441 [02:17<00:00,  3.21it/s]\n",
      "EVALUATION: 100%|██████████| 53/53 [00:04<00:00, 10.62it/s]\n"
     ]
    },
    {
     "name": "stdout",
     "output_type": "stream",
     "text": [
      "Train loss 0.1003 accuracy 0.9678\n",
      "Valid loss 4.8307 accuracy 0.2980\n",
      "Epoch  8/10\n",
      "-------------------------\n"
     ]
    },
    {
     "name": "stderr",
     "output_type": "stream",
     "text": [
      "TRAIN: 100%|██████████| 441/441 [02:17<00:00,  3.21it/s]\n",
      "EVALUATION: 100%|██████████| 53/53 [00:05<00:00, 10.57it/s]\n"
     ]
    },
    {
     "name": "stdout",
     "output_type": "stream",
     "text": [
      "Train loss 0.0829 accuracy 0.9756\n",
      "Valid loss 4.6943 accuracy 0.3442\n",
      "Epoch  9/10\n",
      "-------------------------\n"
     ]
    },
    {
     "name": "stderr",
     "output_type": "stream",
     "text": [
      "TRAIN: 100%|██████████| 441/441 [02:17<00:00,  3.20it/s]\n",
      "EVALUATION: 100%|██████████| 53/53 [00:04<00:00, 10.61it/s]\n"
     ]
    },
    {
     "name": "stdout",
     "output_type": "stream",
     "text": [
      "Train loss 0.0631 accuracy 0.9826\n",
      "Valid loss 4.5626 accuracy 0.3282\n",
      "Epoch 10/10\n",
      "-------------------------\n"
     ]
    },
    {
     "name": "stderr",
     "output_type": "stream",
     "text": [
      "TRAIN: 100%|██████████| 441/441 [02:17<00:00,  3.21it/s]\n",
      "EVALUATION: 100%|██████████| 53/53 [00:04<00:00, 10.61it/s]\n"
     ]
    },
    {
     "name": "stdout",
     "output_type": "stream",
     "text": [
      "Train loss 0.0474 accuracy 0.9867\n",
      "Valid loss 4.4004 accuracy 0.3045\n",
      "              precision    recall  f1-score   support\n",
      "\n",
      "     against       0.53      0.51      0.52       534\n",
      "       favor       0.41      0.52      0.46       458\n",
      "     neutral       0.59      0.50      0.54       696\n",
      "\n",
      "    accuracy                           0.51      1688\n",
      "   macro avg       0.51      0.51      0.51      1688\n",
      "weighted avg       0.52      0.51      0.51      1688\n",
      "\n"
     ]
    }
   ],
   "source": [
    "training(data=data,\n",
    "         batch_size=32,\n",
    "         epochs=10,\n",
    "         learning_rate_optimizer=2e-5,\n",
    "         n_classes=3,\n",
    "         include_topics=False, \n",
    "         balancing='each')"
   ]
  },
  {
   "cell_type": "code",
   "execution_count": 4,
   "metadata": {
    "execution": {
     "iopub.execute_input": "2022-05-18T16:42:41.777071Z",
     "iopub.status.busy": "2022-05-18T16:42:41.776793Z",
     "iopub.status.idle": "2022-05-18T17:11:37.481357Z",
     "shell.execute_reply": "2022-05-18T17:11:37.480562Z",
     "shell.execute_reply.started": "2022-05-18T16:42:41.777040Z"
    },
    "id": "IUWGH60tHZWh"
   },
   "outputs": [
    {
     "name": "stdout",
     "output_type": "stream",
     "text": [
      "MAX_LEN_train:\t 119\n",
      "MAX_LEN_valid:\t 94\n",
      "\n",
      "Epoch  1/10\n",
      "-------------------------\n"
     ]
    },
    {
     "name": "stderr",
     "output_type": "stream",
     "text": [
      "TRAIN: 100%|██████████| 444/444 [02:45<00:00,  2.69it/s]\n",
      "EVALUATION: 100%|██████████| 53/53 [00:05<00:00, 10.02it/s]\n"
     ]
    },
    {
     "name": "stdout",
     "output_type": "stream",
     "text": [
      "Train loss 0.3859 accuracy 0.8603\n",
      "Valid loss 7.2351 accuracy 0.3193\n",
      "Epoch  2/10\n",
      "-------------------------\n"
     ]
    },
    {
     "name": "stderr",
     "output_type": "stream",
     "text": [
      "TRAIN: 100%|██████████| 444/444 [02:45<00:00,  2.69it/s]\n",
      "EVALUATION: 100%|██████████| 53/53 [00:05<00:00, 10.07it/s]\n"
     ]
    },
    {
     "name": "stdout",
     "output_type": "stream",
     "text": [
      "Train loss 0.3859 accuracy 0.8603\n",
      "Valid loss 6.5005 accuracy 0.3193\n",
      "Epoch  3/10\n",
      "-------------------------\n"
     ]
    },
    {
     "name": "stderr",
     "output_type": "stream",
     "text": [
      "TRAIN: 100%|██████████| 444/444 [02:45<00:00,  2.69it/s]\n",
      "EVALUATION: 100%|██████████| 53/53 [00:05<00:00, 10.10it/s]\n"
     ]
    },
    {
     "name": "stdout",
     "output_type": "stream",
     "text": [
      "Train loss 0.2128 accuracy 0.9287\n",
      "Valid loss 6.0759 accuracy 0.2838\n",
      "Epoch  4/10\n",
      "-------------------------\n"
     ]
    },
    {
     "name": "stderr",
     "output_type": "stream",
     "text": [
      "TRAIN: 100%|██████████| 444/444 [02:45<00:00,  2.69it/s]\n",
      "EVALUATION: 100%|██████████| 53/53 [00:05<00:00, 10.00it/s]\n"
     ]
    },
    {
     "name": "stdout",
     "output_type": "stream",
     "text": [
      "Train loss 0.1496 accuracy 0.9538\n",
      "Valid loss 5.7580 accuracy 0.3359\n",
      "Epoch  5/10\n",
      "-------------------------\n"
     ]
    },
    {
     "name": "stderr",
     "output_type": "stream",
     "text": [
      "TRAIN: 100%|██████████| 444/444 [02:45<00:00,  2.68it/s]\n",
      "EVALUATION: 100%|██████████| 53/53 [00:05<00:00,  9.90it/s]\n"
     ]
    },
    {
     "name": "stdout",
     "output_type": "stream",
     "text": [
      "Train loss 0.1065 accuracy 0.9692\n",
      "Valid loss 5.5266 accuracy 0.3181\n",
      "Epoch  6/10\n",
      "-------------------------\n"
     ]
    },
    {
     "name": "stderr",
     "output_type": "stream",
     "text": [
      "TRAIN: 100%|██████████| 444/444 [02:45<00:00,  2.68it/s]\n",
      "EVALUATION: 100%|██████████| 53/53 [00:05<00:00,  9.99it/s]\n"
     ]
    },
    {
     "name": "stdout",
     "output_type": "stream",
     "text": [
      "Train loss 0.0780 accuracy 0.9797\n",
      "Valid loss 5.3266 accuracy 0.2790\n",
      "Epoch  7/10\n",
      "-------------------------\n"
     ]
    },
    {
     "name": "stderr",
     "output_type": "stream",
     "text": [
      "TRAIN: 100%|██████████| 444/444 [02:45<00:00,  2.69it/s]\n",
      "EVALUATION: 100%|██████████| 53/53 [00:05<00:00, 10.03it/s]\n"
     ]
    },
    {
     "name": "stdout",
     "output_type": "stream",
     "text": [
      "Train loss 0.0560 accuracy 0.9863\n",
      "Valid loss 5.2074 accuracy 0.3252\n",
      "Epoch  8/10\n",
      "-------------------------\n"
     ]
    },
    {
     "name": "stderr",
     "output_type": "stream",
     "text": [
      "TRAIN: 100%|██████████| 444/444 [02:45<00:00,  2.69it/s]\n",
      "EVALUATION: 100%|██████████| 53/53 [00:05<00:00, 10.03it/s]\n"
     ]
    },
    {
     "name": "stdout",
     "output_type": "stream",
     "text": [
      "Train loss 0.0494 accuracy 0.9880\n",
      "Valid loss 5.1572 accuracy 0.3152\n",
      "Epoch  9/10\n",
      "-------------------------\n"
     ]
    },
    {
     "name": "stderr",
     "output_type": "stream",
     "text": [
      "TRAIN: 100%|██████████| 444/444 [02:45<00:00,  2.69it/s]\n",
      "EVALUATION: 100%|██████████| 53/53 [00:05<00:00, 10.08it/s]\n"
     ]
    },
    {
     "name": "stdout",
     "output_type": "stream",
     "text": [
      "Train loss 0.0365 accuracy 0.9905\n",
      "Valid loss 5.0384 accuracy 0.3187\n",
      "Epoch 10/10\n",
      "-------------------------\n"
     ]
    },
    {
     "name": "stderr",
     "output_type": "stream",
     "text": [
      "TRAIN: 100%|██████████| 444/444 [02:45<00:00,  2.69it/s]\n",
      "EVALUATION: 100%|██████████| 53/53 [00:05<00:00, 10.00it/s]\n"
     ]
    },
    {
     "name": "stdout",
     "output_type": "stream",
     "text": [
      "Train loss 0.0267 accuracy 0.9937\n",
      "Valid loss 4.9572 accuracy 0.3116\n",
      "              precision    recall  f1-score   support\n",
      "\n",
      "     against       0.75      0.78      0.76       501\n",
      "       favor       0.69      0.78      0.73       481\n",
      "     neutral       0.79      0.69      0.74       706\n",
      "\n",
      "    accuracy                           0.74      1688\n",
      "   macro avg       0.74      0.75      0.74      1688\n",
      "weighted avg       0.75      0.74      0.74      1688\n",
      "\n"
     ]
    }
   ],
   "source": [
    "training(data=data,\n",
    "         batch_size=32,\n",
    "         epochs=10,\n",
    "         learning_rate_optimizer=2e-5,\n",
    "         n_classes=3,\n",
    "         include_topics=True, \n",
    "         balancing='each')"
   ]
  }
 ],
 "metadata": {
  "kernelspec": {
   "display_name": "Python 3 (ipykernel)",
   "language": "python",
   "name": "python3"
  },
  "language_info": {
   "codemirror_mode": {
    "name": "ipython",
    "version": 3
   },
   "file_extension": ".py",
   "mimetype": "text/x-python",
   "name": "python",
   "nbconvert_exporter": "python",
   "pygments_lexer": "ipython3",
   "version": "3.8.12"
  }
 },
 "nbformat": 4,
 "nbformat_minor": 4
}
