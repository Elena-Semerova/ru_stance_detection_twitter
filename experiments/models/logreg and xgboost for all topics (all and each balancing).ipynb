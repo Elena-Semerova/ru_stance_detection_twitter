{
 "cells": [
  {
   "cell_type": "markdown",
   "id": "454b8f28",
   "metadata": {},
   "source": [
    "## imports"
   ]
  },
  {
   "cell_type": "code",
   "execution_count": 1,
   "id": "5fa6260f",
   "metadata": {},
   "outputs": [],
   "source": [
    "import pandas as pd\n",
    "\n",
    "from logreg_and_xgboost import best_model"
   ]
  },
  {
   "cell_type": "markdown",
   "id": "4853efed",
   "metadata": {},
   "source": [
    "## read data"
   ]
  },
  {
   "cell_type": "code",
   "execution_count": 2,
   "id": "059cdf1e",
   "metadata": {},
   "outputs": [
    {
     "data": {
      "text/html": [
       "<div>\n",
       "<style scoped>\n",
       "    .dataframe tbody tr th:only-of-type {\n",
       "        vertical-align: middle;\n",
       "    }\n",
       "\n",
       "    .dataframe tbody tr th {\n",
       "        vertical-align: top;\n",
       "    }\n",
       "\n",
       "    .dataframe thead th {\n",
       "        text-align: right;\n",
       "    }\n",
       "</style>\n",
       "<table border=\"1\" class=\"dataframe\">\n",
       "  <thead>\n",
       "    <tr style=\"text-align: right;\">\n",
       "      <th></th>\n",
       "      <th>topic</th>\n",
       "      <th>content</th>\n",
       "      <th>stance</th>\n",
       "    </tr>\n",
       "  </thead>\n",
       "  <tbody>\n",
       "    <tr>\n",
       "      <th>0</th>\n",
       "      <td>1</td>\n",
       "      <td>похвала похвала феминитив</td>\n",
       "      <td>1</td>\n",
       "    </tr>\n",
       "    <tr>\n",
       "      <th>1</th>\n",
       "      <td>2</td>\n",
       "      <td>напоминать stories существовать новелла богаты...</td>\n",
       "      <td>2</td>\n",
       "    </tr>\n",
       "    <tr>\n",
       "      <th>2</th>\n",
       "      <td>2</td>\n",
       "      <td>кажется транс зависать самый дело зависать саша</td>\n",
       "      <td>2</td>\n",
       "    </tr>\n",
       "    <tr>\n",
       "      <th>3</th>\n",
       "      <td>2</td>\n",
       "      <td>сапфо литература проходить дело лгбт коммьюнити</td>\n",
       "      <td>2</td>\n",
       "    </tr>\n",
       "    <tr>\n",
       "      <th>4</th>\n",
       "      <td>2</td>\n",
       "      <td>латентный пидор почему мочь обсирать лгбт чело...</td>\n",
       "      <td>1</td>\n",
       "    </tr>\n",
       "  </tbody>\n",
       "</table>\n",
       "</div>"
      ],
      "text/plain": [
       "   topic                                            content  stance\n",
       "0      1                          похвала похвала феминитив       1\n",
       "1      2  напоминать stories существовать новелла богаты...       2\n",
       "2      2    кажется транс зависать самый дело зависать саша       2\n",
       "3      2    сапфо литература проходить дело лгбт коммьюнити       2\n",
       "4      2  латентный пидор почему мочь обсирать лгбт чело...       1"
      ]
     },
     "execution_count": 2,
     "metadata": {},
     "output_type": "execute_result"
    }
   ],
   "source": [
    "data = pd.read_csv('../labeled_data/preprocess_all_data_final.csv')\n",
    "\n",
    "data.loc[data.topic == 'культура отмены', 'topic'] = 0\n",
    "data.loc[data.topic == 'феминизм', 'topic'] = 1\n",
    "data.loc[data.topic == 'ЛГБТК+', 'topic'] = 2\n",
    "data.loc[data.topic == 'эйджизм', 'topic'] = 3\n",
    "data.loc[data.topic == 'лукизм', 'topic'] = 4\n",
    "\n",
    "data.topic = data.topic.apply(pd.to_numeric)\n",
    "\n",
    "data.head()"
   ]
  },
  {
   "cell_type": "markdown",
   "id": "5d234754",
   "metadata": {},
   "source": [
    "## without feature"
   ]
  },
  {
   "cell_type": "markdown",
   "id": "040df23e",
   "metadata": {},
   "source": [
    "#### bow"
   ]
  },
  {
   "cell_type": "code",
   "execution_count": 3,
   "id": "86986acb",
   "metadata": {},
   "outputs": [
    {
     "name": "stdout",
     "output_type": "stream",
     "text": [
      "Fitting 3 folds for each of 14 candidates, totalling 42 fits\n",
      "best parameters for model:\t logreg\n",
      "{'C': 0.05, 'penalty': 'l2'}\n",
      "\n",
      "              precision    recall  f1-score   support\n",
      "\n",
      "           0       0.47      0.31      0.38       541\n",
      "           1       0.37      0.23      0.29       466\n",
      "           2       0.44      0.67      0.53       681\n",
      "\n",
      "    accuracy                           0.44      1688\n",
      "   macro avg       0.43      0.41      0.40      1688\n",
      "weighted avg       0.43      0.44      0.41      1688\n",
      "\n"
     ]
    }
   ],
   "source": [
    "best_model(data=data,\n",
    "           model_name='logreg',\n",
    "           vec_name='bow',\n",
    "           balancing='all',\n",
    "           topic_feature=False,\n",
    "           save=False)"
   ]
  },
  {
   "cell_type": "code",
   "execution_count": 4,
   "id": "af11adaa",
   "metadata": {},
   "outputs": [
    {
     "name": "stdout",
     "output_type": "stream",
     "text": [
      "Fitting 3 folds for each of 14 candidates, totalling 42 fits\n",
      "best parameters for model:\t logreg\n",
      "{'C': 0.05, 'penalty': 'l2'}\n",
      "\n",
      "              precision    recall  f1-score   support\n",
      "\n",
      "           0       0.43      0.27      0.33       551\n",
      "           1       0.41      0.23      0.30       475\n",
      "           2       0.43      0.69      0.53       662\n",
      "\n",
      "    accuracy                           0.43      1688\n",
      "   macro avg       0.42      0.40      0.39      1688\n",
      "weighted avg       0.42      0.43      0.40      1688\n",
      "\n"
     ]
    }
   ],
   "source": [
    "best_model(data=data,\n",
    "           model_name='logreg',\n",
    "           vec_name='bow',\n",
    "           balancing='each',\n",
    "           topic_feature=False,\n",
    "           save=False)"
   ]
  },
  {
   "cell_type": "code",
   "execution_count": 5,
   "id": "2645553d",
   "metadata": {},
   "outputs": [
    {
     "name": "stdout",
     "output_type": "stream",
     "text": [
      "Fitting 3 folds for each of 36 candidates, totalling 108 fits\n",
      "best parameters for model:\t xgboost\n",
      "{'eta': 0.2, 'gamma': 0, 'max_depth': 5}\n",
      "\n",
      "              precision    recall  f1-score   support\n",
      "\n",
      "           0       0.45      0.22      0.30       531\n",
      "           1       0.38      0.14      0.21       467\n",
      "           2       0.44      0.79      0.56       690\n",
      "\n",
      "    accuracy                           0.43      1688\n",
      "   macro avg       0.42      0.39      0.36      1688\n",
      "weighted avg       0.43      0.43      0.38      1688\n",
      "\n"
     ]
    }
   ],
   "source": [
    "best_model(data=data,\n",
    "           model_name='xgboost',\n",
    "           vec_name='bow',\n",
    "           balancing='all',\n",
    "           topic_feature=False,\n",
    "           save=False)"
   ]
  },
  {
   "cell_type": "code",
   "execution_count": 6,
   "id": "f5384237",
   "metadata": {},
   "outputs": [
    {
     "name": "stdout",
     "output_type": "stream",
     "text": [
      "Fitting 3 folds for each of 36 candidates, totalling 108 fits\n",
      "best parameters for model:\t xgboost\n",
      "{'eta': 0.2, 'gamma': 0.1, 'max_depth': 3}\n",
      "\n",
      "              precision    recall  f1-score   support\n",
      "\n",
      "           0       0.50      0.22      0.31       530\n",
      "           1       0.39      0.14      0.21       459\n",
      "           2       0.44      0.81      0.57       699\n",
      "\n",
      "    accuracy                           0.44      1688\n",
      "   macro avg       0.44      0.39      0.36      1688\n",
      "weighted avg       0.45      0.44      0.39      1688\n",
      "\n"
     ]
    }
   ],
   "source": [
    "best_model(data=data,\n",
    "           model_name='xgboost',\n",
    "           vec_name='bow',\n",
    "           balancing='each',\n",
    "           topic_feature=False,\n",
    "           save=False)"
   ]
  },
  {
   "cell_type": "markdown",
   "id": "e9e31190",
   "metadata": {},
   "source": [
    "#### tfidf"
   ]
  },
  {
   "cell_type": "code",
   "execution_count": 7,
   "id": "4b66adad",
   "metadata": {},
   "outputs": [
    {
     "name": "stdout",
     "output_type": "stream",
     "text": [
      "Fitting 3 folds for each of 14 candidates, totalling 42 fits\n",
      "best parameters for model:\t logreg\n",
      "{'C': 0.5, 'penalty': 'l2'}\n",
      "\n",
      "              precision    recall  f1-score   support\n",
      "\n",
      "           0       0.45      0.34      0.39       526\n",
      "           1       0.41      0.25      0.31       482\n",
      "           2       0.46      0.68      0.55       680\n",
      "\n",
      "    accuracy                           0.45      1688\n",
      "   macro avg       0.44      0.42      0.42      1688\n",
      "weighted avg       0.45      0.45      0.43      1688\n",
      "\n"
     ]
    }
   ],
   "source": [
    "best_model(data=data,\n",
    "           model_name='logreg',\n",
    "           vec_name='tfidf',\n",
    "           balancing='all',\n",
    "           topic_feature=False,\n",
    "           save=False)"
   ]
  },
  {
   "cell_type": "code",
   "execution_count": 8,
   "id": "aa9011eb",
   "metadata": {},
   "outputs": [
    {
     "name": "stdout",
     "output_type": "stream",
     "text": [
      "Fitting 3 folds for each of 14 candidates, totalling 42 fits\n",
      "best parameters for model:\t logreg\n",
      "{'C': 0.5, 'penalty': 'l2'}\n",
      "\n",
      "              precision    recall  f1-score   support\n",
      "\n",
      "           0       0.42      0.36      0.39       501\n",
      "           1       0.43      0.25      0.31       476\n",
      "           2       0.49      0.68      0.57       711\n",
      "\n",
      "    accuracy                           0.46      1688\n",
      "   macro avg       0.45      0.43      0.42      1688\n",
      "weighted avg       0.45      0.46      0.44      1688\n",
      "\n"
     ]
    }
   ],
   "source": [
    "best_model(data=data,\n",
    "           model_name='logreg',\n",
    "           vec_name='tfidf',\n",
    "           balancing='each',\n",
    "           topic_feature=False,\n",
    "           save=False)"
   ]
  },
  {
   "cell_type": "code",
   "execution_count": 9,
   "id": "19db43dc",
   "metadata": {},
   "outputs": [
    {
     "name": "stdout",
     "output_type": "stream",
     "text": [
      "Fitting 3 folds for each of 36 candidates, totalling 108 fits\n",
      "best parameters for model:\t xgboost\n",
      "{'eta': 0.2, 'gamma': 0.5, 'max_depth': 3}\n",
      "\n",
      "              precision    recall  f1-score   support\n",
      "\n",
      "           0       0.50      0.19      0.27       557\n",
      "           1       0.39      0.13      0.19       475\n",
      "           2       0.40      0.81      0.54       656\n",
      "\n",
      "    accuracy                           0.41      1688\n",
      "   macro avg       0.43      0.38      0.34      1688\n",
      "weighted avg       0.43      0.41      0.35      1688\n",
      "\n"
     ]
    }
   ],
   "source": [
    "best_model(data=data,\n",
    "           model_name='xgboost',\n",
    "           vec_name='tfidf',\n",
    "           balancing='all',\n",
    "           topic_feature=False,\n",
    "           save=False)"
   ]
  },
  {
   "cell_type": "code",
   "execution_count": 10,
   "id": "e095970c",
   "metadata": {},
   "outputs": [
    {
     "name": "stdout",
     "output_type": "stream",
     "text": [
      "Fitting 3 folds for each of 36 candidates, totalling 108 fits\n",
      "best parameters for model:\t xgboost\n",
      "{'eta': 0.5, 'gamma': 0.5, 'max_depth': 3}\n",
      "\n",
      "              precision    recall  f1-score   support\n",
      "\n",
      "           0       0.44      0.24      0.31       527\n",
      "           1       0.41      0.18      0.25       474\n",
      "           2       0.43      0.75      0.55       687\n",
      "\n",
      "    accuracy                           0.43      1688\n",
      "   macro avg       0.43      0.39      0.37      1688\n",
      "weighted avg       0.43      0.43      0.39      1688\n",
      "\n"
     ]
    }
   ],
   "source": [
    "best_model(data=data,\n",
    "           model_name='xgboost',\n",
    "           vec_name='tfidf',\n",
    "           balancing='each',\n",
    "           topic_feature=False,\n",
    "           save=False)"
   ]
  },
  {
   "cell_type": "markdown",
   "id": "21012065",
   "metadata": {},
   "source": [
    "## with feature"
   ]
  },
  {
   "cell_type": "markdown",
   "id": "0506fada",
   "metadata": {},
   "source": [
    "#### bow"
   ]
  },
  {
   "cell_type": "code",
   "execution_count": 11,
   "id": "3c836606",
   "metadata": {},
   "outputs": [
    {
     "name": "stdout",
     "output_type": "stream",
     "text": [
      "Fitting 3 folds for each of 14 candidates, totalling 42 fits\n",
      "best parameters for model:\t logreg\n",
      "{'C': 0.01, 'penalty': 'l2'}\n",
      "\n",
      "              precision    recall  f1-score   support\n",
      "\n",
      "           0       0.58      0.24      0.34       571\n",
      "           1       0.45      0.18      0.26       455\n",
      "           2       0.43      0.83      0.57       662\n",
      "\n",
      "    accuracy                           0.45      1688\n",
      "   macro avg       0.49      0.41      0.39      1688\n",
      "weighted avg       0.49      0.45      0.40      1688\n",
      "\n"
     ]
    }
   ],
   "source": [
    "best_model(data=data,\n",
    "           model_name='logreg',\n",
    "           vec_name='bow',\n",
    "           balancing='all',\n",
    "           topic_feature=True,\n",
    "           save=False)"
   ]
  },
  {
   "cell_type": "code",
   "execution_count": 12,
   "id": "3e074b4d",
   "metadata": {},
   "outputs": [
    {
     "name": "stdout",
     "output_type": "stream",
     "text": [
      "Fitting 3 folds for each of 14 candidates, totalling 42 fits\n",
      "best parameters for model:\t logreg\n",
      "{'C': 0.01, 'penalty': 'l2'}\n",
      "\n",
      "              precision    recall  f1-score   support\n",
      "\n",
      "           0       0.45      0.21      0.29       511\n",
      "           1       0.43      0.19      0.27       464\n",
      "           2       0.46      0.80      0.59       713\n",
      "\n",
      "    accuracy                           0.46      1688\n",
      "   macro avg       0.45      0.40      0.38      1688\n",
      "weighted avg       0.45      0.46      0.41      1688\n",
      "\n"
     ]
    }
   ],
   "source": [
    "best_model(data=data,\n",
    "           model_name='logreg',\n",
    "           vec_name='bow',\n",
    "           balancing='each',\n",
    "           topic_feature=True,\n",
    "           save=False)"
   ]
  },
  {
   "cell_type": "code",
   "execution_count": 13,
   "id": "93de8796",
   "metadata": {},
   "outputs": [
    {
     "name": "stdout",
     "output_type": "stream",
     "text": [
      "Fitting 3 folds for each of 36 candidates, totalling 108 fits\n",
      "best parameters for model:\t xgboost\n",
      "{'eta': 0.2, 'gamma': 1, 'max_depth': 3}\n",
      "\n",
      "              precision    recall  f1-score   support\n",
      "\n",
      "           0       0.51      0.22      0.31       541\n",
      "           1       0.42      0.17      0.24       473\n",
      "           2       0.43      0.80      0.56       674\n",
      "\n",
      "    accuracy                           0.44      1688\n",
      "   macro avg       0.45      0.40      0.37      1688\n",
      "weighted avg       0.45      0.44      0.39      1688\n",
      "\n"
     ]
    }
   ],
   "source": [
    "best_model(data=data,\n",
    "           model_name='xgboost',\n",
    "           vec_name='bow',\n",
    "           balancing='all',\n",
    "           topic_feature=True,\n",
    "           save=False)"
   ]
  },
  {
   "cell_type": "code",
   "execution_count": 14,
   "id": "7e29144e",
   "metadata": {},
   "outputs": [
    {
     "name": "stdout",
     "output_type": "stream",
     "text": [
      "Fitting 3 folds for each of 36 candidates, totalling 108 fits\n",
      "best parameters for model:\t xgboost\n",
      "{'eta': 0.2, 'gamma': 1, 'max_depth': 5}\n",
      "\n",
      "              precision    recall  f1-score   support\n",
      "\n",
      "           0       0.48      0.25      0.33       500\n",
      "           1       0.43      0.19      0.27       490\n",
      "           2       0.45      0.78      0.57       698\n",
      "\n",
      "    accuracy                           0.45      1688\n",
      "   macro avg       0.45      0.40      0.39      1688\n",
      "weighted avg       0.45      0.45      0.41      1688\n",
      "\n"
     ]
    }
   ],
   "source": [
    "best_model(data=data,\n",
    "           model_name='xgboost',\n",
    "           vec_name='bow',\n",
    "           balancing='each',\n",
    "           topic_feature=True,\n",
    "           save=False)"
   ]
  },
  {
   "cell_type": "markdown",
   "id": "b9c972f8",
   "metadata": {},
   "source": [
    "#### tfidf"
   ]
  },
  {
   "cell_type": "code",
   "execution_count": 15,
   "id": "fc0c0fd1",
   "metadata": {},
   "outputs": [
    {
     "name": "stdout",
     "output_type": "stream",
     "text": [
      "Fitting 3 folds for each of 14 candidates, totalling 42 fits\n",
      "best parameters for model:\t logreg\n",
      "{'C': 0.5, 'penalty': 'l2'}\n",
      "\n",
      "              precision    recall  f1-score   support\n",
      "\n",
      "           0       0.47      0.32      0.38       505\n",
      "           1       0.36      0.25      0.29       450\n",
      "           2       0.50      0.70      0.58       733\n",
      "\n",
      "    accuracy                           0.47      1688\n",
      "   macro avg       0.44      0.42      0.42      1688\n",
      "weighted avg       0.45      0.47      0.44      1688\n",
      "\n"
     ]
    }
   ],
   "source": [
    "best_model(data=data,\n",
    "           model_name='logreg',\n",
    "           vec_name='tfidf',\n",
    "           balancing='all',\n",
    "           topic_feature=True,\n",
    "           save=False)"
   ]
  },
  {
   "cell_type": "code",
   "execution_count": 16,
   "id": "1d53a0e4",
   "metadata": {},
   "outputs": [
    {
     "name": "stdout",
     "output_type": "stream",
     "text": [
      "Fitting 3 folds for each of 14 candidates, totalling 42 fits\n",
      "best parameters for model:\t logreg\n",
      "{'C': 0.2, 'penalty': 'l2'}\n",
      "\n",
      "              precision    recall  f1-score   support\n",
      "\n",
      "           0       0.50      0.28      0.36       537\n",
      "           1       0.47      0.25      0.33       464\n",
      "           2       0.46      0.76      0.58       687\n",
      "\n",
      "    accuracy                           0.47      1688\n",
      "   macro avg       0.48      0.43      0.42      1688\n",
      "weighted avg       0.48      0.47      0.44      1688\n",
      "\n"
     ]
    }
   ],
   "source": [
    "best_model(data=data,\n",
    "           model_name='logreg',\n",
    "           vec_name='tfidf',\n",
    "           balancing='each',\n",
    "           topic_feature=True,\n",
    "           save=False)"
   ]
  },
  {
   "cell_type": "code",
   "execution_count": 17,
   "id": "b6641fea",
   "metadata": {},
   "outputs": [
    {
     "name": "stdout",
     "output_type": "stream",
     "text": [
      "Fitting 3 folds for each of 36 candidates, totalling 108 fits\n",
      "best parameters for model:\t xgboost\n",
      "{'eta': 0.5, 'gamma': 0.5, 'max_depth': 3}\n",
      "\n",
      "              precision    recall  f1-score   support\n",
      "\n",
      "           0       0.51      0.25      0.34       562\n",
      "           1       0.41      0.22      0.28       451\n",
      "           2       0.44      0.75      0.55       675\n",
      "\n",
      "    accuracy                           0.44      1688\n",
      "   macro avg       0.45      0.41      0.39      1688\n",
      "weighted avg       0.45      0.44      0.41      1688\n",
      "\n"
     ]
    }
   ],
   "source": [
    "best_model(data=data,\n",
    "           model_name='xgboost',\n",
    "           vec_name='tfidf',\n",
    "           balancing='all',\n",
    "           topic_feature=True,\n",
    "           save=False)"
   ]
  },
  {
   "cell_type": "code",
   "execution_count": 18,
   "id": "d874604f",
   "metadata": {},
   "outputs": [
    {
     "name": "stdout",
     "output_type": "stream",
     "text": [
      "Fitting 3 folds for each of 36 candidates, totalling 108 fits\n",
      "best parameters for model:\t xgboost\n",
      "{'eta': 0.2, 'gamma': 1, 'max_depth': 3}\n",
      "\n",
      "              precision    recall  f1-score   support\n",
      "\n",
      "           0       0.48      0.25      0.33       533\n",
      "           1       0.47      0.17      0.25       488\n",
      "           2       0.43      0.79      0.56       667\n",
      "\n",
      "    accuracy                           0.44      1688\n",
      "   macro avg       0.46      0.40      0.38      1688\n",
      "weighted avg       0.46      0.44      0.39      1688\n",
      "\n"
     ]
    }
   ],
   "source": [
    "best_model(data=data,\n",
    "           model_name='xgboost',\n",
    "           vec_name='tfidf',\n",
    "           balancing='each',\n",
    "           topic_feature=True,\n",
    "           save=False)"
   ]
  }
 ],
 "metadata": {
  "kernelspec": {
   "display_name": "Python 3 (ipykernel)",
   "language": "python",
   "name": "python3"
  },
  "language_info": {
   "codemirror_mode": {
    "name": "ipython",
    "version": 3
   },
   "file_extension": ".py",
   "mimetype": "text/x-python",
   "name": "python",
   "nbconvert_exporter": "python",
   "pygments_lexer": "ipython3",
   "version": "3.8.12"
  }
 },
 "nbformat": 4,
 "nbformat_minor": 5
}
