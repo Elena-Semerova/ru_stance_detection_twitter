{
 "cells": [
  {
   "cell_type": "markdown",
   "metadata": {
    "id": "4dxaMOql1k4-"
   },
   "source": [
    "### imports"
   ]
  },
  {
   "cell_type": "code",
   "execution_count": 1,
   "metadata": {
    "execution": {
     "iopub.execute_input": "2022-05-18T01:21:00.630858Z",
     "iopub.status.busy": "2022-05-18T01:21:00.630391Z",
     "iopub.status.idle": "2022-05-18T01:21:07.870488Z",
     "shell.execute_reply": "2022-05-18T01:21:07.869765Z",
     "shell.execute_reply.started": "2022-05-18T01:21:00.630785Z"
    },
    "id": "29c203b7"
   },
   "outputs": [],
   "source": [
    "import pandas as pd\n",
    "\n",
    "from bert import training"
   ]
  },
  {
   "cell_type": "markdown",
   "metadata": {},
   "source": [
    "### read data"
   ]
  },
  {
   "cell_type": "code",
   "execution_count": 2,
   "metadata": {
    "execution": {
     "iopub.execute_input": "2022-05-18T01:21:34.528880Z",
     "iopub.status.busy": "2022-05-18T01:21:34.528308Z",
     "iopub.status.idle": "2022-05-18T01:21:34.696952Z",
     "shell.execute_reply": "2022-05-18T01:21:34.696281Z",
     "shell.execute_reply.started": "2022-05-18T01:21:34.528846Z"
    },
    "id": "cWLPF8ekuDzi",
    "outputId": "ce3ddcea-2dd7-443c-e873-c358ddccfd0b"
   },
   "outputs": [],
   "source": [
    "data = pd.read_csv('../input/sdrutwi/preprocess_all_data_final.csv')"
   ]
  },
  {
   "cell_type": "markdown",
   "metadata": {},
   "source": [
    "### train"
   ]
  },
  {
   "cell_type": "code",
   "execution_count": 3,
   "metadata": {
    "execution": {
     "iopub.execute_input": "2022-05-18T01:21:34.698851Z",
     "iopub.status.busy": "2022-05-18T01:21:34.698361Z",
     "iopub.status.idle": "2022-05-18T01:52:18.633533Z",
     "shell.execute_reply": "2022-05-18T01:52:18.632001Z",
     "shell.execute_reply.started": "2022-05-18T01:21:34.698814Z"
    },
    "id": "9v_q7sx_wsbU",
    "outputId": "90c8f246-2025-47d2-f7c6-c3a8f7fb704a"
   },
   "outputs": [
    {
     "name": "stdout",
     "output_type": "stream",
     "text": [
      "MAX_LEN_train:\t 112\n",
      "MAX_LEN_valid:\t 71\n",
      "\n",
      "Epoch  1/10\n",
      "-------------------------\n"
     ]
    },
    {
     "name": "stderr",
     "output_type": "stream",
     "text": [
      "TRAIN: 100%|██████████| 507/507 [02:58<00:00,  2.83it/s]\n",
      "EVALUATION: 100%|██████████| 53/53 [00:03<00:00, 13.87it/s]\n"
     ]
    },
    {
     "name": "stdout",
     "output_type": "stream",
     "text": [
      "Train loss 1.0873 accuracy 0.4106\n",
      "Valid loss 4.9665 accuracy 0.4727\n",
      "Epoch  2/10\n",
      "-------------------------\n"
     ]
    },
    {
     "name": "stderr",
     "output_type": "stream",
     "text": [
      "TRAIN: 100%|██████████| 507/507 [02:58<00:00,  2.84it/s]\n",
      "EVALUATION: 100%|██████████| 53/53 [00:03<00:00, 13.46it/s]\n"
     ]
    },
    {
     "name": "stdout",
     "output_type": "stream",
     "text": [
      "Train loss 0.9740 accuracy 0.5306\n",
      "Valid loss 4.2342 accuracy 0.3318\n",
      "Epoch  3/10\n",
      "-------------------------\n"
     ]
    },
    {
     "name": "stderr",
     "output_type": "stream",
     "text": [
      "TRAIN: 100%|██████████| 507/507 [02:58<00:00,  2.84it/s]\n",
      "EVALUATION: 100%|██████████| 53/53 [00:03<00:00, 13.82it/s]\n"
     ]
    },
    {
     "name": "stdout",
     "output_type": "stream",
     "text": [
      "Train loss 0.7819 accuracy 0.6668\n",
      "Valid loss 3.6361 accuracy 0.3412\n",
      "Epoch  4/10\n",
      "-------------------------\n"
     ]
    },
    {
     "name": "stderr",
     "output_type": "stream",
     "text": [
      "TRAIN: 100%|██████████| 507/507 [02:59<00:00,  2.83it/s]\n",
      "EVALUATION: 100%|██████████| 53/53 [00:03<00:00, 13.88it/s]\n"
     ]
    },
    {
     "name": "stdout",
     "output_type": "stream",
     "text": [
      "Train loss 0.5536 accuracy 0.7794\n",
      "Valid loss 3.0828 accuracy 0.2690\n",
      "Epoch  5/10\n",
      "-------------------------\n"
     ]
    },
    {
     "name": "stderr",
     "output_type": "stream",
     "text": [
      "TRAIN: 100%|██████████| 507/507 [02:59<00:00,  2.82it/s]\n",
      "EVALUATION: 100%|██████████| 53/53 [00:03<00:00, 13.67it/s]\n"
     ]
    },
    {
     "name": "stdout",
     "output_type": "stream",
     "text": [
      "Train loss 0.3759 accuracy 0.8577\n",
      "Valid loss 2.7127 accuracy 0.3566\n",
      "Epoch  6/10\n",
      "-------------------------\n"
     ]
    },
    {
     "name": "stderr",
     "output_type": "stream",
     "text": [
      "TRAIN: 100%|██████████| 507/507 [02:59<00:00,  2.82it/s]\n",
      "EVALUATION: 100%|██████████| 53/53 [00:03<00:00, 13.89it/s]\n"
     ]
    },
    {
     "name": "stdout",
     "output_type": "stream",
     "text": [
      "Train loss 0.2616 accuracy 0.9062\n",
      "Valid loss 2.5102 accuracy 0.2796\n",
      "Epoch  7/10\n",
      "-------------------------\n"
     ]
    },
    {
     "name": "stderr",
     "output_type": "stream",
     "text": [
      "TRAIN: 100%|██████████| 507/507 [03:00<00:00,  2.82it/s]\n",
      "EVALUATION: 100%|██████████| 53/53 [00:03<00:00, 13.76it/s]\n"
     ]
    },
    {
     "name": "stdout",
     "output_type": "stream",
     "text": [
      "Train loss 0.1832 accuracy 0.9343\n",
      "Valid loss 2.4465 accuracy 0.3377\n",
      "Epoch  8/10\n",
      "-------------------------\n"
     ]
    },
    {
     "name": "stderr",
     "output_type": "stream",
     "text": [
      "TRAIN: 100%|██████████| 507/507 [02:59<00:00,  2.82it/s]\n",
      "EVALUATION: 100%|██████████| 53/53 [00:03<00:00, 13.86it/s]\n"
     ]
    },
    {
     "name": "stdout",
     "output_type": "stream",
     "text": [
      "Train loss 0.1373 accuracy 0.9535\n",
      "Valid loss 2.3808 accuracy 0.3371\n",
      "Epoch  9/10\n",
      "-------------------------\n"
     ]
    },
    {
     "name": "stderr",
     "output_type": "stream",
     "text": [
      "TRAIN: 100%|██████████| 507/507 [03:00<00:00,  2.82it/s]\n",
      "EVALUATION: 100%|██████████| 53/53 [00:03<00:00, 13.70it/s]\n"
     ]
    },
    {
     "name": "stdout",
     "output_type": "stream",
     "text": [
      "Train loss 0.1147 accuracy 0.9631\n",
      "Valid loss 2.2608 accuracy 0.3377\n",
      "Epoch 10/10\n",
      "-------------------------\n"
     ]
    },
    {
     "name": "stderr",
     "output_type": "stream",
     "text": [
      "TRAIN: 100%|██████████| 507/507 [03:00<00:00,  2.81it/s]\n",
      "EVALUATION: 100%|██████████| 53/53 [00:03<00:00, 13.91it/s]\n"
     ]
    },
    {
     "name": "stdout",
     "output_type": "stream",
     "text": [
      "Train loss 0.0871 accuracy 0.9704\n",
      "Valid loss 2.0963 accuracy 0.3495\n",
      "              precision    recall  f1-score   support\n",
      "\n",
      "     against       0.37      0.43      0.40       504\n",
      "       favor       0.36      0.39      0.37       484\n",
      "     neutral       0.47      0.39      0.43       700\n",
      "\n",
      "    accuracy                           0.40      1688\n",
      "   macro avg       0.40      0.40      0.40      1688\n",
      "weighted avg       0.41      0.40      0.40      1688\n",
      "\n"
     ]
    }
   ],
   "source": [
    "training(data=data,\n",
    "         batch_size=32,\n",
    "         epochs=10,\n",
    "         learning_rate_optimizer=2e-5,\n",
    "         n_classes=3,\n",
    "         include_topics=False, \n",
    "         balancing='all')"
   ]
  },
  {
   "cell_type": "code",
   "execution_count": 4,
   "metadata": {
    "execution": {
     "iopub.execute_input": "2022-05-18T01:52:18.635372Z",
     "iopub.status.busy": "2022-05-18T01:52:18.635115Z",
     "iopub.status.idle": "2022-05-18T02:25:29.795443Z",
     "shell.execute_reply": "2022-05-18T02:25:29.794707Z",
     "shell.execute_reply.started": "2022-05-18T01:52:18.635338Z"
    }
   },
   "outputs": [
    {
     "name": "stdout",
     "output_type": "stream",
     "text": [
      "MAX_LEN_train:\t 119\n",
      "MAX_LEN_valid:\t 99\n",
      "\n",
      "Epoch  1/10\n",
      "-------------------------\n"
     ]
    },
    {
     "name": "stderr",
     "output_type": "stream",
     "text": [
      "TRAIN: 100%|██████████| 510/510 [03:10<00:00,  2.68it/s]\n",
      "EVALUATION: 100%|██████████| 53/53 [00:05<00:00,  9.70it/s]\n"
     ]
    },
    {
     "name": "stdout",
     "output_type": "stream",
     "text": [
      "Train loss 0.8433 accuracy 0.6381\n",
      "Valid loss 5.9504 accuracy 0.3934\n",
      "Epoch  2/10\n",
      "-------------------------\n"
     ]
    },
    {
     "name": "stderr",
     "output_type": "stream",
     "text": [
      "TRAIN: 100%|██████████| 510/510 [03:10<00:00,  2.68it/s]\n",
      "EVALUATION: 100%|██████████| 53/53 [00:05<00:00,  9.55it/s]\n"
     ]
    },
    {
     "name": "stdout",
     "output_type": "stream",
     "text": [
      "Train loss 0.4560 accuracy 0.8317\n",
      "Valid loss 5.1503 accuracy 0.4011\n",
      "Epoch  3/10\n",
      "-------------------------\n"
     ]
    },
    {
     "name": "stderr",
     "output_type": "stream",
     "text": [
      "TRAIN: 100%|██████████| 510/510 [03:10<00:00,  2.68it/s]\n",
      "EVALUATION: 100%|██████████| 53/53 [00:05<00:00,  9.68it/s]\n"
     ]
    },
    {
     "name": "stdout",
     "output_type": "stream",
     "text": [
      "Train loss 0.2668 accuracy 0.9089\n",
      "Valid loss 4.5063 accuracy 0.2838\n",
      "Epoch  4/10\n",
      "-------------------------\n"
     ]
    },
    {
     "name": "stderr",
     "output_type": "stream",
     "text": [
      "TRAIN: 100%|██████████| 510/510 [03:10<00:00,  2.68it/s]\n",
      "EVALUATION: 100%|██████████| 53/53 [00:05<00:00,  9.78it/s]\n"
     ]
    },
    {
     "name": "stdout",
     "output_type": "stream",
     "text": [
      "Train loss 0.1822 accuracy 0.9406\n",
      "Valid loss 4.2482 accuracy 0.3152\n",
      "Epoch  5/10\n",
      "-------------------------\n"
     ]
    },
    {
     "name": "stderr",
     "output_type": "stream",
     "text": [
      "TRAIN: 100%|██████████| 510/510 [03:10<00:00,  2.67it/s]\n",
      "EVALUATION: 100%|██████████| 53/53 [00:05<00:00,  9.75it/s]\n"
     ]
    },
    {
     "name": "stdout",
     "output_type": "stream",
     "text": [
      "Train loss 0.1228 accuracy 0.9614\n",
      "Valid loss 3.9314 accuracy 0.3004\n",
      "Epoch  6/10\n",
      "-------------------------\n"
     ]
    },
    {
     "name": "stderr",
     "output_type": "stream",
     "text": [
      "TRAIN: 100%|██████████| 510/510 [03:10<00:00,  2.67it/s]\n",
      "EVALUATION: 100%|██████████| 53/53 [00:05<00:00,  9.71it/s]\n"
     ]
    },
    {
     "name": "stdout",
     "output_type": "stream",
     "text": [
      "Train loss 0.0982 accuracy 0.9725\n",
      "Valid loss 3.7615 accuracy 0.3246\n",
      "Epoch  7/10\n",
      "-------------------------\n"
     ]
    },
    {
     "name": "stderr",
     "output_type": "stream",
     "text": [
      "TRAIN: 100%|██████████| 510/510 [03:10<00:00,  2.67it/s]\n",
      "EVALUATION: 100%|██████████| 53/53 [00:05<00:00,  9.69it/s]\n"
     ]
    },
    {
     "name": "stdout",
     "output_type": "stream",
     "text": [
      "Train loss 0.0843 accuracy 0.9780\n",
      "Valid loss 3.6564 accuracy 0.3655\n",
      "Epoch  8/10\n",
      "-------------------------\n"
     ]
    },
    {
     "name": "stderr",
     "output_type": "stream",
     "text": [
      "TRAIN: 100%|██████████| 510/510 [03:10<00:00,  2.67it/s]\n",
      "EVALUATION: 100%|██████████| 53/53 [00:05<00:00,  9.72it/s]\n"
     ]
    },
    {
     "name": "stdout",
     "output_type": "stream",
     "text": [
      "Train loss 0.0671 accuracy 0.9826\n",
      "Valid loss 3.5044 accuracy 0.3300\n",
      "Epoch  9/10\n",
      "-------------------------\n"
     ]
    },
    {
     "name": "stderr",
     "output_type": "stream",
     "text": [
      "TRAIN: 100%|██████████| 510/510 [03:10<00:00,  2.67it/s]\n",
      "EVALUATION: 100%|██████████| 53/53 [00:05<00:00,  9.78it/s]\n"
     ]
    },
    {
     "name": "stdout",
     "output_type": "stream",
     "text": [
      "Train loss 0.0471 accuracy 0.9888\n",
      "Valid loss 3.4293 accuracy 0.3477\n",
      "Epoch 10/10\n",
      "-------------------------\n"
     ]
    },
    {
     "name": "stderr",
     "output_type": "stream",
     "text": [
      "TRAIN: 100%|██████████| 510/510 [03:10<00:00,  2.68it/s]\n",
      "EVALUATION: 100%|██████████| 53/53 [00:05<00:00,  9.79it/s]\n"
     ]
    },
    {
     "name": "stdout",
     "output_type": "stream",
     "text": [
      "Train loss 0.0426 accuracy 0.9901\n",
      "Valid loss 3.3185 accuracy 0.3353\n",
      "              precision    recall  f1-score   support\n",
      "\n",
      "     against       0.74      0.75      0.74       560\n",
      "       favor       0.68      0.74      0.71       457\n",
      "     neutral       0.72      0.68      0.70       671\n",
      "\n",
      "    accuracy                           0.72      1688\n",
      "   macro avg       0.72      0.72      0.72      1688\n",
      "weighted avg       0.72      0.72      0.72      1688\n",
      "\n"
     ]
    }
   ],
   "source": [
    "training(data=data,\n",
    "         batch_size=32,\n",
    "         epochs=10,\n",
    "         learning_rate_optimizer=2e-5,\n",
    "         n_classes=3,\n",
    "         include_topics=True, \n",
    "         balancing='all')"
   ]
  }
 ],
 "metadata": {
  "kernelspec": {
   "display_name": "Python 3 (ipykernel)",
   "language": "python",
   "name": "python3"
  },
  "language_info": {
   "codemirror_mode": {
    "name": "ipython",
    "version": 3
   },
   "file_extension": ".py",
   "mimetype": "text/x-python",
   "name": "python",
   "nbconvert_exporter": "python",
   "pygments_lexer": "ipython3",
   "version": "3.8.12"
  }
 },
 "nbformat": 4,
 "nbformat_minor": 4
}
