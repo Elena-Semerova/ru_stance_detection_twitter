{
 "cells": [
  {
   "cell_type": "code",
   "execution_count": 1,
   "id": "f001b3e4",
   "metadata": {},
   "outputs": [
    {
     "name": "stdout",
     "output_type": "stream",
     "text": [
      "Cloning into 'ru_stance_detection_twitter'...\n",
      "remote: Enumerating objects: 111, done.\u001b[K\n",
      "remote: Counting objects: 100% (111/111), done.\u001b[K\n",
      "remote: Compressing objects: 100% (96/96), done.\u001b[K\n",
      "remote: Total 111 (delta 24), reused 0 (delta 0), pack-reused 0\u001b[K\n",
      "Receiving objects: 100% (111/111), 46.85 KiB | 872.00 KiB/s, done.\n",
      "Resolving deltas: 100% (24/24), done.\n"
     ]
    }
   ],
   "source": [
    "!git clone https://github.com/Elena-Semerova/ru_stance_detection_twitter"
   ]
  },
  {
   "cell_type": "code",
   "execution_count": 2,
   "id": "c5b2db85",
   "metadata": {},
   "outputs": [],
   "source": [
    "import pandas as pd\n",
    "\n",
    "from ru_stance_detection_twitter.data.collection.data_config import *\n",
    "from ru_stance_detection_twitter.data.preprocessing.preprocess import *\n",
    "from ru_stance_detection_twitter.data.preprocessing.visualize import *"
   ]
  },
  {
   "cell_type": "code",
   "execution_count": 3,
   "id": "b88ba8eb",
   "metadata": {},
   "outputs": [],
   "source": [
    "END_OF_PATH = '_all_data.csv'"
   ]
  },
  {
   "cell_type": "code",
   "execution_count": 4,
   "id": "803bb98d",
   "metadata": {},
   "outputs": [],
   "source": [
    "data_cancel_culture = pd.read_csv('data/' + TOPICS[0] + END_OF_PATH)\n",
    "data_feminism = pd.read_csv('data/' + TOPICS[1] + END_OF_PATH)\n",
    "data_lgbtq_plus = pd.read_csv('data/' + TOPICS[2] + END_OF_PATH)\n",
    "data_ageism = pd.read_csv('data/' + TOPICS[3] + END_OF_PATH)\n",
    "data_lookism = pd.read_csv('data/' + TOPICS[4] + END_OF_PATH)"
   ]
  },
  {
   "cell_type": "code",
   "execution_count": 5,
   "id": "9991c046",
   "metadata": {},
   "outputs": [],
   "source": [
    "name_data_dict = {\n",
    "    TOPICS[0]: data_cancel_culture,\n",
    "    TOPICS[1]: data_feminism,\n",
    "    TOPICS[2]: data_lgbtq_plus,\n",
    "    TOPICS[3]: data_ageism,\n",
    "    TOPICS[4]: data_lookism\n",
    "}"
   ]
  },
  {
   "cell_type": "code",
   "execution_count": 6,
   "id": "416c5efc",
   "metadata": {},
   "outputs": [
    {
     "name": "stdout",
     "output_type": "stream",
     "text": [
      "For topic:  cancel_culture\n",
      "Cleaning is done\n",
      "Saving is done\n",
      "\n",
      "For topic:  feminism\n",
      "Cleaning is done\n",
      "Saving is done\n",
      "\n",
      "For topic:  lgbtq_plus\n",
      "Cleaning is done\n",
      "Saving is done\n",
      "\n",
      "For topic:  ageism\n",
      "Cleaning is done\n",
      "Saving is done\n",
      "\n",
      "For topic:  lookism\n",
      "Cleaning is done\n",
      "Saving is done\n",
      "\n"
     ]
    }
   ],
   "source": [
    "for topic_name, data in name_data_dict.items():\n",
    "    print('For topic: ', topic_name)\n",
    "    data = preprocess(data, topic_name, save=True)\n",
    "    print()"
   ]
  }
 ],
 "metadata": {
  "kernelspec": {
   "display_name": "Python 3 (ipykernel)",
   "language": "python",
   "name": "python3"
  },
  "language_info": {
   "codemirror_mode": {
    "name": "ipython",
    "version": 3
   },
   "file_extension": ".py",
   "mimetype": "text/x-python",
   "name": "python",
   "nbconvert_exporter": "python",
   "pygments_lexer": "ipython3",
   "version": "3.8.12"
  }
 },
 "nbformat": 4,
 "nbformat_minor": 5
}
