{
 "cells": [
  {
   "cell_type": "markdown",
   "id": "0a08dd05",
   "metadata": {},
   "source": [
    "### imports"
   ]
  },
  {
   "cell_type": "code",
   "execution_count": 1,
   "id": "236a69aa",
   "metadata": {},
   "outputs": [
    {
     "name": "stdout",
     "output_type": "stream",
     "text": [
      "Cloning into 'ru_stance_detection_twitter'...\n",
      "remote: Enumerating objects: 166, done.\u001b[K\n",
      "remote: Counting objects: 100% (166/166), done.\u001b[K\n",
      "remote: Compressing objects: 100% (151/151), done.\u001b[K\n",
      "remote: Total 166 (delta 48), reused 0 (delta 0), pack-reused 0\u001b[K\n",
      "Receiving objects: 100% (166/166), 260.52 KiB | 1.36 MiB/s, done.\n",
      "Resolving deltas: 100% (48/48), done.\n"
     ]
    }
   ],
   "source": [
    "!git clone https://github.com/Elena-Semerova/ru_stance_detection_twitter"
   ]
  },
  {
   "cell_type": "code",
   "execution_count": 2,
   "id": "44598570",
   "metadata": {},
   "outputs": [],
   "source": [
    "import pandas as pd\n",
    "import numpy as np\n",
    "import matplotlib.pyplot as plt\n",
    "import seaborn as sns\n",
    "\n",
    "%matplotlib inline\n",
    "\n",
    "sns.set(style=\"darkgrid\")\n",
    "\n",
    "from ru_stance_detection_twitter.data.collection.data_config import *\n",
    "from ru_stance_detection_twitter.data.preprocessing.preprocess import *"
   ]
  },
  {
   "cell_type": "markdown",
   "id": "8c2c0030",
   "metadata": {},
   "source": [
    "### read data"
   ]
  },
  {
   "cell_type": "code",
   "execution_count": 3,
   "id": "10d8e581",
   "metadata": {},
   "outputs": [],
   "source": [
    "END_OF_PATH = '_all_data.csv'"
   ]
  },
  {
   "cell_type": "code",
   "execution_count": 4,
   "id": "c260a9d5",
   "metadata": {},
   "outputs": [],
   "source": [
    "data_cancel_culture = pd.read_csv('data/' + TOPICS[0] + END_OF_PATH)\n",
    "data_feminism = pd.read_csv('data/' + TOPICS[1] + END_OF_PATH)\n",
    "data_lgbtq_plus = pd.read_csv('data/' + TOPICS[2] + END_OF_PATH)\n",
    "data_ageism = pd.read_csv('data/' + TOPICS[3] + END_OF_PATH)\n",
    "data_lookism = pd.read_csv('data/' + TOPICS[4] + END_OF_PATH)"
   ]
  },
  {
   "cell_type": "code",
   "execution_count": 5,
   "id": "fb635d3e",
   "metadata": {},
   "outputs": [],
   "source": [
    "name_data_dict = {\n",
    "    TOPICS[0]: data_cancel_culture,\n",
    "    TOPICS[1]: data_feminism,\n",
    "    TOPICS[2]: data_lgbtq_plus,\n",
    "    TOPICS[3]: data_ageism,\n",
    "    TOPICS[4]: data_lookism\n",
    "}"
   ]
  },
  {
   "cell_type": "markdown",
   "id": "08829f06",
   "metadata": {},
   "source": [
    "### clean data"
   ]
  },
  {
   "cell_type": "code",
   "execution_count": 6,
   "id": "925abd6f",
   "metadata": {},
   "outputs": [
    {
     "name": "stdout",
     "output_type": "stream",
     "text": [
      "For topic:  cancel_culture\n",
      "\tAll data shape:  (15962, 6)\n",
      "\tCleaning is done\n",
      "\tSaving is done\n",
      "\tCleaned data shape:  (14719, 4)\n",
      "\n",
      "For topic:  feminism\n",
      "\tAll data shape:  (525356, 6)\n",
      "\tCleaning is done\n",
      "\tSaving is done\n",
      "\tCleaned data shape:  (471968, 4)\n",
      "\n",
      "For topic:  lgbtq_plus\n",
      "\tAll data shape:  (1665606, 6)\n",
      "\tCleaning is done\n",
      "\tSaving is done\n",
      "\tCleaned data shape:  (1445593, 4)\n",
      "\n",
      "For topic:  ageism\n",
      "\tAll data shape:  (16877, 6)\n",
      "\tCleaning is done\n",
      "\tSaving is done\n",
      "\tCleaned data shape:  (15123, 4)\n",
      "\n",
      "For topic:  lookism\n",
      "\tAll data shape:  (14586, 6)\n",
      "\tCleaning is done\n",
      "\tSaving is done\n",
      "\tCleaned data shape:  (13525, 4)\n",
      "\n"
     ]
    }
   ],
   "source": [
    "for topic_name, data in name_data_dict.items():\n",
    "    print('For topic: ', topic_name)\n",
    "    print('\\tAll data shape: ', data.shape)\n",
    "    data = preprocess(data, topic_name, save=True)\n",
    "    print('\\tCleaned data shape: ', data.shape)\n",
    "    print()"
   ]
  },
  {
   "cell_type": "markdown",
   "id": "1a16a413",
   "metadata": {},
   "source": [
    "### look on shapes of dataframes"
   ]
  },
  {
   "cell_type": "code",
   "execution_count": 7,
   "id": "13470f34",
   "metadata": {},
   "outputs": [],
   "source": [
    "NEW_END_OF_PATH = '_clean.csv'"
   ]
  },
  {
   "cell_type": "code",
   "execution_count": 8,
   "id": "2b1309bb",
   "metadata": {},
   "outputs": [],
   "source": [
    "data_cancel_culture = pd.read_csv('data/' + TOPICS[0] + END_OF_PATH)\n",
    "data_feminism = pd.read_csv('data/' + TOPICS[1] + END_OF_PATH)\n",
    "data_lgbtq_plus = pd.read_csv('data/' + TOPICS[2] + END_OF_PATH)\n",
    "data_ageism = pd.read_csv('data/' + TOPICS[3] + END_OF_PATH)\n",
    "data_lookism = pd.read_csv('data/' + TOPICS[4] + END_OF_PATH)\n",
    "\n",
    "data_cancel_culture_clean = pd.read_csv('data/' + TOPICS[0] + NEW_END_OF_PATH)\n",
    "data_feminism_clean = pd.read_csv('data/' + TOPICS[1] + NEW_END_OF_PATH)\n",
    "data_lgbtq_plus_clean = pd.read_csv('data/' + TOPICS[2] + NEW_END_OF_PATH)\n",
    "data_ageism_clean = pd.read_csv('data/' + TOPICS[3] + NEW_END_OF_PATH)\n",
    "data_lookism_clean = pd.read_csv('data/' + TOPICS[4] + NEW_END_OF_PATH)"
   ]
  },
  {
   "cell_type": "code",
   "execution_count": 9,
   "id": "da322d44",
   "metadata": {},
   "outputs": [
    {
     "data": {
      "image/png": "[encoded data removed]",
      "text/plain": [
       "<Figure size 864x504 with 1 Axes>"
      ]
     },
     "metadata": {},
     "output_type": "display_data"
    }
   ],
   "source": [
    "x = ['cancel culture', 'feminism', 'lgbtq+', 'ageism', 'lookism']\n",
    "x1 = np.arange(1, 6) - 0.2\n",
    "x2 = np.arange(1, 6) + 0.2\n",
    "\n",
    "y = [data_cancel_culture.shape[0],\n",
    "     data_feminism.shape[0],\n",
    "     data_lgbtq_plus.shape[0],\n",
    "     data_ageism.shape[0],\n",
    "     data_lookism.shape[0]]\n",
    "\n",
    "y_log = np.log1p(y)\n",
    "\n",
    "y_clean = [data_cancel_culture_clean.shape[0],\n",
    "           data_feminism_clean.shape[0],\n",
    "           data_lgbtq_plus_clean.shape[0],\n",
    "           data_ageism_clean.shape[0],\n",
    "           data_lookism_clean.shape[0]]\n",
    "\n",
    "y_clean_log = np.log1p(y_clean)\n",
    "\n",
    "fig, ax = plt.subplots()\n",
    "\n",
    "ax.bar(x1, y_log, width = 0.4, color='sandybrown', label='all data')\n",
    "ax.bar(x2, y_clean_log, width = 0.4, color='mediumseagreen', label='cleaned data')\n",
    "\n",
    "plt.xticks([i for i in range(1, 6)], x)\n",
    "fig.set_figwidth(12)\n",
    "fig.set_figheight(7) \n",
    "plt.title('log(shapes) of clean dataframes')\n",
    "plt.legend()\n",
    "plt.show()"
   ]
  }
 ],
 "metadata": {
  "kernelspec": {
   "display_name": "Python 3 (ipykernel)",
   "language": "python",
   "name": "python3"
  },
  "language_info": {
   "codemirror_mode": {
    "name": "ipython",
    "version": 3
   },
   "file_extension": ".py",
   "mimetype": "text/x-python",
   "name": "python",
   "nbconvert_exporter": "python",
   "pygments_lexer": "ipython3",
   "version": "3.8.12"
  }
 },
 "nbformat": 4,
 "nbformat_minor": 5
}
