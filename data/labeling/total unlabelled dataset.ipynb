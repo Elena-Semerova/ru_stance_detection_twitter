{
 "cells": [
  {
   "cell_type": "markdown",
   "id": "5c77d632",
   "metadata": {},
   "source": [
    "### imports"
   ]
  },
  {
   "cell_type": "code",
   "execution_count": 1,
   "id": "97dc4a40",
   "metadata": {},
   "outputs": [
    {
     "name": "stdout",
     "output_type": "stream",
     "text": [
      "Cloning into 'ru_stance_detection_twitter'...\n",
      "remote: Enumerating objects: 186, done.\u001b[K\n",
      "remote: Counting objects: 100% (186/186), done.\u001b[K\n",
      "remote: Compressing objects: 100% (170/170), done.\u001b[K\n",
      "remote: Total 186 (delta 54), reused 0 (delta 0), pack-reused 0\u001b[K\n",
      "Receiving objects: 100% (186/186), 272.12 KiB | 1.35 MiB/s, done.\n",
      "Resolving deltas: 100% (54/54), done.\n"
     ]
    }
   ],
   "source": [
    "!git clone https://github.com/Elena-Semerova/ru_stance_detection_twitter"
   ]
  },
  {
   "cell_type": "code",
   "execution_count": 2,
   "id": "bbd78db8",
   "metadata": {},
   "outputs": [],
   "source": [
    "from ru_stance_detection_twitter.data.labeling.label_config import *\n",
    "from ru_stance_detection_twitter.data.labeling.make_dataset import *"
   ]
  },
  {
   "cell_type": "markdown",
   "id": "5f72ce66",
   "metadata": {},
   "source": [
    "### making total unlabelled dataset"
   ]
  },
  {
   "cell_type": "code",
   "execution_count": 3,
   "id": "109d2c54",
   "metadata": {},
   "outputs": [],
   "source": [
    "data = make_dataset(TOPICS, TOPICS_RU, shuffle=True, save=True)"
   ]
  },
  {
   "cell_type": "code",
   "execution_count": 4,
   "id": "a5783541",
   "metadata": {},
   "outputs": [
    {
     "data": {
      "text/plain": [
       "(1960928, 2)"
      ]
     },
     "execution_count": 4,
     "metadata": {},
     "output_type": "execute_result"
    }
   ],
   "source": [
    "data.shape"
   ]
  },
  {
   "cell_type": "code",
   "execution_count": 5,
   "id": "3b04e883",
   "metadata": {},
   "outputs": [
    {
     "data": {
      "text/html": [
       "<div>\n",
       "<style scoped>\n",
       "    .dataframe tbody tr th:only-of-type {\n",
       "        vertical-align: middle;\n",
       "    }\n",
       "\n",
       "    .dataframe tbody tr th {\n",
       "        vertical-align: top;\n",
       "    }\n",
       "\n",
       "    .dataframe thead th {\n",
       "        text-align: right;\n",
       "    }\n",
       "</style>\n",
       "<table border=\"1\" class=\"dataframe\">\n",
       "  <thead>\n",
       "    <tr style=\"text-align: right;\">\n",
       "      <th></th>\n",
       "      <th>content</th>\n",
       "      <th>topic</th>\n",
       "    </tr>\n",
       "  </thead>\n",
       "  <tbody>\n",
       "    <tr>\n",
       "      <th>0</th>\n",
       "      <td>Быть бисекуалкой это вовремя притворяться лесб...</td>\n",
       "      <td>ЛГБТК+</td>\n",
       "    </tr>\n",
       "    <tr>\n",
       "      <th>1</th>\n",
       "      <td>К: терпеть не могу лгбт, они больные Я: я лгбт...</td>\n",
       "      <td>ЛГБТК+</td>\n",
       "    </tr>\n",
       "    <tr>\n",
       "      <th>2</th>\n",
       "      <td>Но как только мне нужна была поддержка, так я ...</td>\n",
       "      <td>ЛГБТК+</td>\n",
       "    </tr>\n",
       "    <tr>\n",
       "      <th>3</th>\n",
       "      <td>блин, а почему в 21 веке я должна рассказывать...</td>\n",
       "      <td>лукизм</td>\n",
       "    </tr>\n",
       "    <tr>\n",
       "      <th>4</th>\n",
       "      <td>Ой, я неправильно поняла. Подумала что нужно б...</td>\n",
       "      <td>ЛГБТК+</td>\n",
       "    </tr>\n",
       "  </tbody>\n",
       "</table>\n",
       "</div>"
      ],
      "text/plain": [
       "                                             content   topic\n",
       "0  Быть бисекуалкой это вовремя притворяться лесб...  ЛГБТК+\n",
       "1  К: терпеть не могу лгбт, они больные Я: я лгбт...  ЛГБТК+\n",
       "2  Но как только мне нужна была поддержка, так я ...  ЛГБТК+\n",
       "3  блин, а почему в 21 веке я должна рассказывать...  лукизм\n",
       "4  Ой, я неправильно поняла. Подумала что нужно б...  ЛГБТК+"
      ]
     },
     "execution_count": 5,
     "metadata": {},
     "output_type": "execute_result"
    }
   ],
   "source": [
    "data.head()"
   ]
  }
 ],
 "metadata": {
  "kernelspec": {
   "display_name": "Python 3 (ipykernel)",
   "language": "python",
   "name": "python3"
  },
  "language_info": {
   "codemirror_mode": {
    "name": "ipython",
    "version": 3
   },
   "file_extension": ".py",
   "mimetype": "text/x-python",
   "name": "python",
   "nbconvert_exporter": "python",
   "pygments_lexer": "ipython3",
   "version": "3.8.12"
  }
 },
 "nbformat": 4,
 "nbformat_minor": 5
}
