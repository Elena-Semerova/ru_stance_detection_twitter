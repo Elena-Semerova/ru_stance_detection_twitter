{
 "cells": [
  {
   "cell_type": "markdown",
   "id": "8ac166b9",
   "metadata": {},
   "source": [
    "### imports"
   ]
  },
  {
   "cell_type": "code",
   "execution_count": 2,
   "id": "cac33000",
   "metadata": {},
   "outputs": [],
   "source": [
    "import matplotlib.pyplot as plt\n",
    "import seaborn as sns\n",
    "import numpy as np\n",
    "import pandas as pd\n",
    "\n",
    "from data_config import *\n",
    "from collect import *\n",
    "\n",
    "%matplotlib inline\n",
    "\n",
    "sns.set(style=\"darkgrid\")"
   ]
  },
  {
   "cell_type": "markdown",
   "id": "d939fa31",
   "metadata": {},
   "source": [
    "### example for one topic"
   ]
  },
  {
   "cell_type": "code",
   "execution_count": 3,
   "id": "cbf7a0b3",
   "metadata": {},
   "outputs": [],
   "source": [
    "topic = TOPICS[0]\n",
    "date = DATE[7:17]\n",
    "path = CANCEL_CULTURE_KEYWORDS_PATH"
   ]
  },
  {
   "cell_type": "code",
   "execution_count": 4,
   "id": "1afdaa7f",
   "metadata": {},
   "outputs": [
    {
     "name": "stdout",
     "output_type": "stream",
     "text": [
      "Start:\t cancel_culture\n",
      "Date:\t 2022-01-01 - 2022-01-02\n"
     ]
    },
    {
     "name": "stderr",
     "output_type": "stream",
     "text": [
      "100%|███████████████████████████████████████████| 32/32 [00:56<00:00,  1.77s/it]"
     ]
    },
    {
     "name": "stdout",
     "output_type": "stream",
     "text": [
      "Done:\t cancel_culture\n"
     ]
    },
    {
     "name": "stderr",
     "output_type": "stream",
     "text": [
      "\n"
     ]
    }
   ],
   "source": [
    "print('Start:', end='')\n",
    "print('\\t', topic)\n",
    "\n",
    "print('Date:', end='')\n",
    "print('\\t', DATE[7:17], '-', DATE[24:])\n",
    "\n",
    "keywords = []\n",
    "with open(path) as file:\n",
    "    for line in file:\n",
    "        keywords.append(line[:-1])\n",
    "\n",
    "data = make_dataframe(keywords, DATE)\n",
    "data.to_csv('data/' + topic + '_data_' + date + '.csv')\n",
    "print('Done:', end='')\n",
    "print('\\t', topic)"
   ]
  },
  {
   "cell_type": "code",
   "execution_count": 5,
   "id": "5a251f30",
   "metadata": {},
   "outputs": [
    {
     "name": "stdout",
     "output_type": "stream",
     "text": [
      "Examples:\n",
      "\n",
      "@ttaeuriel все дружно кэнселим его в твиттере\n",
      "\n",
      "@star_exploser Ой я этого не знаю честно \n",
      "Не слежу за этим\n",
      "Знаю лишь то что как культуру отмены в сторону Ро постоянно этот факт используют что «это злобное транс соо не пустило создательницу в спецвыпуск»\n",
      "Хотя на сколько знаю не говорилось напрямую почему ее там не будет\n",
      "\n"
     ]
    }
   ],
   "source": [
    "print('Examples:')\n",
    "print()\n",
    "make_examples(data, 2)"
   ]
  },
  {
   "cell_type": "markdown",
   "id": "9854bcb8",
   "metadata": {},
   "source": [
    "### example for all topics"
   ]
  },
  {
   "cell_type": "code",
   "execution_count": 6,
   "id": "76d5a55f",
   "metadata": {},
   "outputs": [
    {
     "name": "stdout",
     "output_type": "stream",
     "text": [
      "Start:\t cancel_culture\n",
      "Date:\t 2022-01-01 - 2022-01-02\n"
     ]
    },
    {
     "name": "stderr",
     "output_type": "stream",
     "text": [
      "100%|███████████████████████████████████████████| 32/32 [00:53<00:00,  1.67s/it]\n"
     ]
    },
    {
     "name": "stdout",
     "output_type": "stream",
     "text": [
      "Done:\t cancel_culture\n",
      "\n",
      "Start:\t feminism\n",
      "Date:\t 2022-01-01 - 2022-01-02\n"
     ]
    },
    {
     "name": "stderr",
     "output_type": "stream",
     "text": [
      "100%|███████████████████████████████████████████| 59/59 [01:44<00:00,  1.78s/it]\n"
     ]
    },
    {
     "name": "stdout",
     "output_type": "stream",
     "text": [
      "Done:\t feminism\n",
      "\n",
      "Start:\t lgbtq_plus\n",
      "Date:\t 2022-01-01 - 2022-01-02\n"
     ]
    },
    {
     "name": "stderr",
     "output_type": "stream",
     "text": [
      "100%|███████████████████████████████████████████| 81/81 [02:35<00:00,  1.92s/it]\n"
     ]
    },
    {
     "name": "stdout",
     "output_type": "stream",
     "text": [
      "Done:\t lgbtq_plus\n",
      "\n",
      "Start:\t ageism\n",
      "Date:\t 2022-01-01 - 2022-01-02\n"
     ]
    },
    {
     "name": "stderr",
     "output_type": "stream",
     "text": [
      "100%|███████████████████████████████████████████| 23/23 [00:38<00:00,  1.67s/it]\n"
     ]
    },
    {
     "name": "stdout",
     "output_type": "stream",
     "text": [
      "Done:\t ageism\n",
      "\n",
      "Start:\t lookism\n",
      "Date:\t 2022-01-01 - 2022-01-02\n"
     ]
    },
    {
     "name": "stderr",
     "output_type": "stream",
     "text": [
      "100%|███████████████████████████████████████████| 55/55 [01:32<00:00,  1.68s/it]"
     ]
    },
    {
     "name": "stdout",
     "output_type": "stream",
     "text": [
      "Done:\t lookism\n",
      "\n"
     ]
    },
    {
     "name": "stderr",
     "output_type": "stream",
     "text": [
      "\n"
     ]
    }
   ],
   "source": [
    "for topic in TOPICS:\n",
    "    print('Start:', end='')\n",
    "    print('\\t', topic)\n",
    "\n",
    "    print('Date:', end='')\n",
    "    print('\\t', DATE[7:17], '-', DATE[24:])\n",
    "\n",
    "    keywords = []\n",
    "    with open(globals()[topic.upper() + '_KEYWORDS_PATH']) as file:\n",
    "        for line in file:\n",
    "            keywords.append(line[:-1])\n",
    "\n",
    "    data = make_dataframe(keywords, DATE)\n",
    "    data.to_csv('data/' + topic + '_data_' + date + '.csv')\n",
    "    print('Done:', end='')\n",
    "    print('\\t', topic)\n",
    "    print()"
   ]
  },
  {
   "cell_type": "markdown",
   "id": "9dbe0d1f",
   "metadata": {},
   "source": [
    "### look on shapes of dataframes"
   ]
  },
  {
   "cell_type": "code",
   "execution_count": 7,
   "id": "a9b2334c",
   "metadata": {},
   "outputs": [],
   "source": [
    "data_cc = pd.read_csv('data/' + TOPICS[0] + '_data_' + date + '.csv')\n",
    "data_fem = pd.read_csv('data/' + TOPICS[1] + '_data_' + date + '.csv')\n",
    "data_lgbt = pd.read_csv('data/' + TOPICS[2] + '_data_' + date + '.csv')\n",
    "data_age = pd.read_csv('data/' + TOPICS[3] + '_data_' + date + '.csv')\n",
    "data_look = pd.read_csv('data/' + TOPICS[4] + '_data_' + date + '.csv')"
   ]
  },
  {
   "cell_type": "code",
   "execution_count": 8,
   "id": "9a9f7dde",
   "metadata": {},
   "outputs": [
    {
     "data": {
      "image/png": "[encoded data removed]",
      "text/plain": [
       "<Figure size 864x504 with 1 Axes>"
      ]
     },
     "metadata": {},
     "output_type": "display_data"
    }
   ],
   "source": [
    "x = ['cancel culture', 'feminism', 'lgbtq+', 'ageism', 'lookism']\n",
    "y = [data_cc.shape[0], data_fem.shape[0], data_lgbt.shape[0], data_age.shape[0], data_look.shape[0]]\n",
    "y_log = np.log1p(y)\n",
    "\n",
    "plt.figure(figsize=(12, 7))\n",
    "\n",
    "plt.bar(range(1, 6), y_log, width = 0.5, color='sandybrown')\n",
    "\n",
    "plt.xticks([i for i in range(1, 6)], x)\n",
    "plt.title('log(shapes) of dataframes (date: ' + DATE[7:17] +' - ' + DATE[24:] +')')\n",
    "plt.show()"
   ]
  }
 ],
 "metadata": {
  "kernelspec": {
   "display_name": "Python 3 (ipykernel)",
   "language": "python",
   "name": "python3"
  },
  "language_info": {
   "codemirror_mode": {
    "name": "ipython",
    "version": 3
   },
   "file_extension": ".py",
   "mimetype": "text/x-python",
   "name": "python",
   "nbconvert_exporter": "python",
   "pygments_lexer": "ipython3",
   "version": "3.8.12"
  }
 },
 "nbformat": 4,
 "nbformat_minor": 5
}
