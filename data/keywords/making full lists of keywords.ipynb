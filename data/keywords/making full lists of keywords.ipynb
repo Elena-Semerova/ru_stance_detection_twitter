{
 "cells": [
  {
   "cell_type": "markdown",
   "id": "e5981249",
   "metadata": {},
   "source": [
    "### imports"
   ]
  },
  {
   "cell_type": "code",
   "execution_count": 1,
   "id": "4d84ad11",
   "metadata": {},
   "outputs": [
    {
     "name": "stdout",
     "output_type": "stream",
     "text": [
      "Cloning into 'ru_stance_detection_twitter'...\n",
      "remote: Enumerating objects: 18, done.\u001b[K\n",
      "remote: Counting objects: 100% (18/18), done.\u001b[K\n",
      "remote: Compressing objects: 100% (13/13), done.\u001b[K\n",
      "Unpacking objects: 100% (18/18), done.\n",
      "remote: Total 18 (delta 1), reused 0 (delta 0), pack-reused 0\u001b[K\n"
     ]
    }
   ],
   "source": [
    "!git clone https://github.com/Elena-Semerova/ru_stance_detection_twitter"
   ]
  },
  {
   "cell_type": "code",
   "execution_count": 2,
   "id": "a5045d3d",
   "metadata": {},
   "outputs": [],
   "source": [
    "import pymorphy2\n",
    "import matplotlib.pyplot as plt\n",
    "import seaborn as sns\n",
    "\n",
    "from ru_stance_detection_twitter.data.keywords.keywords import *\n",
    "from ru_stance_detection_twitter.data.keywords.semi_making import make_keywords\n",
    "\n",
    "%matplotlib inline\n",
    "\n",
    "sns.set(style=\"darkgrid\")"
   ]
  },
  {
   "cell_type": "code",
   "execution_count": 3,
   "id": "d3556f04",
   "metadata": {},
   "outputs": [],
   "source": [
    "morph = pymorphy2.MorphAnalyzer()"
   ]
  },
  {
   "cell_type": "markdown",
   "id": "784bbfa8",
   "metadata": {},
   "source": [
    "### cancel culture"
   ]
  },
  {
   "cell_type": "code",
   "execution_count": 4,
   "id": "e60d010e",
   "metadata": {},
   "outputs": [
    {
     "name": "stdout",
     "output_type": "stream",
     "text": [
      "Need to process:\n",
      "\tкультура отмены,\n",
      "\tкэнсел культура\n"
     ]
    }
   ],
   "source": [
    "keywords_cc, process_cc = make_keywords(KEYWORDS_CANCEL_CULTURE)\n",
    "\n",
    "print('Need to process:\\n\\t', end='')\n",
    "print(*process_cc, sep=',\\n\\t')"
   ]
  },
  {
   "cell_type": "code",
   "execution_count": 5,
   "id": "0394e5ca",
   "metadata": {},
   "outputs": [],
   "source": [
    "first_cc = process_cc[0].split()\n",
    "word_parse_1 = morph.parse(first_cc[0])[0]\n",
    "new_words = list(set([lexem.word for lexem in word_parse_1.lexeme]))\n",
    "\n",
    "for new_word in new_words:\n",
    "    keywords_cc.append(new_word + ' ' + first_cc[1])"
   ]
  },
  {
   "cell_type": "code",
   "execution_count": 6,
   "id": "d8e96633",
   "metadata": {},
   "outputs": [],
   "source": [
    "second_cc = process_cc[1].split()\n",
    "word_parse_2 = morph.parse(second_cc[1])[0]\n",
    "new_words = list(set([lexem.word for lexem in word_parse_2.lexeme]))\n",
    "\n",
    "for new_word in new_words:\n",
    "    keywords_cc.append(second_cc[0] + ' ' + new_word)"
   ]
  },
  {
   "cell_type": "code",
   "execution_count": 7,
   "id": "ed9e61c2",
   "metadata": {},
   "outputs": [
    {
     "name": "stdout",
     "output_type": "stream",
     "text": [
      "Ready:\n",
      "кэнселинг, кэнселлинг, кэнселила, кэнселит, кэнселило, кэнселишь, кэнсели, кэнселим, кэнселю, кэнселил, кэнселили, кэнселят, кэнселите, культуре отмены, культурой отмены, культур отмены, культурами отмены, культуры отмены, культуру отмены, культурам отмены, культура отмены, культурах отмены, культурою отмены, кэнсел культуре, кэнсел культурой, кэнсел культур, кэнсел культурами, кэнсел культуры, кэнсел культуру, кэнсел культурам, кэнсел культура, кэнсел культурах, кэнсел культурою\n"
     ]
    }
   ],
   "source": [
    "print('Ready:\\n', end='')\n",
    "print(*keywords_cc, sep=', ')"
   ]
  },
  {
   "cell_type": "code",
   "execution_count": 8,
   "id": "7cb97564",
   "metadata": {},
   "outputs": [],
   "source": [
    "with open('data/keywords/cancel_cullture_keywords.txt', 'w') as file:\n",
    "    for keyword in keywords_cc:\n",
    "        print(keyword, file=file)"
   ]
  },
  {
   "cell_type": "markdown",
   "id": "c558c414",
   "metadata": {},
   "source": [
    "### feminism"
   ]
  },
  {
   "cell_type": "code",
   "execution_count": 9,
   "id": "058dfb1c",
   "metadata": {},
   "outputs": [
    {
     "name": "stdout",
     "output_type": "stream",
     "text": [
      "Need to process:\n",
      "\tдомашнее насилие,\n",
      "\tправа женщин\n"
     ]
    }
   ],
   "source": [
    "keywords_fem, process_fem = make_keywords(KEYWORDS_FEMINISM)\n",
    "\n",
    "print('Need to process:\\n\\t', end='')\n",
    "print(*process_fem, sep=',\\n\\t')"
   ]
  },
  {
   "cell_type": "code",
   "execution_count": 10,
   "id": "bc9695e4",
   "metadata": {},
   "outputs": [],
   "source": [
    "first_fem = process_fem[0].split()\n",
    "word_parse_1 = morph.parse(first_fem[0])[0]\n",
    "new_words = []\n",
    "\n",
    "for lexem in word_parse_1.lexeme:\n",
    "    if 'ADJF' in lexem.tag and 'sing' in lexem.tag and 'neut' in lexem.tag:\n",
    "        if lexem.word not in new_words:\n",
    "            new_words.append(lexem.word)\n",
    "            word_parse_2 = morph.parse(first_fem[1])[0]\n",
    "            for lexem2 in word_parse_2.lexeme:\n",
    "                if 'sing' in lexem2.tag and 'neut' in lexem2.tag and lexem.tag.case in lexem2.tag:\n",
    "                    keywords_fem.append(lexem.word + ' ' + lexem2.word)"
   ]
  },
  {
   "cell_type": "code",
   "execution_count": 11,
   "id": "f03f4a42",
   "metadata": {},
   "outputs": [],
   "source": [
    "second_fem = process_fem[1].split()\n",
    "word_parse_1 = morph.parse(second_fem[0])[0]\n",
    "new_words = list(set([lexem.word for lexem in word_parse_1.lexeme]))\n",
    "\n",
    "for new_word in new_words:\n",
    "    keywords_fem.append(new_word + ' ' + second_fem[1])"
   ]
  },
  {
   "cell_type": "code",
   "execution_count": 12,
   "id": "7ccb5a63",
   "metadata": {},
   "outputs": [
    {
     "name": "stdout",
     "output_type": "stream",
     "text": [
      "Ready:\n",
      "феминизма, феминизмы, феминизму, феминизмов, феминизмом, феминизмами, феминизм, феминизмам, феминизме, феминизмах, сексизмов, сексизму, сексизмы, сексизме, сексизмами, сексизм, сексизмам, сексизмах, сексизмом, сексизма, патриархате, патриархату, патриархатах, патриархатов, патриархатам, патриархат, патриархаты, патриархатами, патриархата, патриархатом, феминитива, феминитивы, феминитивам, феминитиву, феминитивов, феминитивом, феминитивах, феминитиве, феминитив, феминитивами, домашнее насилие, домашнее насилье, домашнего насилия, домашнего насилья, домашнему насилию, домашнему насилью, домашним насилием, домашним насильем, домашнем насилии, домашнем насилье, домашнем насильи, правами женщин, правах женщин, праву женщин, правом женщин, прав женщин, правам женщин, права женщин, праве женщин, право женщин\n"
     ]
    }
   ],
   "source": [
    "print('Ready:\\n', end='')\n",
    "print(*keywords_fem, sep=', ')"
   ]
  },
  {
   "cell_type": "code",
   "execution_count": 13,
   "id": "dde0d398",
   "metadata": {},
   "outputs": [],
   "source": [
    "with open('data/keywords/feminism_keywords.txt', 'w') as file:\n",
    "    for keyword in keywords_fem:\n",
    "        print(keyword, file=file)"
   ]
  },
  {
   "cell_type": "markdown",
   "id": "0e9de6bf",
   "metadata": {},
   "source": [
    "### LGBTQ+"
   ]
  },
  {
   "cell_type": "code",
   "execution_count": 14,
   "id": "edf46820",
   "metadata": {},
   "outputs": [
    {
     "name": "stdout",
     "output_type": "stream",
     "text": [
      "Need to process:\n",
      "\t\n"
     ]
    }
   ],
   "source": [
    "keywords_lgbt, process_lgbt = make_keywords(KEYWORDS_LGBTQ_PLUS)\n",
    "\n",
    "print('Need to process:\\n\\t', end='')\n",
    "print(*process_lgbt, sep=',\\n\\t')"
   ]
  },
  {
   "cell_type": "code",
   "execution_count": 15,
   "id": "226b1a90",
   "metadata": {},
   "outputs": [
    {
     "name": "stdout",
     "output_type": "stream",
     "text": [
      "Ready:\n",
      "гей, лесби, лесбиянка, лесбиянками, лесбиянкам, лесбиянок, лесбиянкой, лесбиянку, лесбиянкою, лесбиянках, лесбиянки, лесбиянке, бисексуалом, бисексуал, бисексуалов, бисексуалу, бисексуалам, бисексуалах, бисексуале, бисексуалами, бисексуала, бисексуалы, лгбт, гомофобам, гомофобе, гомофобы, гомофобами, гомофобом, гомофоба, гомофоб, гомофобу, гомофобов, гомофобах, гомофобий, гомофобиях, гомофобиею, гомофобией, гомофобиями, гомофобии, гомофобиям, гомофобию, гомофобия, транс, трансов, трансами, трансу, трансом, трансах, транса, трансы, трансе, трансам, трансгендеру, трансгендерах, трансгендеры, трансгендер, трансгендере, трансгендерам, трансгендера, трансгендерами, трансгендеров, трансгендером, асексуалах, асексуал, асексуалу, асексуале, асексуалов, асексуалам, асексуала, асексуалы, асексуалами, асексуалом, пансексуалами, пансексуалом, пансексуалов, пансексуалах, пансексуале, пансексуала, пансексуал, пансексуалам, пансексуалы, пансексуалу\n"
     ]
    }
   ],
   "source": [
    "print('Ready:\\n', end='')\n",
    "print(*keywords_lgbt, sep=', ')"
   ]
  },
  {
   "cell_type": "code",
   "execution_count": 16,
   "id": "c2c893ff",
   "metadata": {},
   "outputs": [],
   "source": [
    "with open('data/keywords/lgbtq_plus_keywords.txt', 'w') as file:\n",
    "    for keyword in keywords_lgbt:\n",
    "        print(keyword, file=file)"
   ]
  },
  {
   "cell_type": "markdown",
   "id": "6108423a",
   "metadata": {},
   "source": [
    "### ageism"
   ]
  },
  {
   "cell_type": "code",
   "execution_count": 17,
   "id": "6c217051",
   "metadata": {},
   "outputs": [
    {
     "name": "stdout",
     "output_type": "stream",
     "text": [
      "Need to process:\n",
      "\tдискриминация по возрасту,\n",
      "\tвозрастная дискриминация\n"
     ]
    }
   ],
   "source": [
    "keywords_age, process_age = make_keywords(KEYWORDS_AGEISM)\n",
    "\n",
    "print('Need to process:\\n\\t', end='')\n",
    "print(*process_age, sep=',\\n\\t')"
   ]
  },
  {
   "cell_type": "code",
   "execution_count": 18,
   "id": "12903ce2",
   "metadata": {},
   "outputs": [],
   "source": [
    "first_age = process_age[0].split()\n",
    "word_parse_1 = morph.parse(first_age[0])[0]\n",
    "new_words = list(set([lexem.word for lexem in word_parse_1.lexeme]))\n",
    "\n",
    "for new_word in new_words:\n",
    "    keywords_age.append(new_word + ' ' + first_age[1] + ' ' + first_age[2])"
   ]
  },
  {
   "cell_type": "code",
   "execution_count": 19,
   "id": "3502890c",
   "metadata": {},
   "outputs": [],
   "source": [
    "second_age = process_age[1].split()\n",
    "word_parse_1 = morph.parse(second_age[0])[0]\n",
    "new_words = []\n",
    "\n",
    "for lexem in word_parse_1.lexeme:\n",
    "    if 'ADJF' in lexem.tag and 'sing' in lexem.tag and 'femn' in lexem.tag:\n",
    "        if lexem.word not in new_words:\n",
    "            new_words.append(lexem.word)\n",
    "            word_parse_2 = morph.parse(second_age[1])[0]\n",
    "            for lexem2 in word_parse_2.lexeme:\n",
    "                if 'sing' in lexem2.tag and 'femn' in lexem2.tag and lexem.tag.case in lexem2.tag:\n",
    "                    keywords_age.append(lexem.word + ' ' + lexem2.word)"
   ]
  },
  {
   "cell_type": "code",
   "execution_count": 20,
   "id": "8e4e14e3",
   "metadata": {},
   "outputs": [
    {
     "name": "stdout",
     "output_type": "stream",
     "text": [
      "Ready:\n",
      "эйджизме, эйджизмом, эйджизмы, эйджизмов, эйджизмам, эйджизмах, эйджизм, эйджизму, эйджизмами, эйджизма, дискриминаций по возрасту, дискриминация по возрасту, дискриминациями по возрасту, дискриминации по возрасту, дискриминацией по возрасту, дискриминацию по возрасту, дискриминациею по возрасту, дискриминациях по возрасту, дискриминациям по возрасту, возрастная дискриминация, возрастной дискриминации, возрастную дискриминацию, возрастною дискриминацией, возрастною дискриминациею\n"
     ]
    }
   ],
   "source": [
    "print('Ready:\\n', end='')\n",
    "print(*keywords_age, sep=', ')"
   ]
  },
  {
   "cell_type": "code",
   "execution_count": 21,
   "id": "4613105a",
   "metadata": {},
   "outputs": [],
   "source": [
    "with open('data/keywords/ageism_keywords.txt', 'w') as file:\n",
    "    for keyword in keywords_age:\n",
    "        print(keyword, file=file)"
   ]
  }
 ],
 "metadata": {
  "kernelspec": {
   "display_name": "Python 3 (ipykernel)",
   "language": "python",
   "name": "python3"
  },
  "language_info": {
   "codemirror_mode": {
    "name": "ipython",
    "version": 3
   },
   "file_extension": ".py",
   "mimetype": "text/x-python",
   "name": "python",
   "nbconvert_exporter": "python",
   "pygments_lexer": "ipython3",
   "version": "3.8.12"
  }
 },
 "nbformat": 4,
 "nbformat_minor": 5
}
