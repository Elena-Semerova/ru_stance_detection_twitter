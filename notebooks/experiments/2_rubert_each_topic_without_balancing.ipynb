{
 "cells": [
  {
   "attachments": {},
   "cell_type": "markdown",
   "metadata": {
    "id": "4dxaMOql1k4-"
   },
   "source": [
    "### imports"
   ]
  },
  {
   "cell_type": "code",
   "execution_count": null,
   "metadata": {},
   "outputs": [],
   "source": [
    "cd ../.."
   ]
  },
  {
   "cell_type": "code",
   "execution_count": 1,
   "metadata": {
    "execution": {
     "iopub.execute_input": "2022-05-18T00:16:10.788679Z",
     "iopub.status.busy": "2022-05-18T00:16:10.788432Z",
     "iopub.status.idle": "2022-05-18T00:16:10.794491Z",
     "shell.execute_reply": "2022-05-18T00:16:10.793832Z",
     "shell.execute_reply.started": "2022-05-18T00:16:10.788652Z"
    },
    "id": "29c203b7"
   },
   "outputs": [],
   "source": [
    "import pandas as pd\n",
    "\n",
    "from src.models.bert import training\n",
    "from src.utils import read_yml_file"
   ]
  },
  {
   "cell_type": "code",
   "execution_count": null,
   "metadata": {},
   "outputs": [],
   "source": [
    "NAME_CONFIG_PATH = \"configs/name_config.yaml\"\n",
    "\n",
    "BATCH_SIZE = 32\n",
    "N_EPOCHS = 5\n",
    "LEARNING_RATE = 2e-5\n",
    "N_CLASSES = 3"
   ]
  },
  {
   "cell_type": "code",
   "execution_count": null,
   "metadata": {},
   "outputs": [],
   "source": [
    "name_config = read_yml_file(NAME_CONFIG_PATH)"
   ]
  },
  {
   "attachments": {},
   "cell_type": "markdown",
   "metadata": {},
   "source": [
    "### read data"
   ]
  },
  {
   "cell_type": "code",
   "execution_count": 2,
   "metadata": {},
   "outputs": [],
   "source": [
    "data_cancel_culture = pd.read_csv(name_config[\"preprocessed_data_cancel_culture_path\"])\n",
    "data_feminism = pd.read_csv(name_config[\"preprocessed_data_feminism_path\"])\n",
    "data_lgbtq_plus = pd.read_csv(name_config[\"preprocessed_data_lgbtq_plus_path\"])\n",
    "data_ageism = pd.read_csv(name_config[\"preprocessed_data_ageism_path\"])\n",
    "data_lookism = pd.read_csv(name_config[\"preprocessed_data_lookism_path\"])"
   ]
  },
  {
   "attachments": {},
   "cell_type": "markdown",
   "metadata": {
    "id": "b69de9e1"
   },
   "source": [
    "### cancel culture"
   ]
  },
  {
   "cell_type": "code",
   "execution_count": 3,
   "metadata": {
    "execution": {
     "iopub.execute_input": "2022-05-18T00:46:31.348999Z",
     "iopub.status.busy": "2022-05-18T00:46:31.348287Z",
     "iopub.status.idle": "2022-05-18T00:47:16.050279Z",
     "shell.execute_reply": "2022-05-18T00:47:16.049527Z",
     "shell.execute_reply.started": "2022-05-18T00:46:31.348957Z"
    },
    "id": "i416TBE9o7oW",
    "outputId": "260c4447-12aa-410d-dbe1-ada9b9c4a366"
   },
   "outputs": [
    {
     "name": "stdout",
     "output_type": "stream",
     "text": [
      "MAX_LEN_train:\t 64\n",
      "MAX_LEN_valid:\t 58\n",
      "\n",
      "Epoch  1/ 5\n",
      "-------------------------\n"
     ]
    },
    {
     "name": "stderr",
     "output_type": "stream",
     "text": [
      "TRAIN: 100%|██████████| 39/39 [00:08<00:00,  4.75it/s]\n",
      "EVALUATION: 100%|██████████| 10/10 [00:00<00:00, 16.86it/s]\n"
     ]
    },
    {
     "name": "stdout",
     "output_type": "stream",
     "text": [
      "Train loss 0.4402 accuracy 0.8722\n",
      "Valid loss 1.9043 accuracy 0.5884\n",
      "Epoch  2/ 5\n",
      "-------------------------\n"
     ]
    },
    {
     "name": "stderr",
     "output_type": "stream",
     "text": [
      "TRAIN: 100%|██████████| 39/39 [00:08<00:00,  4.75it/s]\n",
      "EVALUATION: 100%|██████████| 10/10 [00:00<00:00, 15.89it/s]\n"
     ]
    },
    {
     "name": "stdout",
     "output_type": "stream",
     "text": [
      "Train loss 0.2130 accuracy 0.9453\n",
      "Valid loss 3.3912 accuracy 0.4277\n",
      "Epoch  3/ 5\n",
      "-------------------------\n"
     ]
    },
    {
     "name": "stderr",
     "output_type": "stream",
     "text": [
      "TRAIN: 100%|██████████| 39/39 [00:08<00:00,  4.78it/s]\n",
      "EVALUATION: 100%|██████████| 10/10 [00:00<00:00, 16.68it/s]\n"
     ]
    },
    {
     "name": "stdout",
     "output_type": "stream",
     "text": [
      "Train loss 0.1411 accuracy 0.9654\n",
      "Valid loss 3.9709 accuracy 0.2894\n",
      "Epoch  4/ 5\n",
      "-------------------------\n"
     ]
    },
    {
     "name": "stderr",
     "output_type": "stream",
     "text": [
      "TRAIN: 100%|██████████| 39/39 [00:08<00:00,  4.79it/s]\n",
      "EVALUATION: 100%|██████████| 10/10 [00:00<00:00, 16.85it/s]\n"
     ]
    },
    {
     "name": "stdout",
     "output_type": "stream",
     "text": [
      "Train loss 0.0751 accuracy 0.9839\n",
      "Valid loss 3.8372 accuracy 0.3633\n",
      "Epoch  5/ 5\n",
      "-------------------------\n"
     ]
    },
    {
     "name": "stderr",
     "output_type": "stream",
     "text": [
      "TRAIN: 100%|██████████| 39/39 [00:08<00:00,  4.77it/s]\n",
      "EVALUATION: 100%|██████████| 10/10 [00:00<00:00, 16.96it/s]\n"
     ]
    },
    {
     "name": "stdout",
     "output_type": "stream",
     "text": [
      "Train loss 0.0695 accuracy 0.9855\n",
      "Valid loss 4.2145 accuracy 0.3280\n",
      "              precision    recall  f1-score   support\n",
      "\n",
      "     against       0.66      0.53      0.59       127\n",
      "       favor       0.40      0.41      0.40        49\n",
      "     neutral       0.62      0.73      0.67       135\n",
      "\n",
      "    accuracy                           0.59       311\n",
      "   macro avg       0.56      0.55      0.55       311\n",
      "weighted avg       0.60      0.59      0.59       311\n",
      "\n"
     ]
    }
   ],
   "source": [
    "training(data=data_cancel_culture,\n",
    "         batch_size=BATCH_SIZE,\n",
    "         epochs=N_EPOCHS,\n",
    "         learning_rate_optimizer=LEARNING_RATE,\n",
    "         n_classes=N_CLASSES,\n",
    "         include_topics=False, \n",
    "         balancing=None)"
   ]
  },
  {
   "attachments": {},
   "cell_type": "markdown",
   "metadata": {
    "id": "HX-vy--2yG9i"
   },
   "source": [
    "### feminism"
   ]
  },
  {
   "cell_type": "code",
   "execution_count": 4,
   "metadata": {
    "execution": {
     "iopub.execute_input": "2022-05-18T01:04:05.892714Z",
     "iopub.status.busy": "2022-05-18T01:04:05.892455Z",
     "iopub.status.idle": "2022-05-18T01:06:47.369979Z",
     "shell.execute_reply": "2022-05-18T01:06:47.369102Z",
     "shell.execute_reply.started": "2022-05-18T01:04:05.892686Z"
    },
    "id": "a77337f2",
    "outputId": "c1cbcfbc-4b09-48a4-caa3-1e6a55f352a6"
   },
   "outputs": [
    {
     "name": "stdout",
     "output_type": "stream",
     "text": [
      "MAX_LEN_train:\t 77\n",
      "MAX_LEN_valid:\t 59\n",
      "\n",
      "Epoch  1/ 5\n",
      "-------------------------\n"
     ]
    },
    {
     "name": "stderr",
     "output_type": "stream",
     "text": [
      "TRAIN: 100%|██████████| 110/110 [00:30<00:00,  3.64it/s]\n",
      "EVALUATION: 100%|██████████| 28/28 [00:01<00:00, 16.25it/s]\n"
     ]
    },
    {
     "name": "stdout",
     "output_type": "stream",
     "text": [
      "Train loss 1.1089 accuracy 0.3482\n",
      "Valid loss 1.2955 accuracy 0.0000\n",
      "Epoch  2/ 5\n",
      "-------------------------\n"
     ]
    },
    {
     "name": "stderr",
     "output_type": "stream",
     "text": [
      "TRAIN: 100%|██████████| 110/110 [00:30<00:00,  3.65it/s]\n",
      "EVALUATION: 100%|██████████| 28/28 [00:01<00:00, 16.17it/s]\n"
     ]
    },
    {
     "name": "stdout",
     "output_type": "stream",
     "text": [
      "Train loss 1.1033 accuracy 0.3599\n",
      "Valid loss 1.2028 accuracy 0.0000\n",
      "Epoch  3/ 5\n",
      "-------------------------\n"
     ]
    },
    {
     "name": "stderr",
     "output_type": "stream",
     "text": [
      "TRAIN: 100%|██████████| 110/110 [00:30<00:00,  3.65it/s]\n",
      "EVALUATION: 100%|██████████| 28/28 [00:01<00:00, 16.33it/s]\n"
     ]
    },
    {
     "name": "stdout",
     "output_type": "stream",
     "text": [
      "Train loss 1.0985 accuracy 0.3613\n",
      "Valid loss 1.2132 accuracy 0.0000\n",
      "Epoch  4/ 5\n",
      "-------------------------\n"
     ]
    },
    {
     "name": "stderr",
     "output_type": "stream",
     "text": [
      "TRAIN: 100%|██████████| 110/110 [00:30<00:00,  3.66it/s]\n",
      "EVALUATION: 100%|██████████| 28/28 [00:01<00:00, 16.09it/s]\n"
     ]
    },
    {
     "name": "stdout",
     "output_type": "stream",
     "text": [
      "Train loss 1.1021 accuracy 0.3588\n",
      "Valid loss 1.2048 accuracy 0.0000\n",
      "Epoch  5/ 5\n",
      "-------------------------\n"
     ]
    },
    {
     "name": "stderr",
     "output_type": "stream",
     "text": [
      "TRAIN: 100%|██████████| 110/110 [00:30<00:00,  3.66it/s]\n",
      "EVALUATION: 100%|██████████| 28/28 [00:01<00:00, 15.86it/s]\n"
     ]
    },
    {
     "name": "stdout",
     "output_type": "stream",
     "text": [
      "Train loss 1.0995 accuracy 0.3665\n",
      "Valid loss 1.2412 accuracy 0.0000\n",
      "              precision    recall  f1-score   support\n",
      "\n",
      "     against       0.00      0.00      0.00       259\n",
      "       favor       0.00      0.00      0.00       296\n",
      "     neutral       0.37      1.00      0.54       320\n",
      "\n",
      "    accuracy                           0.37       875\n",
      "   macro avg       0.12      0.33      0.18       875\n",
      "weighted avg       0.13      0.37      0.20       875\n",
      "\n"
     ]
    }
   ],
   "source": [
    "training(data=data_feminism,\n",
    "         batch_size=BATCH_SIZE,\n",
    "         epochs=N_EPOCHS,\n",
    "         learning_rate_optimizer=LEARNING_RATE,\n",
    "         n_classes=N_CLASSES,\n",
    "         include_topics=False, \n",
    "         balancing=None)"
   ]
  },
  {
   "attachments": {},
   "cell_type": "markdown",
   "metadata": {
    "id": "37SX5ZJO0XE0"
   },
   "source": [
    "### lgbtq+"
   ]
  },
  {
   "cell_type": "code",
   "execution_count": 5,
   "metadata": {
    "execution": {
     "iopub.execute_input": "2022-05-18T01:06:55.038238Z",
     "iopub.status.busy": "2022-05-18T01:06:55.037689Z",
     "iopub.status.idle": "2022-05-18T01:16:47.485297Z",
     "shell.execute_reply": "2022-05-18T01:16:47.484469Z",
     "shell.execute_reply.started": "2022-05-18T01:06:55.038200Z"
    },
    "id": "HOZyOE6WzsLB",
    "outputId": "cc1c656f-a596-482d-9648-afaa8d9f46e0"
   },
   "outputs": [
    {
     "name": "stdout",
     "output_type": "stream",
     "text": [
      "MAX_LEN_train:\t 112\n",
      "MAX_LEN_valid:\t 99\n",
      "\n",
      "Epoch  1/ 5\n",
      "-------------------------\n"
     ]
    },
    {
     "name": "stderr",
     "output_type": "stream",
     "text": [
      "TRAIN: 100%|██████████| 307/307 [01:48<00:00,  2.82it/s]\n",
      "EVALUATION: 100%|██████████| 77/77 [00:07<00:00,  9.91it/s]\n"
     ]
    },
    {
     "name": "stdout",
     "output_type": "stream",
     "text": [
      "Train loss 1.0846 accuracy 0.4183\n",
      "Valid loss 1.3383 accuracy 0.0000\n",
      "Epoch  2/ 5\n",
      "-------------------------\n"
     ]
    },
    {
     "name": "stderr",
     "output_type": "stream",
     "text": [
      "TRAIN: 100%|██████████| 307/307 [01:48<00:00,  2.82it/s]\n",
      "EVALUATION: 100%|██████████| 77/77 [00:07<00:00,  9.87it/s]\n"
     ]
    },
    {
     "name": "stdout",
     "output_type": "stream",
     "text": [
      "Train loss 1.0825 accuracy 0.4265\n",
      "Valid loss 1.3187 accuracy 0.0000\n",
      "Epoch  3/ 5\n",
      "-------------------------\n"
     ]
    },
    {
     "name": "stderr",
     "output_type": "stream",
     "text": [
      "TRAIN: 100%|██████████| 307/307 [01:48<00:00,  2.82it/s]\n",
      "EVALUATION: 100%|██████████| 77/77 [00:07<00:00,  9.97it/s]\n"
     ]
    },
    {
     "name": "stdout",
     "output_type": "stream",
     "text": [
      "Train loss 1.0793 accuracy 0.4295\n",
      "Valid loss 1.3179 accuracy 0.0000\n",
      "Epoch  4/ 5\n",
      "-------------------------\n"
     ]
    },
    {
     "name": "stderr",
     "output_type": "stream",
     "text": [
      "TRAIN: 100%|██████████| 307/307 [01:48<00:00,  2.82it/s]\n",
      "EVALUATION: 100%|██████████| 77/77 [00:07<00:00,  9.82it/s]\n"
     ]
    },
    {
     "name": "stdout",
     "output_type": "stream",
     "text": [
      "Train loss 1.0741 accuracy 0.4286\n",
      "Valid loss 1.3282 accuracy 0.0000\n",
      "Epoch  5/ 5\n",
      "-------------------------\n"
     ]
    },
    {
     "name": "stderr",
     "output_type": "stream",
     "text": [
      "TRAIN: 100%|██████████| 307/307 [01:48<00:00,  2.82it/s]\n",
      "EVALUATION: 100%|██████████| 77/77 [00:07<00:00,  9.89it/s]\n"
     ]
    },
    {
     "name": "stdout",
     "output_type": "stream",
     "text": [
      "Train loss 1.0687 accuracy 0.4381\n",
      "Valid loss 1.3951 accuracy 0.0130\n",
      "              precision    recall  f1-score   support\n",
      "\n",
      "     against       0.44      0.02      0.04       635\n",
      "       favor       0.75      0.00      0.01       713\n",
      "     neutral       0.45      0.99      0.62      1107\n",
      "\n",
      "    accuracy                           0.45      2455\n",
      "   macro avg       0.55      0.34      0.22      2455\n",
      "weighted avg       0.54      0.45      0.29      2455\n",
      "\n"
     ]
    }
   ],
   "source": [
    "training(data=data_lgbtq_plus,\n",
    "         batch_size=BATCH_SIZE,\n",
    "         epochs=N_EPOCHS,\n",
    "         learning_rate_optimizer=LEARNING_RATE,\n",
    "         n_classes=N_CLASSES,\n",
    "         include_topics=False, \n",
    "         balancing=None)"
   ]
  },
  {
   "attachments": {},
   "cell_type": "markdown",
   "metadata": {
    "id": "Rfr4fOmh1f6E"
   },
   "source": [
    "### ageism"
   ]
  },
  {
   "cell_type": "code",
   "execution_count": 6,
   "metadata": {
    "execution": {
     "iopub.execute_input": "2022-05-18T00:51:30.581530Z",
     "iopub.status.busy": "2022-05-18T00:51:30.581281Z",
     "iopub.status.idle": "2022-05-18T00:52:32.065999Z",
     "shell.execute_reply": "2022-05-18T00:52:32.065245Z",
     "shell.execute_reply.started": "2022-05-18T00:51:30.581503Z"
    },
    "id": "yWA2C2LN0Vmb",
    "outputId": "f52b1ae7-5215-4ba1-ac50-00dc92fc0c66"
   },
   "outputs": [
    {
     "name": "stdout",
     "output_type": "stream",
     "text": [
      "MAX_LEN_train:\t 83\n",
      "MAX_LEN_valid:\t 56\n",
      "\n",
      "Epoch  1/ 5\n",
      "-------------------------\n"
     ]
    },
    {
     "name": "stderr",
     "output_type": "stream",
     "text": [
      "TRAIN: 100%|██████████| 41/41 [00:11<00:00,  3.55it/s]\n",
      "EVALUATION: 100%|██████████| 11/11 [00:00<00:00, 18.48it/s]\n"
     ]
    },
    {
     "name": "stdout",
     "output_type": "stream",
     "text": [
      "Train loss 1.0338 accuracy 0.4291\n",
      "Valid loss 0.6990 accuracy 1.0000\n",
      "Epoch  2/ 5\n",
      "-------------------------\n"
     ]
    },
    {
     "name": "stderr",
     "output_type": "stream",
     "text": [
      "TRAIN: 100%|██████████| 41/41 [00:11<00:00,  3.55it/s]\n",
      "EVALUATION: 100%|██████████| 11/11 [00:00<00:00, 18.52it/s]\n"
     ]
    },
    {
     "name": "stdout",
     "output_type": "stream",
     "text": [
      "Train loss 1.0008 accuracy 0.4423\n",
      "Valid loss 0.7714 accuracy 1.0000\n",
      "Epoch  3/ 5\n",
      "-------------------------\n"
     ]
    },
    {
     "name": "stderr",
     "output_type": "stream",
     "text": [
      "TRAIN: 100%|██████████| 41/41 [00:11<00:00,  3.56it/s]\n",
      "EVALUATION: 100%|██████████| 11/11 [00:00<00:00, 18.52it/s]\n"
     ]
    },
    {
     "name": "stdout",
     "output_type": "stream",
     "text": [
      "Train loss 0.9961 accuracy 0.4663\n",
      "Valid loss 0.7854 accuracy 1.0000\n",
      "Epoch  4/ 5\n",
      "-------------------------\n"
     ]
    },
    {
     "name": "stderr",
     "output_type": "stream",
     "text": [
      "TRAIN: 100%|██████████| 41/41 [00:11<00:00,  3.55it/s]\n",
      "EVALUATION: 100%|██████████| 11/11 [00:00<00:00, 18.36it/s]\n"
     ]
    },
    {
     "name": "stdout",
     "output_type": "stream",
     "text": [
      "Train loss 0.9941 accuracy 0.4415\n",
      "Valid loss 0.7175 accuracy 1.0000\n",
      "Epoch  5/ 5\n",
      "-------------------------\n"
     ]
    },
    {
     "name": "stderr",
     "output_type": "stream",
     "text": [
      "TRAIN: 100%|██████████| 41/41 [00:11<00:00,  3.56it/s]\n",
      "EVALUATION: 100%|██████████| 11/11 [00:00<00:00, 18.57it/s]\n"
     ]
    },
    {
     "name": "stdout",
     "output_type": "stream",
     "text": [
      "Train loss 1.0036 accuracy 0.4493\n",
      "Valid loss 0.7187 accuracy 1.0000\n",
      "              precision    recall  f1-score   support\n",
      "\n",
      "     against       0.50      1.00      0.67       163\n",
      "       favor       0.00      0.00      0.00        45\n",
      "     neutral       0.00      0.00      0.00       115\n",
      "\n",
      "    accuracy                           0.50       323\n",
      "   macro avg       0.17      0.33      0.22       323\n",
      "weighted avg       0.25      0.50      0.34       323\n",
      "\n"
     ]
    }
   ],
   "source": [
    "training(data=data_ageism,\n",
    "         batch_size=BATCH_SIZE,\n",
    "         epochs=N_EPOCHS,\n",
    "         learning_rate_optimizer=LEARNING_RATE,\n",
    "         n_classes=N_CLASSES,\n",
    "         include_topics=False, \n",
    "         balancing=None)"
   ]
  },
  {
   "attachments": {},
   "cell_type": "markdown",
   "metadata": {
    "id": "M6gFuOzK3BY9"
   },
   "source": [
    "### lookism"
   ]
  },
  {
   "cell_type": "code",
   "execution_count": 7,
   "metadata": {
    "execution": {
     "iopub.execute_input": "2022-05-18T00:49:20.658436Z",
     "iopub.status.busy": "2022-05-18T00:49:20.658187Z",
     "iopub.status.idle": "2022-05-18T00:49:59.943649Z",
     "shell.execute_reply": "2022-05-18T00:49:59.942925Z",
     "shell.execute_reply.started": "2022-05-18T00:49:20.658408Z"
    },
    "id": "t8Q__LHx2j2b",
    "outputId": "7ee533e1-3111-46d4-e627-56608bcf01eb"
   },
   "outputs": [
    {
     "name": "stdout",
     "output_type": "stream",
     "text": [
      "MAX_LEN_train:\t 67\n",
      "MAX_LEN_valid:\t 53\n",
      "\n",
      "Epoch  1/ 5\n",
      "-------------------------\n"
     ]
    },
    {
     "name": "stderr",
     "output_type": "stream",
     "text": [
      "TRAIN: 100%|██████████| 33/33 [00:07<00:00,  4.55it/s]\n",
      "EVALUATION: 100%|██████████| 9/9 [00:00<00:00, 19.48it/s]\n"
     ]
    },
    {
     "name": "stdout",
     "output_type": "stream",
     "text": [
      "Train loss 1.0402 accuracy 0.4171\n",
      "Valid loss 0.7822 accuracy 1.0000\n",
      "Epoch  2/ 5\n",
      "-------------------------\n"
     ]
    },
    {
     "name": "stderr",
     "output_type": "stream",
     "text": [
      "TRAIN: 100%|██████████| 33/33 [00:07<00:00,  4.52it/s]\n",
      "EVALUATION: 100%|██████████| 9/9 [00:00<00:00, 19.45it/s]\n"
     ]
    },
    {
     "name": "stdout",
     "output_type": "stream",
     "text": [
      "Train loss 1.0214 accuracy 0.4442\n",
      "Valid loss 0.7711 accuracy 1.0000\n",
      "Epoch  3/ 5\n",
      "-------------------------\n"
     ]
    },
    {
     "name": "stderr",
     "output_type": "stream",
     "text": [
      "TRAIN: 100%|██████████| 33/33 [00:07<00:00,  4.56it/s]\n",
      "EVALUATION: 100%|██████████| 9/9 [00:00<00:00, 19.46it/s]\n"
     ]
    },
    {
     "name": "stdout",
     "output_type": "stream",
     "text": [
      "Train loss 1.0077 accuracy 0.4462\n",
      "Valid loss 0.8217 accuracy 1.0000\n",
      "Epoch  4/ 5\n",
      "-------------------------\n"
     ]
    },
    {
     "name": "stderr",
     "output_type": "stream",
     "text": [
      "TRAIN: 100%|██████████| 33/33 [00:07<00:00,  4.57it/s]\n",
      "EVALUATION: 100%|██████████| 9/9 [00:00<00:00, 19.42it/s]\n"
     ]
    },
    {
     "name": "stdout",
     "output_type": "stream",
     "text": [
      "Train loss 1.0167 accuracy 0.4539\n",
      "Valid loss 0.7681 accuracy 1.0000\n",
      "Epoch  5/ 5\n",
      "-------------------------\n"
     ]
    },
    {
     "name": "stderr",
     "output_type": "stream",
     "text": [
      "TRAIN: 100%|██████████| 33/33 [00:07<00:00,  4.52it/s]\n",
      "EVALUATION: 100%|██████████| 9/9 [00:00<00:00, 19.35it/s]\n"
     ]
    },
    {
     "name": "stdout",
     "output_type": "stream",
     "text": [
      "Train loss 1.0215 accuracy 0.4122\n",
      "Valid loss 0.8281 accuracy 1.0000\n",
      "              precision    recall  f1-score   support\n",
      "\n",
      "     against       0.47      1.00      0.63       120\n",
      "       favor       0.00      0.00      0.00        44\n",
      "     neutral       0.00      0.00      0.00        94\n",
      "\n",
      "    accuracy                           0.47       258\n",
      "   macro avg       0.16      0.33      0.21       258\n",
      "weighted avg       0.22      0.47      0.30       258\n",
      "\n"
     ]
    }
   ],
   "source": [
    "training(data=data_lookism,\n",
    "         batch_size=BATCH_SIZE,\n",
    "         epochs=N_EPOCHS,\n",
    "         learning_rate_optimizer=LEARNING_RATE,\n",
    "         n_classes=N_CLASSES,\n",
    "         include_topics=False, \n",
    "         balancing=None)"
   ]
  }
 ],
 "metadata": {
  "kernelspec": {
   "display_name": "Python 3 (ipykernel)",
   "language": "python",
   "name": "python3"
  },
  "language_info": {
   "codemirror_mode": {
    "name": "ipython",
    "version": 3
   },
   "file_extension": ".py",
   "mimetype": "text/x-python",
   "name": "python",
   "nbconvert_exporter": "python",
   "pygments_lexer": "ipython3",
   "version": "3.9.13"
  }
 },
 "nbformat": 4,
 "nbformat_minor": 4
}
