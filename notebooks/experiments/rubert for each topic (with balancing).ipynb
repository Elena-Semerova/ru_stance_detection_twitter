{
 "cells": [
  {
   "cell_type": "markdown",
   "metadata": {
    "id": "4dxaMOql1k4-"
   },
   "source": [
    "### imports"
   ]
  },
  {
   "cell_type": "code",
   "execution_count": 1,
   "metadata": {
    "execution": {
     "iopub.execute_input": "2022-05-17T20:14:59.007826Z",
     "iopub.status.busy": "2022-05-17T20:14:59.007581Z",
     "iopub.status.idle": "2022-05-17T20:15:01.590586Z",
     "shell.execute_reply": "2022-05-17T20:15:01.589807Z",
     "shell.execute_reply.started": "2022-05-17T20:14:59.007798Z"
    },
    "id": "29c203b7"
   },
   "outputs": [],
   "source": [
    "import pandas as pd\n",
    "\n",
    "from bert import training"
   ]
  },
  {
   "cell_type": "markdown",
   "metadata": {},
   "source": [
    "### read data"
   ]
  },
  {
   "cell_type": "code",
   "execution_count": 2,
   "metadata": {},
   "outputs": [],
   "source": [
    "data_cancel_culture = pd.read_csv('../labeled_data/preprocess_cancel_culture_final.csv')\n",
    "data_feminism = pd.read_csv('../labeled_data/preprocess_feminism_final.csv')\n",
    "data_lgbtq_plus = pd.read_csv('../labeled_data/preprocess_lgbtq_plus_final.csv')\n",
    "data_ageism = pd.read_csv('../labeled_data/preprocess_ageism_final.csv')\n",
    "data_lookism = pd.read_csv('../labeled_data/preprocess_lookism_final.csv')"
   ]
  },
  {
   "cell_type": "markdown",
   "metadata": {
    "id": "b69de9e1"
   },
   "source": [
    "### cancel culture"
   ]
  },
  {
   "cell_type": "code",
   "execution_count": 3,
   "metadata": {
    "colab": {
     "base_uri": "https://localhost:8080/"
    },
    "execution": {
     "iopub.execute_input": "2022-05-17T20:16:16.224729Z",
     "iopub.status.busy": "2022-05-17T20:16:16.224223Z",
     "iopub.status.idle": "2022-05-17T20:17:06.326549Z",
     "shell.execute_reply": "2022-05-17T20:17:06.325621Z",
     "shell.execute_reply.started": "2022-05-17T20:16:16.224686Z"
    },
    "id": "i416TBE9o7oW",
    "outputId": "75c4e313-539c-480d-bed7-861716810c29"
   },
   "outputs": [
    {
     "name": "stdout",
     "output_type": "stream",
     "text": [
      "MAX_LEN_train:\t 60\n",
      "MAX_LEN_valid:\t 51\n",
      "\n",
      "Epoch  1/10\n",
      "-------------------------\n"
     ]
    },
    {
     "name": "stderr",
     "output_type": "stream",
     "text": [
      "TRAIN: 100%|██████████| 23/23 [00:07<00:00,  2.89it/s]\n",
      "EVALUATION: 100%|██████████| 5/5 [00:00<00:00, 12.37it/s]\n"
     ]
    },
    {
     "name": "stdout",
     "output_type": "stream",
     "text": [
      "Train loss 0.7614 accuracy 0.7109\n",
      "Valid loss 5.2051 accuracy 0.4593\n",
      "Epoch  2/10\n",
      "-------------------------\n"
     ]
    },
    {
     "name": "stderr",
     "output_type": "stream",
     "text": [
      "TRAIN: 100%|██████████| 23/23 [00:07<00:00,  2.89it/s]\n",
      "EVALUATION: 100%|██████████| 5/5 [00:00<00:00, 12.48it/s]\n"
     ]
    },
    {
     "name": "stdout",
     "output_type": "stream",
     "text": [
      "Train loss 0.4756 accuracy 0.8437\n",
      "Valid loss 4.5231 accuracy 0.3852\n",
      "Epoch  3/10\n",
      "-------------------------\n"
     ]
    },
    {
     "name": "stderr",
     "output_type": "stream",
     "text": [
      "TRAIN: 100%|██████████| 23/23 [00:07<00:00,  2.90it/s]\n",
      "EVALUATION: 100%|██████████| 5/5 [00:00<00:00, 12.25it/s]\n"
     ]
    },
    {
     "name": "stdout",
     "output_type": "stream",
     "text": [
      "Train loss 0.2769 accuracy 0.9046\n",
      "Valid loss 4.4706 accuracy 0.4148\n",
      "Epoch  4/10\n",
      "-------------------------\n"
     ]
    },
    {
     "name": "stderr",
     "output_type": "stream",
     "text": [
      "TRAIN: 100%|██████████| 23/23 [00:07<00:00,  2.88it/s]\n",
      "EVALUATION: 100%|██████████| 5/5 [00:00<00:00, 12.27it/s]\n"
     ]
    },
    {
     "name": "stdout",
     "output_type": "stream",
     "text": [
      "Train loss 0.1052 accuracy 0.9751\n",
      "Valid loss 4.4308 accuracy 0.3778\n",
      "Epoch  5/10\n",
      "-------------------------\n"
     ]
    },
    {
     "name": "stderr",
     "output_type": "stream",
     "text": [
      "TRAIN: 100%|██████████| 23/23 [00:08<00:00,  2.87it/s]\n",
      "EVALUATION: 100%|██████████| 5/5 [00:00<00:00, 12.05it/s]\n"
     ]
    },
    {
     "name": "stdout",
     "output_type": "stream",
     "text": [
      "Train loss 0.0914 accuracy 0.9751\n",
      "Valid loss 4.4025 accuracy 0.3926\n",
      "Epoch  6/10\n",
      "-------------------------\n"
     ]
    },
    {
     "name": "stderr",
     "output_type": "stream",
     "text": [
      "TRAIN: 100%|██████████| 23/23 [00:08<00:00,  2.86it/s]\n",
      "EVALUATION: 100%|██████████| 5/5 [00:00<00:00, 12.10it/s]\n"
     ]
    },
    {
     "name": "stdout",
     "output_type": "stream",
     "text": [
      "Train loss 0.0365 accuracy 0.9945\n",
      "Valid loss 3.7753 accuracy 0.4667\n",
      "Epoch  7/10\n",
      "-------------------------\n"
     ]
    },
    {
     "name": "stderr",
     "output_type": "stream",
     "text": [
      "TRAIN: 100%|██████████| 23/23 [00:08<00:00,  2.86it/s]\n",
      "EVALUATION: 100%|██████████| 5/5 [00:00<00:00, 12.20it/s]\n"
     ]
    },
    {
     "name": "stdout",
     "output_type": "stream",
     "text": [
      "Train loss 0.0268 accuracy 0.9931\n",
      "Valid loss 3.7266 accuracy 0.4148\n",
      "Epoch  8/10\n",
      "-------------------------\n"
     ]
    },
    {
     "name": "stderr",
     "output_type": "stream",
     "text": [
      "TRAIN: 100%|██████████| 23/23 [00:08<00:00,  2.84it/s]\n",
      "EVALUATION: 100%|██████████| 5/5 [00:00<00:00, 11.70it/s]\n"
     ]
    },
    {
     "name": "stdout",
     "output_type": "stream",
     "text": [
      "Train loss 0.0060 accuracy 0.9986\n",
      "Valid loss 2.1564 accuracy 0.4222\n",
      "Epoch  9/10\n",
      "-------------------------\n"
     ]
    },
    {
     "name": "stderr",
     "output_type": "stream",
     "text": [
      "TRAIN: 100%|██████████| 23/23 [00:08<00:00,  2.83it/s]\n",
      "EVALUATION: 100%|██████████| 5/5 [00:00<00:00, 11.83it/s]\n"
     ]
    },
    {
     "name": "stdout",
     "output_type": "stream",
     "text": [
      "Train loss 0.0017 accuracy 1.0000\n",
      "Valid loss 1.9971 accuracy 0.4222\n",
      "Epoch 10/10\n",
      "-------------------------\n"
     ]
    },
    {
     "name": "stderr",
     "output_type": "stream",
     "text": [
      "TRAIN: 100%|██████████| 23/23 [00:08<00:00,  2.82it/s]\n",
      "EVALUATION: 100%|██████████| 5/5 [00:00<00:00, 11.95it/s]\n"
     ]
    },
    {
     "name": "stdout",
     "output_type": "stream",
     "text": [
      "Train loss 0.0007 accuracy 1.0000\n",
      "Valid loss 1.8120 accuracy 0.4222\n",
      "              precision    recall  f1-score   support\n",
      "\n",
      "     against       0.84      0.80      0.82        60\n",
      "       favor       0.67      0.94      0.78        17\n",
      "     neutral       0.83      0.78      0.80        58\n",
      "\n",
      "    accuracy                           0.81       135\n",
      "   macro avg       0.78      0.84      0.80       135\n",
      "weighted avg       0.82      0.81      0.81       135\n",
      "\n"
     ]
    }
   ],
   "source": [
    "training(data=data_cancel_culture,\n",
    "         batch_size=32,\n",
    "         epochs=10,\n",
    "         learning_rate_optimizer=2e-5,\n",
    "         n_classes=3,\n",
    "         include_topics=False, \n",
    "         balancing='all')"
   ]
  },
  {
   "cell_type": "markdown",
   "metadata": {
    "id": "HX-vy--2yG9i"
   },
   "source": [
    "### feminism"
   ]
  },
  {
   "cell_type": "code",
   "execution_count": 4,
   "metadata": {
    "colab": {
     "base_uri": "https://localhost:8080/"
    },
    "execution": {
     "iopub.execute_input": "2022-05-17T20:17:23.411379Z",
     "iopub.status.busy": "2022-05-17T20:17:23.410643Z",
     "iopub.status.idle": "2022-05-17T20:21:20.041232Z",
     "shell.execute_reply": "2022-05-17T20:21:20.039742Z",
     "shell.execute_reply.started": "2022-05-17T20:17:23.411338Z"
    },
    "id": "a77337f2",
    "outputId": "6b97614d-cc9b-42ff-f6dd-d72b2a4184bd"
   },
   "outputs": [
    {
     "name": "stdout",
     "output_type": "stream",
     "text": [
      "MAX_LEN_train:\t 77\n",
      "MAX_LEN_valid:\t 62\n",
      "\n",
      "Epoch  1/10\n",
      "-------------------------\n"
     ]
    },
    {
     "name": "stderr",
     "output_type": "stream",
     "text": [
      "TRAIN: 100%|██████████| 111/111 [00:50<00:00,  2.20it/s]\n",
      "EVALUATION: 100%|██████████| 13/13 [00:01<00:00,  8.48it/s]\n"
     ]
    },
    {
     "name": "stdout",
     "output_type": "stream",
     "text": [
      "Train loss 0.6992 accuracy 0.7494\n",
      "Valid loss 7.1939 accuracy 0.2403\n",
      "Epoch  2/10\n",
      "-------------------------\n"
     ]
    },
    {
     "name": "stderr",
     "output_type": "stream",
     "text": [
      "TRAIN: 100%|██████████| 111/111 [00:49<00:00,  2.23it/s]\n",
      "EVALUATION: 100%|██████████| 13/13 [00:01<00:00,  8.46it/s]\n"
     ]
    },
    {
     "name": "stdout",
     "output_type": "stream",
     "text": [
      "Train loss 0.3354 accuracy 0.8929\n",
      "Valid loss 6.2019 accuracy 0.3463\n",
      "Epoch  3/10\n",
      "-------------------------\n"
     ]
    },
    {
     "name": "stderr",
     "output_type": "stream",
     "text": [
      "TRAIN: 100%|██████████| 111/111 [00:50<00:00,  2.21it/s]\n",
      "EVALUATION: 100%|██████████| 13/13 [00:01<00:00,  8.33it/s]\n"
     ]
    },
    {
     "name": "stdout",
     "output_type": "stream",
     "text": [
      "Train loss 0.1860 accuracy 0.9459\n",
      "Valid loss 6.0091 accuracy 0.3463\n",
      "Epoch  4/10\n",
      "-------------------------\n"
     ]
    },
    {
     "name": "stderr",
     "output_type": "stream",
     "text": [
      "TRAIN: 100%|██████████| 111/111 [00:50<00:00,  2.21it/s]\n",
      "EVALUATION: 100%|██████████| 13/13 [00:01<00:00,  8.35it/s]\n"
     ]
    },
    {
     "name": "stdout",
     "output_type": "stream",
     "text": [
      "Train loss 0.1181 accuracy 0.9680\n",
      "Valid loss 5.8110 accuracy 0.3488\n",
      "Epoch  5/10\n",
      "-------------------------\n"
     ]
    },
    {
     "name": "stderr",
     "output_type": "stream",
     "text": [
      "TRAIN: 100%|██████████| 111/111 [00:50<00:00,  2.21it/s]\n",
      "EVALUATION: 100%|██████████| 13/13 [00:01<00:00,  8.39it/s]\n"
     ]
    },
    {
     "name": "stdout",
     "output_type": "stream",
     "text": [
      "Train loss 0.1059 accuracy 0.9751\n",
      "Valid loss 5.7266 accuracy 0.2532\n",
      "Epoch  6/10\n",
      "-------------------------\n"
     ]
    },
    {
     "name": "stderr",
     "output_type": "stream",
     "text": [
      "TRAIN: 100%|██████████| 111/111 [00:50<00:00,  2.22it/s]\n",
      "EVALUATION: 100%|██████████| 13/13 [00:01<00:00,  8.32it/s]\n"
     ]
    },
    {
     "name": "stdout",
     "output_type": "stream",
     "text": [
      "Train loss 0.0678 accuracy 0.9841\n",
      "Valid loss 5.6400 accuracy 0.2997\n",
      "Epoch  7/10\n",
      "-------------------------\n"
     ]
    },
    {
     "name": "stderr",
     "output_type": "stream",
     "text": [
      "TRAIN: 100%|██████████| 111/111 [00:50<00:00,  2.22it/s]\n",
      "EVALUATION: 100%|██████████| 13/13 [00:01<00:00,  8.38it/s]\n"
     ]
    },
    {
     "name": "stdout",
     "output_type": "stream",
     "text": [
      "Train loss 0.0415 accuracy 0.9915\n",
      "Valid loss 5.5132 accuracy 0.3178\n",
      "Epoch  8/10\n",
      "-------------------------\n"
     ]
    },
    {
     "name": "stderr",
     "output_type": "stream",
     "text": [
      "TRAIN: 100%|██████████| 111/111 [00:50<00:00,  2.21it/s]\n",
      "EVALUATION: 100%|██████████| 13/13 [00:01<00:00,  8.36it/s]\n"
     ]
    },
    {
     "name": "stdout",
     "output_type": "stream",
     "text": [
      "Train loss 0.0375 accuracy 0.9912\n",
      "Valid loss 5.4591 accuracy 0.3204\n",
      "Epoch  9/10\n",
      "-------------------------\n"
     ]
    },
    {
     "name": "stderr",
     "output_type": "stream",
     "text": [
      "TRAIN: 100%|██████████| 111/111 [00:50<00:00,  2.22it/s]\n",
      "EVALUATION: 100%|██████████| 13/13 [00:01<00:00,  8.34it/s]\n"
     ]
    },
    {
     "name": "stdout",
     "output_type": "stream",
     "text": [
      "Train loss 0.0232 accuracy 0.9952\n",
      "Valid loss 5.3106 accuracy 0.2920\n",
      "Epoch 10/10\n",
      "-------------------------\n"
     ]
    },
    {
     "name": "stderr",
     "output_type": "stream",
     "text": [
      "TRAIN: 100%|██████████| 111/111 [00:50<00:00,  2.22it/s]\n",
      "EVALUATION: 100%|██████████| 13/13 [00:01<00:00,  8.38it/s]\n"
     ]
    },
    {
     "name": "stdout",
     "output_type": "stream",
     "text": [
      "Train loss 0.0267 accuracy 0.9940\n",
      "Valid loss 5.2639 accuracy 0.3049\n",
      "              precision    recall  f1-score   support\n",
      "\n",
      "     against       0.83      0.87      0.85       113\n",
      "       favor       0.80      0.84      0.82       118\n",
      "     neutral       0.91      0.85      0.88       156\n",
      "\n",
      "    accuracy                           0.85       387\n",
      "   macro avg       0.85      0.85      0.85       387\n",
      "weighted avg       0.85      0.85      0.85       387\n",
      "\n"
     ]
    }
   ],
   "source": [
    "training(data=data_feminism,\n",
    "         batch_size=32,\n",
    "         epochs=10,\n",
    "         learning_rate_optimizer=2e-5,\n",
    "         n_classes=3,\n",
    "         include_topics=False, \n",
    "         balancing='all')"
   ]
  },
  {
   "cell_type": "markdown",
   "metadata": {
    "id": "37SX5ZJO0XE0"
   },
   "source": [
    "### lgbtq+"
   ]
  },
  {
   "cell_type": "code",
   "execution_count": 5,
   "metadata": {
    "colab": {
     "base_uri": "https://localhost:8080/"
    },
    "execution": {
     "iopub.execute_input": "2022-05-17T20:21:20.043774Z",
     "iopub.status.busy": "2022-05-17T20:21:20.043097Z"
    },
    "id": "HOZyOE6WzsLB",
    "outputId": "7d38f8ce-7f3d-4287-a0d6-3b8616a75531"
   },
   "outputs": [
    {
     "name": "stdout",
     "output_type": "stream",
     "text": [
      "MAX_LEN_train:\t 112\n",
      "MAX_LEN_valid:\t 63\n",
      "\n",
      "Epoch  1/10\n",
      "-------------------------\n"
     ]
    },
    {
     "name": "stderr",
     "output_type": "stream",
     "text": [
      "TRAIN: 100%|██████████| 271/271 [01:35<00:00,  2.82it/s]\n",
      "EVALUATION: 100%|██████████| 35/35 [00:02<00:00,  15.78it/s]\n"
     ]
    },
    {
     "name": "stdout",
     "output_type": "stream",
     "text": [
      "Train loss 0.4807 accuracy 0.8311\n",
      "Valid loss 8.0505 accuracy 0.2896\n",
      "Epoch  2/10\n",
      "-------------------------\n"
     ]
    },
    {
     "name": "stderr",
     "output_type": "stream",
     "text": [
      "TRAIN: 100%|██████████| 271/271 [01:35<00:00,  2.82it/s]\n",
      "EVALUATION: 100%|██████████| 35/35 [00:02<00:00,  15.77it/s]\n"
     ]
    },
    {
     "name": "stdout",
     "output_type": "stream",
     "text": [
      "Train loss 0.2150 accuracy 0.9329\n",
      "Valid loss 7.2603 accuracy 0.2623\n",
      "Epoch  3/10\n",
      "-------------------------\n"
     ]
    },
    {
     "name": "stderr",
     "output_type": "stream",
     "text": [
      "TRAIN: 100%|██████████| 271/271 [01:35<00:00,  2.82it/s]\n",
      "EVALUATION: 100%|██████████| 35/35 [00:02<00:00,  15.73it/s]\n"
     ]
    },
    {
     "name": "stdout",
     "output_type": "stream",
     "text": [
      "Train loss 0.1399 accuracy 0.9607\n",
      "Valid loss 6.8345 accuracy 0.2723\n",
      "Epoch  4/10\n",
      "-------------------------\n"
     ]
    },
    {
     "name": "stderr",
     "output_type": "stream",
     "text": [
      "TRAIN: 100%|██████████| 271/271 [01:35<00:00,  2.81it/s]\n",
      "EVALUATION: 100%|██████████| 13/13 [00:02<00:00,  15.73it/s]\n"
     ]
    },
    {
     "name": "stdout",
     "output_type": "stream",
     "text": [
      "Train loss 0.0884 accuracy 0.9777\n",
      "Valid loss 6.5075 accuracy 0.2750\n",
      "Epoch  5/10\n",
      "-------------------------\n"
     ]
    },
    {
     "name": "stderr",
     "output_type": "stream",
     "text": [
      "TRAIN: 100%|██████████| 271/271 [01:36<00:00,  2.82it/s]\n",
      "EVALUATION: 100%|██████████| 35/35 [00:02<00:00, 15.79it/s]\n"
     ]
    },
    {
     "name": "stdout",
     "output_type": "stream",
     "text": [
      "Train loss 0.0594 accuracy 0.9852\n",
      "Valid loss 6.3267 accuracy 0.2805\n",
      "Epoch  6/10\n",
      "-------------------------\n"
     ]
    },
    {
     "name": "stderr",
     "output_type": "stream",
     "text": [
      "TRAIN: 100%|██████████| 271/271 [01:36<00:00,  2.82it/s]\n",
      "EVALUATION: 100%|██████████| 35/35 [00:02<00:00,  15.61it/s]\n"
     ]
    },
    {
     "name": "stdout",
     "output_type": "stream",
     "text": [
      "Train loss 0.0396 accuracy 0.9909\n",
      "Valid loss 6.0320 accuracy 0.2714\n",
      "Epoch  7/10\n",
      "-------------------------\n"
     ]
    },
    {
     "name": "stderr",
     "output_type": "stream",
     "text": [
      "TRAIN: 100%|██████████| 271/271 [01:36<00:00,  2.82it/s]\n",
      "EVALUATION: 100%|██████████| 35/35 [00:02<00:00,  15.70it/s]\n"
     ]
    },
    {
     "name": "stdout",
     "output_type": "stream",
     "text": [
      "Train loss 0.0278 accuracy 0.9938\n",
      "Valid loss 5.8589 accuracy 0.2760\n",
      "Epoch  8/10\n",
      "-------------------------\n"
     ]
    },
    {
     "name": "stderr",
     "output_type": "stream",
     "text": [
      "TRAIN: 100%|██████████| 271/271 [01:36<00:00,  2.82it/s]\n",
      "EVALUATION: 100%|██████████| 35/35 [00:02<00:00,  15.73it/s]\n"
     ]
    },
    {
     "name": "stdout",
     "output_type": "stream",
     "text": [
      "Train loss 0.0188 accuracy 0.9958\n",
      "Valid loss 5.7328 accuracy 0.2832\n",
      "Epoch  9/10\n",
      "-------------------------\n"
     ]
    },
    {
     "name": "stderr",
     "output_type": "stream",
     "text": [
      "TRAIN: 100%|██████████| 271/271 [01:36<00:00,  2.82it/s]\n",
      "EVALUATION: 100%|██████████| 35/35 [00:02<00:00,  15.77it/s]\n"
     ]
    },
    {
     "name": "stdout",
     "output_type": "stream",
     "text": [
      "Train loss 0.0171 accuracy 0.9968\n",
      "Valid loss 5.7152 accuracy 0.2741\n",
      "Epoch 10/10\n",
      "-------------------------\n"
     ]
    },
    {
     "name": "stderr",
     "output_type": "stream",
     "text": [
      "TRAIN: 100%|██████████| 271/271 [01:35<00:00,  2.82it/s]\n",
      "EVALUATION: 100%|██████████| 35/35 [00:02<00:00,  15.73it/s]\n"
     ]
    },
    {
     "name": "stdout",
     "output_type": "stream",
     "text": [
      "Train loss 0.0113 accuracy 0.9971\n",
      "Valid loss 5.6294 accuracy 0.2769\n",
      "              precision    recall  f1-score   support\n",
      "\n",
      "     against       0.89      0.98      0.93       277\n",
      "       favor       0.88      0.91      0.89       337\n",
      "     neutral       0.93      0.86      0.89       484\n",
      "\n",
      "    accuracy                           0.90       1098\n",
      "   macro avg       0.90      0.91      0.91       1098\n",
      "weighted avg       0.90      0.90      0.90       1098\n",
      "\n"
     ]
    }
   ],
   "source": [
    "training(data=data_lgbtq_plus,\n",
    "         batch_size=32,\n",
    "         epochs=10,\n",
    "         learning_rate_optimizer=2e-5,\n",
    "         n_classes=3,\n",
    "         include_topics=False, \n",
    "         balancing='all')"
   ]
  },
  {
   "cell_type": "markdown",
   "metadata": {
    "id": "Rfr4fOmh1f6E"
   },
   "source": [
    "### ageism"
   ]
  },
  {
   "cell_type": "code",
   "execution_count": 6,
   "metadata": {
    "colab": {
     "base_uri": "https://localhost:8080/"
    },
    "id": "yWA2C2LN0Vmb",
    "outputId": "f507baa4-a831-401a-8fed-d319abb369a8"
   },
   "outputs": [
    {
     "name": "stdout",
     "output_type": "stream",
     "text": [
      "MAX_LEN_train:\t 66\n",
      "MAX_LEN_valid:\t 57\n",
      "\n",
      "Epoch  1/10\n",
      "-------------------------\n"
     ]
    },
    {
     "name": "stderr",
     "output_type": "stream",
     "text": [
      "TRAIN: 100%|██████████| 19/19 [00:07<00:00,  2.53it/s]\n",
      "EVALUATION: 100%|██████████| 5/5 [00:00<00:00,  9.76it/s]\n"
     ]
    },
    {
     "name": "stdout",
     "output_type": "stream",
     "text": [
      "Train loss 1.0755 accuracy 0.5561\n",
      "Valid loss 3.9677 accuracy 0.3403\n",
      "Epoch  2/10\n",
      "-------------------------\n"
     ]
    },
    {
     "name": "stderr",
     "output_type": "stream",
     "text": [
      "TRAIN: 100%|██████████| 19/19 [00:07<00:00,  2.52it/s]\n",
      "EVALUATION: 100%|██████████| 5/5 [00:00<00:00,  9.74it/s]\n"
     ]
    },
    {
     "name": "stdout",
     "output_type": "stream",
     "text": [
      "Train loss 0.7938 accuracy 0.6865\n",
      "Valid loss 3.3384 accuracy 0.3611\n",
      "Epoch  3/10\n",
      "-------------------------\n"
     ]
    },
    {
     "name": "stderr",
     "output_type": "stream",
     "text": [
      "TRAIN: 100%|██████████| 19/19 [00:07<00:00,  2.48it/s]\n",
      "EVALUATION: 100%|██████████| 5/5 [00:00<00:00,  9.63it/s]\n"
     ]
    },
    {
     "name": "stdout",
     "output_type": "stream",
     "text": [
      "Train loss 0.4919 accuracy 0.8284\n",
      "Valid loss 3.1671 accuracy 0.2847\n",
      "Epoch  4/10\n",
      "-------------------------\n"
     ]
    },
    {
     "name": "stderr",
     "output_type": "stream",
     "text": [
      "TRAIN: 100%|██████████| 19/19 [00:07<00:00,  2.48it/s]\n",
      "EVALUATION: 100%|██████████| 5/5 [00:00<00:00,  9.32it/s]\n"
     ]
    },
    {
     "name": "stdout",
     "output_type": "stream",
     "text": [
      "Train loss 0.2632 accuracy 0.9125\n",
      "Valid loss 2.9656 accuracy 0.3403\n",
      "Epoch  5/10\n",
      "-------------------------\n"
     ]
    },
    {
     "name": "stderr",
     "output_type": "stream",
     "text": [
      "TRAIN: 100%|██████████| 19/19 [00:07<00:00,  2.49it/s]\n",
      "EVALUATION: 100%|██████████| 5/5 [00:00<00:00,  9.50it/s]\n"
     ]
    },
    {
     "name": "stdout",
     "output_type": "stream",
     "text": [
      "Train loss 0.1997 accuracy 0.9472\n",
      "Valid loss 2.8489 accuracy 0.3333\n",
      "Epoch  6/10\n",
      "-------------------------\n"
     ]
    },
    {
     "name": "stderr",
     "output_type": "stream",
     "text": [
      "TRAIN: 100%|██████████| 19/19 [00:07<00:00,  2.49it/s]\n",
      "EVALUATION: 100%|██████████| 5/5 [00:00<00:00,  9.59it/s]\n"
     ]
    },
    {
     "name": "stdout",
     "output_type": "stream",
     "text": [
      "Train loss 0.1167 accuracy 0.9686\n",
      "Valid loss 2.7780 accuracy 0.3333\n",
      "Epoch  7/10\n",
      "-------------------------\n"
     ]
    },
    {
     "name": "stderr",
     "output_type": "stream",
     "text": [
      "TRAIN: 100%|██████████| 19/19 [00:07<00:00,  2.49it/s]\n",
      "EVALUATION: 100%|██████████| 5/5 [00:00<00:00,  9.56it/s]\n"
     ]
    },
    {
     "name": "stdout",
     "output_type": "stream",
     "text": [
      "Train loss 0.0936 accuracy 0.9752\n",
      "Valid loss 2.6499 accuracy 0.3958\n",
      "Epoch  8/10\n",
      "-------------------------\n"
     ]
    },
    {
     "name": "stderr",
     "output_type": "stream",
     "text": [
      "TRAIN: 100%|██████████| 19/19 [00:07<00:00,  2.48it/s]\n",
      "EVALUATION: 100%|██████████| 5/5 [00:00<00:00,  9.61it/s]\n"
     ]
    },
    {
     "name": "stdout",
     "output_type": "stream",
     "text": [
      "Train loss 0.0654 accuracy 0.9818\n",
      "Valid loss 2.5354 accuracy 0.3264\n",
      "Epoch  9/10\n",
      "-------------------------\n"
     ]
    },
    {
     "name": "stderr",
     "output_type": "stream",
     "text": [
      "TRAIN: 100%|██████████| 19/19 [00:07<00:00,  2.48it/s]\n",
      "EVALUATION: 100%|██████████| 5/5 [00:00<00:00,  9.62it/s]\n"
     ]
    },
    {
     "name": "stdout",
     "output_type": "stream",
     "text": [
      "Train loss 0.0712 accuracy 0.9851\n",
      "Valid loss 2.4351 accuracy 0.4167\n",
      "Epoch 10/10\n",
      "-------------------------\n"
     ]
    },
    {
     "name": "stderr",
     "output_type": "stream",
     "text": [
      "TRAIN: 100%|██████████| 19/19 [00:07<00:00,  2.48it/s]\n",
      "EVALUATION: 100%|██████████| 5/5 [00:00<00:00,  9.67it/s]\n"
     ]
    },
    {
     "name": "stdout",
     "output_type": "stream",
     "text": [
      "Train loss 0.0343 accuracy 0.9901\n",
      "Valid loss 2.4081 accuracy 0.3403\n",
      "              precision    recall  f1-score   support\n",
      "\n",
      "     against       0.78      0.55      0.64        69\n",
      "       favor       0.38      0.65      0.48        17\n",
      "     neutral       0.64      0.72      0.68        58\n",
      "\n",
      "    accuracy                           0.63       144\n",
      "   macro avg       0.60      0.64      0.60       144\n",
      "weighted avg       0.67      0.63      0.64       144\n",
      "\n"
     ]
    }
   ],
   "source": [
    "training(data=data_ageism,\n",
    "         batch_size=32,\n",
    "         epochs=10,\n",
    "         learning_rate_optimizer=2e-5,\n",
    "         n_classes=3,\n",
    "         include_topics=False, \n",
    "         balancing='all')"
   ]
  },
  {
   "cell_type": "markdown",
   "metadata": {
    "id": "M6gFuOzK3BY9"
   },
   "source": [
    "### lookism"
   ]
  },
  {
   "cell_type": "code",
   "execution_count": 7,
   "metadata": {
    "colab": {
     "base_uri": "https://localhost:8080/"
    },
    "id": "t8Q__LHx2j2b",
    "outputId": "54597561-8d64-41d0-fb1c-55a09411d870"
   },
   "outputs": [
    {
     "name": "stdout",
     "output_type": "stream",
     "text": [
      "MAX_LEN_train:\t 53\n",
      "MAX_LEN_valid:\t 56\n",
      "\n",
      "Epoch  1/10\n",
      "-------------------------\n"
     ]
    },
    {
     "name": "stderr",
     "output_type": "stream",
     "text": [
      "TRAIN: 100%|██████████| 17/17 [00:05<00:00,  3.14it/s]\n",
      "EVALUATION: 100%|██████████| 4/4 [00:00<00:00, 10.86it/s]\n"
     ]
    },
    {
     "name": "stdout",
     "output_type": "stream",
     "text": [
      "Train loss 1.0699 accuracy 0.4539\n",
      "Valid loss 3.5548 accuracy 0.0093\n",
      "Epoch  2/10\n",
      "-------------------------\n"
     ]
    },
    {
     "name": "stderr",
     "output_type": "stream",
     "text": [
      "TRAIN: 100%|██████████| 17/17 [00:05<00:00,  3.02it/s]\n",
      "EVALUATION: 100%|██████████| 4/4 [00:00<00:00,  7.45it/s]\n"
     ]
    },
    {
     "name": "stdout",
     "output_type": "stream",
     "text": [
      "Train loss 0.9134 accuracy 0.5631\n",
      "Valid loss 2.8789 accuracy 0.3426\n",
      "Epoch  3/10\n",
      "-------------------------\n"
     ]
    },
    {
     "name": "stderr",
     "output_type": "stream",
     "text": [
      "TRAIN: 100%|██████████| 17/17 [00:05<00:00,  2.88it/s]\n",
      "EVALUATION: 100%|██████████| 4/4 [00:00<00:00,  9.93it/s]\n"
     ]
    },
    {
     "name": "stdout",
     "output_type": "stream",
     "text": [
      "Train loss 0.7469 accuracy 0.6704\n",
      "Valid loss 2.4247 accuracy 0.3148\n",
      "Epoch  4/10\n",
      "-------------------------\n"
     ]
    },
    {
     "name": "stderr",
     "output_type": "stream",
     "text": [
      "TRAIN: 100%|██████████| 17/17 [00:05<00:00,  3.13it/s]\n",
      "EVALUATION: 100%|██████████| 4/4 [00:00<00:00, 10.53it/s]\n"
     ]
    },
    {
     "name": "stdout",
     "output_type": "stream",
     "text": [
      "Train loss 0.6738 accuracy 0.7137\n",
      "Valid loss 2.2801 accuracy 0.3056\n",
      "Epoch  5/10\n",
      "-------------------------\n"
     ]
    },
    {
     "name": "stderr",
     "output_type": "stream",
     "text": [
      "TRAIN: 100%|██████████| 17/17 [00:05<00:00,  3.11it/s]\n",
      "EVALUATION: 100%|██████████| 4/4 [00:00<00:00, 10.50it/s]\n"
     ]
    },
    {
     "name": "stdout",
     "output_type": "stream",
     "text": [
      "Train loss 0.6165 accuracy 0.7081\n",
      "Valid loss 2.1674 accuracy 0.1481\n",
      "Epoch  6/10\n",
      "-------------------------\n"
     ]
    },
    {
     "name": "stderr",
     "output_type": "stream",
     "text": [
      "TRAIN: 100%|██████████| 17/17 [00:05<00:00,  3.12it/s]\n",
      "EVALUATION: 100%|██████████| 4/4 [00:00<00:00,  9.94it/s]\n"
     ]
    },
    {
     "name": "stdout",
     "output_type": "stream",
     "text": [
      "Train loss 0.5632 accuracy 0.7137\n",
      "Valid loss 2.0042 accuracy 0.3333\n",
      "Epoch  7/10\n",
      "-------------------------\n"
     ]
    },
    {
     "name": "stderr",
     "output_type": "stream",
     "text": [
      "TRAIN: 100%|██████████| 17/17 [00:05<00:00,  3.10it/s]\n",
      "EVALUATION: 100%|██████████| 4/4 [00:00<00:00, 10.65it/s]\n"
     ]
    },
    {
     "name": "stdout",
     "output_type": "stream",
     "text": [
      "Train loss 0.4606 accuracy 0.8286\n",
      "Valid loss 1.9227 accuracy 0.3611\n",
      "Epoch  8/10\n",
      "-------------------------\n"
     ]
    },
    {
     "name": "stderr",
     "output_type": "stream",
     "text": [
      "TRAIN: 100%|██████████| 17/17 [00:05<00:00,  3.09it/s]\n",
      "EVALUATION: 100%|██████████| 4/4 [00:00<00:00, 10.30it/s]\n"
     ]
    },
    {
     "name": "stdout",
     "output_type": "stream",
     "text": [
      "Train loss 0.3942 accuracy 0.8531\n",
      "Valid loss 2.9049 accuracy 0.3611\n",
      "Epoch  9/10\n",
      "-------------------------\n"
     ]
    },
    {
     "name": "stderr",
     "output_type": "stream",
     "text": [
      "TRAIN: 100%|██████████| 17/17 [00:05<00:00,  3.08it/s]\n",
      "EVALUATION: 100%|██████████| 4/4 [00:00<00:00, 10.29it/s]\n"
     ]
    },
    {
     "name": "stdout",
     "output_type": "stream",
     "text": [
      "Train loss 0.3750 accuracy 0.8682\n",
      "Valid loss 2.8651 accuracy 0.4352\n",
      "Epoch 10/10\n",
      "-------------------------\n"
     ]
    },
    {
     "name": "stderr",
     "output_type": "stream",
     "text": [
      "TRAIN: 100%|██████████| 17/17 [00:05<00:00,  3.07it/s]\n",
      "EVALUATION: 100%|██████████| 4/4 [00:00<00:00, 10.23it/s]\n"
     ]
    },
    {
     "name": "stdout",
     "output_type": "stream",
     "text": [
      "Train loss 0.3317 accuracy 0.8908\n",
      "Valid loss 2.8201 accuracy 0.4352\n",
      "              precision    recall  f1-score   support\n",
      "\n",
      "     against       0.51      0.63      0.56        38\n",
      "       favor       0.35      0.50      0.41        14\n",
      "     neutral       0.88      0.64      0.74        56\n",
      "\n",
      "    accuracy                           0.62       108\n",
      "   macro avg       0.58      0.59      0.57       108\n",
      "weighted avg       0.68      0.62      0.64       108\n",
      "\n"
     ]
    }
   ],
   "source": [
    "training(data=data_lookism,\n",
    "         batch_size=32,\n",
    "         epochs=10,\n",
    "         learning_rate_optimizer=2e-5,\n",
    "         n_classes=3,\n",
    "         include_topics=False, \n",
    "         balancing='all')"
   ]
  }
 ],
 "metadata": {
  "accelerator": "GPU",
  "colab": {
   "name": "rubert-for-each-topic-with-balancing.ipynb",
   "provenance": []
  },
  "kernelspec": {
   "display_name": "Python 3 (ipykernel)",
   "language": "python",
   "name": "python3"
  },
  "language_info": {
   "codemirror_mode": {
    "name": "ipython",
    "version": 3
   },
   "file_extension": ".py",
   "mimetype": "text/x-python",
   "name": "python",
   "nbconvert_exporter": "python",
   "pygments_lexer": "ipython3",
   "version": "3.8.12"
  },
  "widgets": {
   "application/vnd.jupyter.widget-state+json": {
    "0177d0510ffa435ebd2cdf9f58ee333e": {
     "model_module": "@jupyter-widgets/controls",
     "model_module_version": "1.5.0",
     "model_name": "ProgressStyleModel",
     "state": {
      "_model_module": "@jupyter-widgets/controls",
      "_model_module_version": "1.5.0",
      "_model_name": "ProgressStyleModel",
      "_view_count": null,
      "_view_module": "@jupyter-widgets/base",
      "_view_module_version": "1.2.0",
      "_view_name": "StyleView",
      "bar_color": null,
      "description_width": ""
     }
    },
    "02dd476cf459491292e57628d59a2b4c": {
     "model_module": "@jupyter-widgets/base",
     "model_module_version": "1.2.0",
     "model_name": "LayoutModel",
     "state": {
      "_model_module": "@jupyter-widgets/base",
      "_model_module_version": "1.2.0",
      "_model_name": "LayoutModel",
      "_view_count": null,
      "_view_module": "@jupyter-widgets/base",
      "_view_module_version": "1.2.0",
      "_view_name": "LayoutView",
      "align_content": null,
      "align_items": null,
      "align_self": null,
      "border": null,
      "bottom": null,
      "display": null,
      "flex": null,
      "flex_flow": null,
      "grid_area": null,
      "grid_auto_columns": null,
      "grid_auto_flow": null,
      "grid_auto_rows": null,
      "grid_column": null,
      "grid_gap": null,
      "grid_row": null,
      "grid_template_areas": null,
      "grid_template_columns": null,
      "grid_template_rows": null,
      "height": null,
      "justify_content": null,
      "justify_items": null,
      "left": null,
      "margin": null,
      "max_height": null,
      "max_width": null,
      "min_height": null,
      "min_width": null,
      "object_fit": null,
      "object_position": null,
      "order": null,
      "overflow": null,
      "overflow_x": null,
      "overflow_y": null,
      "padding": null,
      "right": null,
      "top": null,
      "visibility": null,
      "width": null
     }
    },
    "08a92b5d62d346ad910b5231cb4de0a8": {
     "model_module": "@jupyter-widgets/base",
     "model_module_version": "1.2.0",
     "model_name": "LayoutModel",
     "state": {
      "_model_module": "@jupyter-widgets/base",
      "_model_module_version": "1.2.0",
      "_model_name": "LayoutModel",
      "_view_count": null,
      "_view_module": "@jupyter-widgets/base",
      "_view_module_version": "1.2.0",
      "_view_name": "LayoutView",
      "align_content": null,
      "align_items": null,
      "align_self": null,
      "border": null,
      "bottom": null,
      "display": null,
      "flex": null,
      "flex_flow": null,
      "grid_area": null,
      "grid_auto_columns": null,
      "grid_auto_flow": null,
      "grid_auto_rows": null,
      "grid_column": null,
      "grid_gap": null,
      "grid_row": null,
      "grid_template_areas": null,
      "grid_template_columns": null,
      "grid_template_rows": null,
      "height": null,
      "justify_content": null,
      "justify_items": null,
      "left": null,
      "margin": null,
      "max_height": null,
      "max_width": null,
      "min_height": null,
      "min_width": null,
      "object_fit": null,
      "object_position": null,
      "order": null,
      "overflow": null,
      "overflow_x": null,
      "overflow_y": null,
      "padding": null,
      "right": null,
      "top": null,
      "visibility": null,
      "width": null
     }
    },
    "0d83bd2bd4834b8daca7fb5ef46207e5": {
     "model_module": "@jupyter-widgets/controls",
     "model_module_version": "1.5.0",
     "model_name": "HTMLModel",
     "state": {
      "_dom_classes": [],
      "_model_module": "@jupyter-widgets/controls",
      "_model_module_version": "1.5.0",
      "_model_name": "HTMLModel",
      "_view_count": null,
      "_view_module": "@jupyter-widgets/controls",
      "_view_module_version": "1.5.0",
      "_view_name": "HTMLView",
      "description": "",
      "description_tooltip": null,
      "layout": "IPY_MODEL_562fe9dedff5437896968ad2bdf4bb3d",
      "placeholder": "​",
      "style": "IPY_MODEL_eebf702f51174e8e9efa8bc26403e8d1",
      "value": "Downloading: 100%"
     }
    },
    "154deacb66864876bd105da8fec1a444": {
     "model_module": "@jupyter-widgets/controls",
     "model_module_version": "1.5.0",
     "model_name": "ProgressStyleModel",
     "state": {
      "_model_module": "@jupyter-widgets/controls",
      "_model_module_version": "1.5.0",
      "_model_name": "ProgressStyleModel",
      "_view_count": null,
      "_view_module": "@jupyter-widgets/base",
      "_view_module_version": "1.2.0",
      "_view_name": "StyleView",
      "bar_color": null,
      "description_width": ""
     }
    },
    "1ba5d59feeea46dcb21d955d9cbaf5a7": {
     "model_module": "@jupyter-widgets/controls",
     "model_module_version": "1.5.0",
     "model_name": "DescriptionStyleModel",
     "state": {
      "_model_module": "@jupyter-widgets/controls",
      "_model_module_version": "1.5.0",
      "_model_name": "DescriptionStyleModel",
      "_view_count": null,
      "_view_module": "@jupyter-widgets/base",
      "_view_module_version": "1.2.0",
      "_view_name": "StyleView",
      "description_width": ""
     }
    },
    "25291ba7284545298a65be6349575abf": {
     "model_module": "@jupyter-widgets/controls",
     "model_module_version": "1.5.0",
     "model_name": "DescriptionStyleModel",
     "state": {
      "_model_module": "@jupyter-widgets/controls",
      "_model_module_version": "1.5.0",
      "_model_name": "DescriptionStyleModel",
      "_view_count": null,
      "_view_module": "@jupyter-widgets/base",
      "_view_module_version": "1.2.0",
      "_view_name": "StyleView",
      "description_width": ""
     }
    },
    "29ced80f224a4f8d81172df38040e4ad": {
     "model_module": "@jupyter-widgets/controls",
     "model_module_version": "1.5.0",
     "model_name": "HTMLModel",
     "state": {
      "_dom_classes": [],
      "_model_module": "@jupyter-widgets/controls",
      "_model_module_version": "1.5.0",
      "_model_name": "HTMLModel",
      "_view_count": null,
      "_view_module": "@jupyter-widgets/controls",
      "_view_module_version": "1.5.0",
      "_view_name": "HTMLView",
      "description": "",
      "description_tooltip": null,
      "layout": "IPY_MODEL_eea4c2a7cf1f439a90506b80f71ec0c5",
      "placeholder": "​",
      "style": "IPY_MODEL_25291ba7284545298a65be6349575abf",
      "value": "Downloading: 100%"
     }
    },
    "316fe07d14e9499db72b29a387c53cc3": {
     "model_module": "@jupyter-widgets/base",
     "model_module_version": "1.2.0",
     "model_name": "LayoutModel",
     "state": {
      "_model_module": "@jupyter-widgets/base",
      "_model_module_version": "1.2.0",
      "_model_name": "LayoutModel",
      "_view_count": null,
      "_view_module": "@jupyter-widgets/base",
      "_view_module_version": "1.2.0",
      "_view_name": "LayoutView",
      "align_content": null,
      "align_items": null,
      "align_self": null,
      "border": null,
      "bottom": null,
      "display": null,
      "flex": null,
      "flex_flow": null,
      "grid_area": null,
      "grid_auto_columns": null,
      "grid_auto_flow": null,
      "grid_auto_rows": null,
      "grid_column": null,
      "grid_gap": null,
      "grid_row": null,
      "grid_template_areas": null,
      "grid_template_columns": null,
      "grid_template_rows": null,
      "height": null,
      "justify_content": null,
      "justify_items": null,
      "left": null,
      "margin": null,
      "max_height": null,
      "max_width": null,
      "min_height": null,
      "min_width": null,
      "object_fit": null,
      "object_position": null,
      "order": null,
      "overflow": null,
      "overflow_x": null,
      "overflow_y": null,
      "padding": null,
      "right": null,
      "top": null,
      "visibility": null,
      "width": null
     }
    },
    "399046bb79d741c6ba8e9ea57cec392a": {
     "model_module": "@jupyter-widgets/controls",
     "model_module_version": "1.5.0",
     "model_name": "HTMLModel",
     "state": {
      "_dom_classes": [],
      "_model_module": "@jupyter-widgets/controls",
      "_model_module_version": "1.5.0",
      "_model_name": "HTMLModel",
      "_view_count": null,
      "_view_module": "@jupyter-widgets/controls",
      "_view_module_version": "1.5.0",
      "_view_name": "HTMLView",
      "description": "",
      "description_tooltip": null,
      "layout": "IPY_MODEL_f4e14a0002d44fd59f6b684890f7a2e8",
      "placeholder": "​",
      "style": "IPY_MODEL_5cd747a34aaa4d06b5e68a8e6d23891f",
      "value": " 24.0/24.0 [00:00&lt;00:00, 630B/s]"
     }
    },
    "3994a772acf441fe8422ada870c332b7": {
     "model_module": "@jupyter-widgets/controls",
     "model_module_version": "1.5.0",
     "model_name": "ProgressStyleModel",
     "state": {
      "_model_module": "@jupyter-widgets/controls",
      "_model_module_version": "1.5.0",
      "_model_name": "ProgressStyleModel",
      "_view_count": null,
      "_view_module": "@jupyter-widgets/base",
      "_view_module_version": "1.2.0",
      "_view_name": "StyleView",
      "bar_color": null,
      "description_width": ""
     }
    },
    "3d58998e3cee4dec8ad013d5aa0ab1ec": {
     "model_module": "@jupyter-widgets/controls",
     "model_module_version": "1.5.0",
     "model_name": "DescriptionStyleModel",
     "state": {
      "_model_module": "@jupyter-widgets/controls",
      "_model_module_version": "1.5.0",
      "_model_name": "DescriptionStyleModel",
      "_view_count": null,
      "_view_module": "@jupyter-widgets/base",
      "_view_module_version": "1.2.0",
      "_view_name": "StyleView",
      "description_width": ""
     }
    },
    "425d4c78a5764a6db741b1fec8afce0d": {
     "model_module": "@jupyter-widgets/controls",
     "model_module_version": "1.5.0",
     "model_name": "HTMLModel",
     "state": {
      "_dom_classes": [],
      "_model_module": "@jupyter-widgets/controls",
      "_model_module_version": "1.5.0",
      "_model_name": "HTMLModel",
      "_view_count": null,
      "_view_module": "@jupyter-widgets/controls",
      "_view_module_version": "1.5.0",
      "_view_name": "HTMLView",
      "description": "",
      "description_tooltip": null,
      "layout": "IPY_MODEL_ecd8f5de09ab40c8bbb854c5e4c2b88a",
      "placeholder": "​",
      "style": "IPY_MODEL_3d58998e3cee4dec8ad013d5aa0ab1ec",
      "value": "Downloading: 100%"
     }
    },
    "468d8e1cc76c424caaeb77283cc2ecf5": {
     "model_module": "@jupyter-widgets/controls",
     "model_module_version": "1.5.0",
     "model_name": "HTMLModel",
     "state": {
      "_dom_classes": [],
      "_model_module": "@jupyter-widgets/controls",
      "_model_module_version": "1.5.0",
      "_model_name": "HTMLModel",
      "_view_count": null,
      "_view_module": "@jupyter-widgets/controls",
      "_view_module_version": "1.5.0",
      "_view_name": "HTMLView",
      "description": "",
      "description_tooltip": null,
      "layout": "IPY_MODEL_58917e8101cc47c2a75ec9ee0a1b4e93",
      "placeholder": "​",
      "style": "IPY_MODEL_1ba5d59feeea46dcb21d955d9cbaf5a7",
      "value": " 678M/678M [00:29&lt;00:00, 18.9MB/s]"
     }
    },
    "47e092f96c044d558cf9df7ef8598b8b": {
     "model_module": "@jupyter-widgets/base",
     "model_module_version": "1.2.0",
     "model_name": "LayoutModel",
     "state": {
      "_model_module": "@jupyter-widgets/base",
      "_model_module_version": "1.2.0",
      "_model_name": "LayoutModel",
      "_view_count": null,
      "_view_module": "@jupyter-widgets/base",
      "_view_module_version": "1.2.0",
      "_view_name": "LayoutView",
      "align_content": null,
      "align_items": null,
      "align_self": null,
      "border": null,
      "bottom": null,
      "display": null,
      "flex": null,
      "flex_flow": null,
      "grid_area": null,
      "grid_auto_columns": null,
      "grid_auto_flow": null,
      "grid_auto_rows": null,
      "grid_column": null,
      "grid_gap": null,
      "grid_row": null,
      "grid_template_areas": null,
      "grid_template_columns": null,
      "grid_template_rows": null,
      "height": null,
      "justify_content": null,
      "justify_items": null,
      "left": null,
      "margin": null,
      "max_height": null,
      "max_width": null,
      "min_height": null,
      "min_width": null,
      "object_fit": null,
      "object_position": null,
      "order": null,
      "overflow": null,
      "overflow_x": null,
      "overflow_y": null,
      "padding": null,
      "right": null,
      "top": null,
      "visibility": null,
      "width": null
     }
    },
    "4e27c23c62274a039aefffa71b0793fa": {
     "model_module": "@jupyter-widgets/controls",
     "model_module_version": "1.5.0",
     "model_name": "DescriptionStyleModel",
     "state": {
      "_model_module": "@jupyter-widgets/controls",
      "_model_module_version": "1.5.0",
      "_model_name": "DescriptionStyleModel",
      "_view_count": null,
      "_view_module": "@jupyter-widgets/base",
      "_view_module_version": "1.2.0",
      "_view_name": "StyleView",
      "description_width": ""
     }
    },
    "562fe9dedff5437896968ad2bdf4bb3d": {
     "model_module": "@jupyter-widgets/base",
     "model_module_version": "1.2.0",
     "model_name": "LayoutModel",
     "state": {
      "_model_module": "@jupyter-widgets/base",
      "_model_module_version": "1.2.0",
      "_model_name": "LayoutModel",
      "_view_count": null,
      "_view_module": "@jupyter-widgets/base",
      "_view_module_version": "1.2.0",
      "_view_name": "LayoutView",
      "align_content": null,
      "align_items": null,
      "align_self": null,
      "border": null,
      "bottom": null,
      "display": null,
      "flex": null,
      "flex_flow": null,
      "grid_area": null,
      "grid_auto_columns": null,
      "grid_auto_flow": null,
      "grid_auto_rows": null,
      "grid_column": null,
      "grid_gap": null,
      "grid_row": null,
      "grid_template_areas": null,
      "grid_template_columns": null,
      "grid_template_rows": null,
      "height": null,
      "justify_content": null,
      "justify_items": null,
      "left": null,
      "margin": null,
      "max_height": null,
      "max_width": null,
      "min_height": null,
      "min_width": null,
      "object_fit": null,
      "object_position": null,
      "order": null,
      "overflow": null,
      "overflow_x": null,
      "overflow_y": null,
      "padding": null,
      "right": null,
      "top": null,
      "visibility": null,
      "width": null
     }
    },
    "58917e8101cc47c2a75ec9ee0a1b4e93": {
     "model_module": "@jupyter-widgets/base",
     "model_module_version": "1.2.0",
     "model_name": "LayoutModel",
     "state": {
      "_model_module": "@jupyter-widgets/base",
      "_model_module_version": "1.2.0",
      "_model_name": "LayoutModel",
      "_view_count": null,
      "_view_module": "@jupyter-widgets/base",
      "_view_module_version": "1.2.0",
      "_view_name": "LayoutView",
      "align_content": null,
      "align_items": null,
      "align_self": null,
      "border": null,
      "bottom": null,
      "display": null,
      "flex": null,
      "flex_flow": null,
      "grid_area": null,
      "grid_auto_columns": null,
      "grid_auto_flow": null,
      "grid_auto_rows": null,
      "grid_column": null,
      "grid_gap": null,
      "grid_row": null,
      "grid_template_areas": null,
      "grid_template_columns": null,
      "grid_template_rows": null,
      "height": null,
      "justify_content": null,
      "justify_items": null,
      "left": null,
      "margin": null,
      "max_height": null,
      "max_width": null,
      "min_height": null,
      "min_width": null,
      "object_fit": null,
      "object_position": null,
      "order": null,
      "overflow": null,
      "overflow_x": null,
      "overflow_y": null,
      "padding": null,
      "right": null,
      "top": null,
      "visibility": null,
      "width": null
     }
    },
    "5cd747a34aaa4d06b5e68a8e6d23891f": {
     "model_module": "@jupyter-widgets/controls",
     "model_module_version": "1.5.0",
     "model_name": "DescriptionStyleModel",
     "state": {
      "_model_module": "@jupyter-widgets/controls",
      "_model_module_version": "1.5.0",
      "_model_name": "DescriptionStyleModel",
      "_view_count": null,
      "_view_module": "@jupyter-widgets/base",
      "_view_module_version": "1.2.0",
      "_view_name": "StyleView",
      "description_width": ""
     }
    },
    "6315f70868de43c5889839228dd5347b": {
     "model_module": "@jupyter-widgets/base",
     "model_module_version": "1.2.0",
     "model_name": "LayoutModel",
     "state": {
      "_model_module": "@jupyter-widgets/base",
      "_model_module_version": "1.2.0",
      "_model_name": "LayoutModel",
      "_view_count": null,
      "_view_module": "@jupyter-widgets/base",
      "_view_module_version": "1.2.0",
      "_view_name": "LayoutView",
      "align_content": null,
      "align_items": null,
      "align_self": null,
      "border": null,
      "bottom": null,
      "display": null,
      "flex": null,
      "flex_flow": null,
      "grid_area": null,
      "grid_auto_columns": null,
      "grid_auto_flow": null,
      "grid_auto_rows": null,
      "grid_column": null,
      "grid_gap": null,
      "grid_row": null,
      "grid_template_areas": null,
      "grid_template_columns": null,
      "grid_template_rows": null,
      "height": null,
      "justify_content": null,
      "justify_items": null,
      "left": null,
      "margin": null,
      "max_height": null,
      "max_width": null,
      "min_height": null,
      "min_width": null,
      "object_fit": null,
      "object_position": null,
      "order": null,
      "overflow": null,
      "overflow_x": null,
      "overflow_y": null,
      "padding": null,
      "right": null,
      "top": null,
      "visibility": null,
      "width": null
     }
    },
    "663b8bb4cf304fad9b6e5eb5b4681090": {
     "model_module": "@jupyter-widgets/base",
     "model_module_version": "1.2.0",
     "model_name": "LayoutModel",
     "state": {
      "_model_module": "@jupyter-widgets/base",
      "_model_module_version": "1.2.0",
      "_model_name": "LayoutModel",
      "_view_count": null,
      "_view_module": "@jupyter-widgets/base",
      "_view_module_version": "1.2.0",
      "_view_name": "LayoutView",
      "align_content": null,
      "align_items": null,
      "align_self": null,
      "border": null,
      "bottom": null,
      "display": null,
      "flex": null,
      "flex_flow": null,
      "grid_area": null,
      "grid_auto_columns": null,
      "grid_auto_flow": null,
      "grid_auto_rows": null,
      "grid_column": null,
      "grid_gap": null,
      "grid_row": null,
      "grid_template_areas": null,
      "grid_template_columns": null,
      "grid_template_rows": null,
      "height": null,
      "justify_content": null,
      "justify_items": null,
      "left": null,
      "margin": null,
      "max_height": null,
      "max_width": null,
      "min_height": null,
      "min_width": null,
      "object_fit": null,
      "object_position": null,
      "order": null,
      "overflow": null,
      "overflow_x": null,
      "overflow_y": null,
      "padding": null,
      "right": null,
      "top": null,
      "visibility": null,
      "width": null
     }
    },
    "6fd5cdfbaebe400fbd9fadef03e8c0cf": {
     "model_module": "@jupyter-widgets/controls",
     "model_module_version": "1.5.0",
     "model_name": "HBoxModel",
     "state": {
      "_dom_classes": [],
      "_model_module": "@jupyter-widgets/controls",
      "_model_module_version": "1.5.0",
      "_model_name": "HBoxModel",
      "_view_count": null,
      "_view_module": "@jupyter-widgets/controls",
      "_view_module_version": "1.5.0",
      "_view_name": "HBoxView",
      "box_style": "",
      "children": [
       "IPY_MODEL_b43a7cf0ba7841019f6a825cb7bb555e",
       "IPY_MODEL_7196ce8c2efa47009cd29ca9fc99b9b3",
       "IPY_MODEL_468d8e1cc76c424caaeb77283cc2ecf5"
      ],
      "layout": "IPY_MODEL_6315f70868de43c5889839228dd5347b"
     }
    },
    "7196ce8c2efa47009cd29ca9fc99b9b3": {
     "model_module": "@jupyter-widgets/controls",
     "model_module_version": "1.5.0",
     "model_name": "FloatProgressModel",
     "state": {
      "_dom_classes": [],
      "_model_module": "@jupyter-widgets/controls",
      "_model_module_version": "1.5.0",
      "_model_name": "FloatProgressModel",
      "_view_count": null,
      "_view_module": "@jupyter-widgets/controls",
      "_view_module_version": "1.5.0",
      "_view_name": "ProgressView",
      "bar_style": "success",
      "description": "",
      "description_tooltip": null,
      "layout": "IPY_MODEL_02dd476cf459491292e57628d59a2b4c",
      "max": 711456784,
      "min": 0,
      "orientation": "horizontal",
      "style": "IPY_MODEL_0177d0510ffa435ebd2cdf9f58ee333e",
      "value": 711456784
     }
    },
    "7619cccdf5cf4eaa9b92a312de7e8041": {
     "model_module": "@jupyter-widgets/controls",
     "model_module_version": "1.5.0",
     "model_name": "DescriptionStyleModel",
     "state": {
      "_model_module": "@jupyter-widgets/controls",
      "_model_module_version": "1.5.0",
      "_model_name": "DescriptionStyleModel",
      "_view_count": null,
      "_view_module": "@jupyter-widgets/base",
      "_view_module_version": "1.2.0",
      "_view_name": "StyleView",
      "description_width": ""
     }
    },
    "7c23c87d47fb48ec9e0e02e28408614d": {
     "model_module": "@jupyter-widgets/controls",
     "model_module_version": "1.5.0",
     "model_name": "FloatProgressModel",
     "state": {
      "_dom_classes": [],
      "_model_module": "@jupyter-widgets/controls",
      "_model_module_version": "1.5.0",
      "_model_name": "FloatProgressModel",
      "_view_count": null,
      "_view_module": "@jupyter-widgets/controls",
      "_view_module_version": "1.5.0",
      "_view_name": "ProgressView",
      "bar_style": "success",
      "description": "",
      "description_tooltip": null,
      "layout": "IPY_MODEL_9db805a6c836463b8e65a797bd8be953",
      "max": 112,
      "min": 0,
      "orientation": "horizontal",
      "style": "IPY_MODEL_c2ac24e94e3c4cca89ae4f8a7fb7eba8",
      "value": 112
     }
    },
    "7d27771fb8c245f28aad18ee4e815427": {
     "model_module": "@jupyter-widgets/controls",
     "model_module_version": "1.5.0",
     "model_name": "HTMLModel",
     "state": {
      "_dom_classes": [],
      "_model_module": "@jupyter-widgets/controls",
      "_model_module_version": "1.5.0",
      "_model_name": "HTMLModel",
      "_view_count": null,
      "_view_module": "@jupyter-widgets/controls",
      "_view_module_version": "1.5.0",
      "_view_name": "HTMLView",
      "description": "",
      "description_tooltip": null,
      "layout": "IPY_MODEL_663b8bb4cf304fad9b6e5eb5b4681090",
      "placeholder": "​",
      "style": "IPY_MODEL_ac43339134114f04a5e6ae6990712558",
      "value": "Downloading: 100%"
     }
    },
    "82fbd88ad2a14514ab233e19fae2db41": {
     "model_module": "@jupyter-widgets/base",
     "model_module_version": "1.2.0",
     "model_name": "LayoutModel",
     "state": {
      "_model_module": "@jupyter-widgets/base",
      "_model_module_version": "1.2.0",
      "_model_name": "LayoutModel",
      "_view_count": null,
      "_view_module": "@jupyter-widgets/base",
      "_view_module_version": "1.2.0",
      "_view_name": "LayoutView",
      "align_content": null,
      "align_items": null,
      "align_self": null,
      "border": null,
      "bottom": null,
      "display": null,
      "flex": null,
      "flex_flow": null,
      "grid_area": null,
      "grid_auto_columns": null,
      "grid_auto_flow": null,
      "grid_auto_rows": null,
      "grid_column": null,
      "grid_gap": null,
      "grid_row": null,
      "grid_template_areas": null,
      "grid_template_columns": null,
      "grid_template_rows": null,
      "height": null,
      "justify_content": null,
      "justify_items": null,
      "left": null,
      "margin": null,
      "max_height": null,
      "max_width": null,
      "min_height": null,
      "min_width": null,
      "object_fit": null,
      "object_position": null,
      "order": null,
      "overflow": null,
      "overflow_x": null,
      "overflow_y": null,
      "padding": null,
      "right": null,
      "top": null,
      "visibility": null,
      "width": null
     }
    },
    "87f36d259f02477db5edda51743ddecf": {
     "model_module": "@jupyter-widgets/controls",
     "model_module_version": "1.5.0",
     "model_name": "ProgressStyleModel",
     "state": {
      "_model_module": "@jupyter-widgets/controls",
      "_model_module_version": "1.5.0",
      "_model_name": "ProgressStyleModel",
      "_view_count": null,
      "_view_module": "@jupyter-widgets/base",
      "_view_module_version": "1.2.0",
      "_view_name": "StyleView",
      "bar_color": null,
      "description_width": ""
     }
    },
    "8caef9c718ad46d5a49fbd917ab1b213": {
     "model_module": "@jupyter-widgets/base",
     "model_module_version": "1.2.0",
     "model_name": "LayoutModel",
     "state": {
      "_model_module": "@jupyter-widgets/base",
      "_model_module_version": "1.2.0",
      "_model_name": "LayoutModel",
      "_view_count": null,
      "_view_module": "@jupyter-widgets/base",
      "_view_module_version": "1.2.0",
      "_view_name": "LayoutView",
      "align_content": null,
      "align_items": null,
      "align_self": null,
      "border": null,
      "bottom": null,
      "display": null,
      "flex": null,
      "flex_flow": null,
      "grid_area": null,
      "grid_auto_columns": null,
      "grid_auto_flow": null,
      "grid_auto_rows": null,
      "grid_column": null,
      "grid_gap": null,
      "grid_row": null,
      "grid_template_areas": null,
      "grid_template_columns": null,
      "grid_template_rows": null,
      "height": null,
      "justify_content": null,
      "justify_items": null,
      "left": null,
      "margin": null,
      "max_height": null,
      "max_width": null,
      "min_height": null,
      "min_width": null,
      "object_fit": null,
      "object_position": null,
      "order": null,
      "overflow": null,
      "overflow_x": null,
      "overflow_y": null,
      "padding": null,
      "right": null,
      "top": null,
      "visibility": null,
      "width": null
     }
    },
    "9db805a6c836463b8e65a797bd8be953": {
     "model_module": "@jupyter-widgets/base",
     "model_module_version": "1.2.0",
     "model_name": "LayoutModel",
     "state": {
      "_model_module": "@jupyter-widgets/base",
      "_model_module_version": "1.2.0",
      "_model_name": "LayoutModel",
      "_view_count": null,
      "_view_module": "@jupyter-widgets/base",
      "_view_module_version": "1.2.0",
      "_view_name": "LayoutView",
      "align_content": null,
      "align_items": null,
      "align_self": null,
      "border": null,
      "bottom": null,
      "display": null,
      "flex": null,
      "flex_flow": null,
      "grid_area": null,
      "grid_auto_columns": null,
      "grid_auto_flow": null,
      "grid_auto_rows": null,
      "grid_column": null,
      "grid_gap": null,
      "grid_row": null,
      "grid_template_areas": null,
      "grid_template_columns": null,
      "grid_template_rows": null,
      "height": null,
      "justify_content": null,
      "justify_items": null,
      "left": null,
      "margin": null,
      "max_height": null,
      "max_width": null,
      "min_height": null,
      "min_width": null,
      "object_fit": null,
      "object_position": null,
      "order": null,
      "overflow": null,
      "overflow_x": null,
      "overflow_y": null,
      "padding": null,
      "right": null,
      "top": null,
      "visibility": null,
      "width": null
     }
    },
    "a01e126f345b4c63be9a7912e60d9766": {
     "model_module": "@jupyter-widgets/controls",
     "model_module_version": "1.5.0",
     "model_name": "HBoxModel",
     "state": {
      "_dom_classes": [],
      "_model_module": "@jupyter-widgets/controls",
      "_model_module_version": "1.5.0",
      "_model_name": "HBoxModel",
      "_view_count": null,
      "_view_module": "@jupyter-widgets/controls",
      "_view_module_version": "1.5.0",
      "_view_name": "HBoxView",
      "box_style": "",
      "children": [
       "IPY_MODEL_425d4c78a5764a6db741b1fec8afce0d",
       "IPY_MODEL_f41a73cbc45d403a9c6045d83feda8a3",
       "IPY_MODEL_df4f785ba64e4f09a4c1b1f5677bac2c"
      ],
      "layout": "IPY_MODEL_316fe07d14e9499db72b29a387c53cc3"
     }
    },
    "a6788a14ce424137854d077c16a5eea8": {
     "model_module": "@jupyter-widgets/controls",
     "model_module_version": "1.5.0",
     "model_name": "HBoxModel",
     "state": {
      "_dom_classes": [],
      "_model_module": "@jupyter-widgets/controls",
      "_model_module_version": "1.5.0",
      "_model_name": "HBoxModel",
      "_view_count": null,
      "_view_module": "@jupyter-widgets/controls",
      "_view_module_version": "1.5.0",
      "_view_name": "HBoxView",
      "box_style": "",
      "children": [
       "IPY_MODEL_7d27771fb8c245f28aad18ee4e815427",
       "IPY_MODEL_7c23c87d47fb48ec9e0e02e28408614d",
       "IPY_MODEL_df092074c7134b55af4525b00f89c4fe"
      ],
      "layout": "IPY_MODEL_e27cf63a75e44d639fbedf499e71535b"
     }
    },
    "aa9a0f0549a14a68a1876de8798f798c": {
     "model_module": "@jupyter-widgets/controls",
     "model_module_version": "1.5.0",
     "model_name": "DescriptionStyleModel",
     "state": {
      "_model_module": "@jupyter-widgets/controls",
      "_model_module_version": "1.5.0",
      "_model_name": "DescriptionStyleModel",
      "_view_count": null,
      "_view_module": "@jupyter-widgets/base",
      "_view_module_version": "1.2.0",
      "_view_name": "StyleView",
      "description_width": ""
     }
    },
    "ac43339134114f04a5e6ae6990712558": {
     "model_module": "@jupyter-widgets/controls",
     "model_module_version": "1.5.0",
     "model_name": "DescriptionStyleModel",
     "state": {
      "_model_module": "@jupyter-widgets/controls",
      "_model_module_version": "1.5.0",
      "_model_name": "DescriptionStyleModel",
      "_view_count": null,
      "_view_module": "@jupyter-widgets/base",
      "_view_module_version": "1.2.0",
      "_view_name": "StyleView",
      "description_width": ""
     }
    },
    "b08e644e37be4b74bf1ea034bda4d063": {
     "model_module": "@jupyter-widgets/controls",
     "model_module_version": "1.5.0",
     "model_name": "DescriptionStyleModel",
     "state": {
      "_model_module": "@jupyter-widgets/controls",
      "_model_module_version": "1.5.0",
      "_model_name": "DescriptionStyleModel",
      "_view_count": null,
      "_view_module": "@jupyter-widgets/base",
      "_view_module_version": "1.2.0",
      "_view_name": "StyleView",
      "description_width": ""
     }
    },
    "b43a7cf0ba7841019f6a825cb7bb555e": {
     "model_module": "@jupyter-widgets/controls",
     "model_module_version": "1.5.0",
     "model_name": "HTMLModel",
     "state": {
      "_dom_classes": [],
      "_model_module": "@jupyter-widgets/controls",
      "_model_module_version": "1.5.0",
      "_model_name": "HTMLModel",
      "_view_count": null,
      "_view_module": "@jupyter-widgets/controls",
      "_view_module_version": "1.5.0",
      "_view_name": "HTMLView",
      "description": "",
      "description_tooltip": null,
      "layout": "IPY_MODEL_82fbd88ad2a14514ab233e19fae2db41",
      "placeholder": "​",
      "style": "IPY_MODEL_7619cccdf5cf4eaa9b92a312de7e8041",
      "value": "Downloading: 100%"
     }
    },
    "c2ac24e94e3c4cca89ae4f8a7fb7eba8": {
     "model_module": "@jupyter-widgets/controls",
     "model_module_version": "1.5.0",
     "model_name": "ProgressStyleModel",
     "state": {
      "_model_module": "@jupyter-widgets/controls",
      "_model_module_version": "1.5.0",
      "_model_name": "ProgressStyleModel",
      "_view_count": null,
      "_view_module": "@jupyter-widgets/base",
      "_view_module_version": "1.2.0",
      "_view_name": "StyleView",
      "bar_color": null,
      "description_width": ""
     }
    },
    "c5dc44d2117b499994e078f563bf56c3": {
     "model_module": "@jupyter-widgets/base",
     "model_module_version": "1.2.0",
     "model_name": "LayoutModel",
     "state": {
      "_model_module": "@jupyter-widgets/base",
      "_model_module_version": "1.2.0",
      "_model_name": "LayoutModel",
      "_view_count": null,
      "_view_module": "@jupyter-widgets/base",
      "_view_module_version": "1.2.0",
      "_view_name": "LayoutView",
      "align_content": null,
      "align_items": null,
      "align_self": null,
      "border": null,
      "bottom": null,
      "display": null,
      "flex": null,
      "flex_flow": null,
      "grid_area": null,
      "grid_auto_columns": null,
      "grid_auto_flow": null,
      "grid_auto_rows": null,
      "grid_column": null,
      "grid_gap": null,
      "grid_row": null,
      "grid_template_areas": null,
      "grid_template_columns": null,
      "grid_template_rows": null,
      "height": null,
      "justify_content": null,
      "justify_items": null,
      "left": null,
      "margin": null,
      "max_height": null,
      "max_width": null,
      "min_height": null,
      "min_width": null,
      "object_fit": null,
      "object_position": null,
      "order": null,
      "overflow": null,
      "overflow_x": null,
      "overflow_y": null,
      "padding": null,
      "right": null,
      "top": null,
      "visibility": null,
      "width": null
     }
    },
    "c842460ef32e422e8fb44ff233aa7e96": {
     "model_module": "@jupyter-widgets/base",
     "model_module_version": "1.2.0",
     "model_name": "LayoutModel",
     "state": {
      "_model_module": "@jupyter-widgets/base",
      "_model_module_version": "1.2.0",
      "_model_name": "LayoutModel",
      "_view_count": null,
      "_view_module": "@jupyter-widgets/base",
      "_view_module_version": "1.2.0",
      "_view_name": "LayoutView",
      "align_content": null,
      "align_items": null,
      "align_self": null,
      "border": null,
      "bottom": null,
      "display": null,
      "flex": null,
      "flex_flow": null,
      "grid_area": null,
      "grid_auto_columns": null,
      "grid_auto_flow": null,
      "grid_auto_rows": null,
      "grid_column": null,
      "grid_gap": null,
      "grid_row": null,
      "grid_template_areas": null,
      "grid_template_columns": null,
      "grid_template_rows": null,
      "height": null,
      "justify_content": null,
      "justify_items": null,
      "left": null,
      "margin": null,
      "max_height": null,
      "max_width": null,
      "min_height": null,
      "min_width": null,
      "object_fit": null,
      "object_position": null,
      "order": null,
      "overflow": null,
      "overflow_x": null,
      "overflow_y": null,
      "padding": null,
      "right": null,
      "top": null,
      "visibility": null,
      "width": null
     }
    },
    "d23c7e7882534536897b3d4588caefc3": {
     "model_module": "@jupyter-widgets/controls",
     "model_module_version": "1.5.0",
     "model_name": "FloatProgressModel",
     "state": {
      "_dom_classes": [],
      "_model_module": "@jupyter-widgets/controls",
      "_model_module_version": "1.5.0",
      "_model_name": "FloatProgressModel",
      "_view_count": null,
      "_view_module": "@jupyter-widgets/controls",
      "_view_module_version": "1.5.0",
      "_view_name": "ProgressView",
      "bar_style": "success",
      "description": "",
      "description_tooltip": null,
      "layout": "IPY_MODEL_c5dc44d2117b499994e078f563bf56c3",
      "max": 642,
      "min": 0,
      "orientation": "horizontal",
      "style": "IPY_MODEL_87f36d259f02477db5edda51743ddecf",
      "value": 642
     }
    },
    "d2bdd15fd4fc45be8fc148f274cf54d4": {
     "model_module": "@jupyter-widgets/base",
     "model_module_version": "1.2.0",
     "model_name": "LayoutModel",
     "state": {
      "_model_module": "@jupyter-widgets/base",
      "_model_module_version": "1.2.0",
      "_model_name": "LayoutModel",
      "_view_count": null,
      "_view_module": "@jupyter-widgets/base",
      "_view_module_version": "1.2.0",
      "_view_name": "LayoutView",
      "align_content": null,
      "align_items": null,
      "align_self": null,
      "border": null,
      "bottom": null,
      "display": null,
      "flex": null,
      "flex_flow": null,
      "grid_area": null,
      "grid_auto_columns": null,
      "grid_auto_flow": null,
      "grid_auto_rows": null,
      "grid_column": null,
      "grid_gap": null,
      "grid_row": null,
      "grid_template_areas": null,
      "grid_template_columns": null,
      "grid_template_rows": null,
      "height": null,
      "justify_content": null,
      "justify_items": null,
      "left": null,
      "margin": null,
      "max_height": null,
      "max_width": null,
      "min_height": null,
      "min_width": null,
      "object_fit": null,
      "object_position": null,
      "order": null,
      "overflow": null,
      "overflow_x": null,
      "overflow_y": null,
      "padding": null,
      "right": null,
      "top": null,
      "visibility": null,
      "width": null
     }
    },
    "d54b96bde8d8419cbf54b6255a18c014": {
     "model_module": "@jupyter-widgets/controls",
     "model_module_version": "1.5.0",
     "model_name": "HBoxModel",
     "state": {
      "_dom_classes": [],
      "_model_module": "@jupyter-widgets/controls",
      "_model_module_version": "1.5.0",
      "_model_name": "HBoxModel",
      "_view_count": null,
      "_view_module": "@jupyter-widgets/controls",
      "_view_module_version": "1.5.0",
      "_view_name": "HBoxView",
      "box_style": "",
      "children": [
       "IPY_MODEL_0d83bd2bd4834b8daca7fb5ef46207e5",
       "IPY_MODEL_e6d00ef7273146838df7c931751514c0",
       "IPY_MODEL_399046bb79d741c6ba8e9ea57cec392a"
      ],
      "layout": "IPY_MODEL_c842460ef32e422e8fb44ff233aa7e96"
     }
    },
    "df092074c7134b55af4525b00f89c4fe": {
     "model_module": "@jupyter-widgets/controls",
     "model_module_version": "1.5.0",
     "model_name": "HTMLModel",
     "state": {
      "_dom_classes": [],
      "_model_module": "@jupyter-widgets/controls",
      "_model_module_version": "1.5.0",
      "_model_name": "HTMLModel",
      "_view_count": null,
      "_view_module": "@jupyter-widgets/controls",
      "_view_module_version": "1.5.0",
      "_view_name": "HTMLView",
      "description": "",
      "description_tooltip": null,
      "layout": "IPY_MODEL_ff0d29e826f84257bb2d17d3d3bf09af",
      "placeholder": "​",
      "style": "IPY_MODEL_b08e644e37be4b74bf1ea034bda4d063",
      "value": " 112/112 [00:00&lt;00:00, 3.33kB/s]"
     }
    },
    "df4f785ba64e4f09a4c1b1f5677bac2c": {
     "model_module": "@jupyter-widgets/controls",
     "model_module_version": "1.5.0",
     "model_name": "HTMLModel",
     "state": {
      "_dom_classes": [],
      "_model_module": "@jupyter-widgets/controls",
      "_model_module_version": "1.5.0",
      "_model_name": "HTMLModel",
      "_view_count": null,
      "_view_module": "@jupyter-widgets/controls",
      "_view_module_version": "1.5.0",
      "_view_name": "HTMLView",
      "description": "",
      "description_tooltip": null,
      "layout": "IPY_MODEL_8caef9c718ad46d5a49fbd917ab1b213",
      "placeholder": "​",
      "style": "IPY_MODEL_aa9a0f0549a14a68a1876de8798f798c",
      "value": " 1.57M/1.57M [00:00&lt;00:00, 2.80MB/s]"
     }
    },
    "e13fc89f87a140d4b88636c63f85c5dd": {
     "model_module": "@jupyter-widgets/base",
     "model_module_version": "1.2.0",
     "model_name": "LayoutModel",
     "state": {
      "_model_module": "@jupyter-widgets/base",
      "_model_module_version": "1.2.0",
      "_model_name": "LayoutModel",
      "_view_count": null,
      "_view_module": "@jupyter-widgets/base",
      "_view_module_version": "1.2.0",
      "_view_name": "LayoutView",
      "align_content": null,
      "align_items": null,
      "align_self": null,
      "border": null,
      "bottom": null,
      "display": null,
      "flex": null,
      "flex_flow": null,
      "grid_area": null,
      "grid_auto_columns": null,
      "grid_auto_flow": null,
      "grid_auto_rows": null,
      "grid_column": null,
      "grid_gap": null,
      "grid_row": null,
      "grid_template_areas": null,
      "grid_template_columns": null,
      "grid_template_rows": null,
      "height": null,
      "justify_content": null,
      "justify_items": null,
      "left": null,
      "margin": null,
      "max_height": null,
      "max_width": null,
      "min_height": null,
      "min_width": null,
      "object_fit": null,
      "object_position": null,
      "order": null,
      "overflow": null,
      "overflow_x": null,
      "overflow_y": null,
      "padding": null,
      "right": null,
      "top": null,
      "visibility": null,
      "width": null
     }
    },
    "e27cf63a75e44d639fbedf499e71535b": {
     "model_module": "@jupyter-widgets/base",
     "model_module_version": "1.2.0",
     "model_name": "LayoutModel",
     "state": {
      "_model_module": "@jupyter-widgets/base",
      "_model_module_version": "1.2.0",
      "_model_name": "LayoutModel",
      "_view_count": null,
      "_view_module": "@jupyter-widgets/base",
      "_view_module_version": "1.2.0",
      "_view_name": "LayoutView",
      "align_content": null,
      "align_items": null,
      "align_self": null,
      "border": null,
      "bottom": null,
      "display": null,
      "flex": null,
      "flex_flow": null,
      "grid_area": null,
      "grid_auto_columns": null,
      "grid_auto_flow": null,
      "grid_auto_rows": null,
      "grid_column": null,
      "grid_gap": null,
      "grid_row": null,
      "grid_template_areas": null,
      "grid_template_columns": null,
      "grid_template_rows": null,
      "height": null,
      "justify_content": null,
      "justify_items": null,
      "left": null,
      "margin": null,
      "max_height": null,
      "max_width": null,
      "min_height": null,
      "min_width": null,
      "object_fit": null,
      "object_position": null,
      "order": null,
      "overflow": null,
      "overflow_x": null,
      "overflow_y": null,
      "padding": null,
      "right": null,
      "top": null,
      "visibility": null,
      "width": null
     }
    },
    "e5c8d13963614ba08b73b9f4b7430a41": {
     "model_module": "@jupyter-widgets/controls",
     "model_module_version": "1.5.0",
     "model_name": "HTMLModel",
     "state": {
      "_dom_classes": [],
      "_model_module": "@jupyter-widgets/controls",
      "_model_module_version": "1.5.0",
      "_model_name": "HTMLModel",
      "_view_count": null,
      "_view_module": "@jupyter-widgets/controls",
      "_view_module_version": "1.5.0",
      "_view_name": "HTMLView",
      "description": "",
      "description_tooltip": null,
      "layout": "IPY_MODEL_08a92b5d62d346ad910b5231cb4de0a8",
      "placeholder": "​",
      "style": "IPY_MODEL_4e27c23c62274a039aefffa71b0793fa",
      "value": " 642/642 [00:00&lt;00:00, 19.5kB/s]"
     }
    },
    "e6d00ef7273146838df7c931751514c0": {
     "model_module": "@jupyter-widgets/controls",
     "model_module_version": "1.5.0",
     "model_name": "FloatProgressModel",
     "state": {
      "_dom_classes": [],
      "_model_module": "@jupyter-widgets/controls",
      "_model_module_version": "1.5.0",
      "_model_name": "FloatProgressModel",
      "_view_count": null,
      "_view_module": "@jupyter-widgets/controls",
      "_view_module_version": "1.5.0",
      "_view_name": "ProgressView",
      "bar_style": "success",
      "description": "",
      "description_tooltip": null,
      "layout": "IPY_MODEL_e13fc89f87a140d4b88636c63f85c5dd",
      "max": 24,
      "min": 0,
      "orientation": "horizontal",
      "style": "IPY_MODEL_154deacb66864876bd105da8fec1a444",
      "value": 24
     }
    },
    "ecd8f5de09ab40c8bbb854c5e4c2b88a": {
     "model_module": "@jupyter-widgets/base",
     "model_module_version": "1.2.0",
     "model_name": "LayoutModel",
     "state": {
      "_model_module": "@jupyter-widgets/base",
      "_model_module_version": "1.2.0",
      "_model_name": "LayoutModel",
      "_view_count": null,
      "_view_module": "@jupyter-widgets/base",
      "_view_module_version": "1.2.0",
      "_view_name": "LayoutView",
      "align_content": null,
      "align_items": null,
      "align_self": null,
      "border": null,
      "bottom": null,
      "display": null,
      "flex": null,
      "flex_flow": null,
      "grid_area": null,
      "grid_auto_columns": null,
      "grid_auto_flow": null,
      "grid_auto_rows": null,
      "grid_column": null,
      "grid_gap": null,
      "grid_row": null,
      "grid_template_areas": null,
      "grid_template_columns": null,
      "grid_template_rows": null,
      "height": null,
      "justify_content": null,
      "justify_items": null,
      "left": null,
      "margin": null,
      "max_height": null,
      "max_width": null,
      "min_height": null,
      "min_width": null,
      "object_fit": null,
      "object_position": null,
      "order": null,
      "overflow": null,
      "overflow_x": null,
      "overflow_y": null,
      "padding": null,
      "right": null,
      "top": null,
      "visibility": null,
      "width": null
     }
    },
    "eea4c2a7cf1f439a90506b80f71ec0c5": {
     "model_module": "@jupyter-widgets/base",
     "model_module_version": "1.2.0",
     "model_name": "LayoutModel",
     "state": {
      "_model_module": "@jupyter-widgets/base",
      "_model_module_version": "1.2.0",
      "_model_name": "LayoutModel",
      "_view_count": null,
      "_view_module": "@jupyter-widgets/base",
      "_view_module_version": "1.2.0",
      "_view_name": "LayoutView",
      "align_content": null,
      "align_items": null,
      "align_self": null,
      "border": null,
      "bottom": null,
      "display": null,
      "flex": null,
      "flex_flow": null,
      "grid_area": null,
      "grid_auto_columns": null,
      "grid_auto_flow": null,
      "grid_auto_rows": null,
      "grid_column": null,
      "grid_gap": null,
      "grid_row": null,
      "grid_template_areas": null,
      "grid_template_columns": null,
      "grid_template_rows": null,
      "height": null,
      "justify_content": null,
      "justify_items": null,
      "left": null,
      "margin": null,
      "max_height": null,
      "max_width": null,
      "min_height": null,
      "min_width": null,
      "object_fit": null,
      "object_position": null,
      "order": null,
      "overflow": null,
      "overflow_x": null,
      "overflow_y": null,
      "padding": null,
      "right": null,
      "top": null,
      "visibility": null,
      "width": null
     }
    },
    "eebf702f51174e8e9efa8bc26403e8d1": {
     "model_module": "@jupyter-widgets/controls",
     "model_module_version": "1.5.0",
     "model_name": "DescriptionStyleModel",
     "state": {
      "_model_module": "@jupyter-widgets/controls",
      "_model_module_version": "1.5.0",
      "_model_name": "DescriptionStyleModel",
      "_view_count": null,
      "_view_module": "@jupyter-widgets/base",
      "_view_module_version": "1.2.0",
      "_view_name": "StyleView",
      "description_width": ""
     }
    },
    "f0efa03a13a446979a78ca0818356e4e": {
     "model_module": "@jupyter-widgets/controls",
     "model_module_version": "1.5.0",
     "model_name": "HBoxModel",
     "state": {
      "_dom_classes": [],
      "_model_module": "@jupyter-widgets/controls",
      "_model_module_version": "1.5.0",
      "_model_name": "HBoxModel",
      "_view_count": null,
      "_view_module": "@jupyter-widgets/controls",
      "_view_module_version": "1.5.0",
      "_view_name": "HBoxView",
      "box_style": "",
      "children": [
       "IPY_MODEL_29ced80f224a4f8d81172df38040e4ad",
       "IPY_MODEL_d23c7e7882534536897b3d4588caefc3",
       "IPY_MODEL_e5c8d13963614ba08b73b9f4b7430a41"
      ],
      "layout": "IPY_MODEL_47e092f96c044d558cf9df7ef8598b8b"
     }
    },
    "f41a73cbc45d403a9c6045d83feda8a3": {
     "model_module": "@jupyter-widgets/controls",
     "model_module_version": "1.5.0",
     "model_name": "FloatProgressModel",
     "state": {
      "_dom_classes": [],
      "_model_module": "@jupyter-widgets/controls",
      "_model_module_version": "1.5.0",
      "_model_name": "FloatProgressModel",
      "_view_count": null,
      "_view_module": "@jupyter-widgets/controls",
      "_view_module_version": "1.5.0",
      "_view_name": "ProgressView",
      "bar_style": "success",
      "description": "",
      "description_tooltip": null,
      "layout": "IPY_MODEL_d2bdd15fd4fc45be8fc148f274cf54d4",
      "max": 1649718,
      "min": 0,
      "orientation": "horizontal",
      "style": "IPY_MODEL_3994a772acf441fe8422ada870c332b7",
      "value": 1649718
     }
    },
    "f4e14a0002d44fd59f6b684890f7a2e8": {
     "model_module": "@jupyter-widgets/base",
     "model_module_version": "1.2.0",
     "model_name": "LayoutModel",
     "state": {
      "_model_module": "@jupyter-widgets/base",
      "_model_module_version": "1.2.0",
      "_model_name": "LayoutModel",
      "_view_count": null,
      "_view_module": "@jupyter-widgets/base",
      "_view_module_version": "1.2.0",
      "_view_name": "LayoutView",
      "align_content": null,
      "align_items": null,
      "align_self": null,
      "border": null,
      "bottom": null,
      "display": null,
      "flex": null,
      "flex_flow": null,
      "grid_area": null,
      "grid_auto_columns": null,
      "grid_auto_flow": null,
      "grid_auto_rows": null,
      "grid_column": null,
      "grid_gap": null,
      "grid_row": null,
      "grid_template_areas": null,
      "grid_template_columns": null,
      "grid_template_rows": null,
      "height": null,
      "justify_content": null,
      "justify_items": null,
      "left": null,
      "margin": null,
      "max_height": null,
      "max_width": null,
      "min_height": null,
      "min_width": null,
      "object_fit": null,
      "object_position": null,
      "order": null,
      "overflow": null,
      "overflow_x": null,
      "overflow_y": null,
      "padding": null,
      "right": null,
      "top": null,
      "visibility": null,
      "width": null
     }
    },
    "ff0d29e826f84257bb2d17d3d3bf09af": {
     "model_module": "@jupyter-widgets/base",
     "model_module_version": "1.2.0",
     "model_name": "LayoutModel",
     "state": {
      "_model_module": "@jupyter-widgets/base",
      "_model_module_version": "1.2.0",
      "_model_name": "LayoutModel",
      "_view_count": null,
      "_view_module": "@jupyter-widgets/base",
      "_view_module_version": "1.2.0",
      "_view_name": "LayoutView",
      "align_content": null,
      "align_items": null,
      "align_self": null,
      "border": null,
      "bottom": null,
      "display": null,
      "flex": null,
      "flex_flow": null,
      "grid_area": null,
      "grid_auto_columns": null,
      "grid_auto_flow": null,
      "grid_auto_rows": null,
      "grid_column": null,
      "grid_gap": null,
      "grid_row": null,
      "grid_template_areas": null,
      "grid_template_columns": null,
      "grid_template_rows": null,
      "height": null,
      "justify_content": null,
      "justify_items": null,
      "left": null,
      "margin": null,
      "max_height": null,
      "max_width": null,
      "min_height": null,
      "min_width": null,
      "object_fit": null,
      "object_position": null,
      "order": null,
      "overflow": null,
      "overflow_x": null,
      "overflow_y": null,
      "padding": null,
      "right": null,
      "top": null,
      "visibility": null,
      "width": null
     }
    }
   }
  }
 },
 "nbformat": 4,
 "nbformat_minor": 1
}
