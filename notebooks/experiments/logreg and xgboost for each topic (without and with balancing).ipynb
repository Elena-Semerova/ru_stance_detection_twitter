{
 "cells": [
  {
   "cell_type": "markdown",
   "id": "454b8f28",
   "metadata": {},
   "source": [
    "## imports"
   ]
  },
  {
   "cell_type": "code",
   "execution_count": null,
   "id": "bdd25fc3",
   "metadata": {},
   "outputs": [],
   "source": [
    "cd ../.."
   ]
  },
  {
   "cell_type": "code",
   "execution_count": 1,
   "id": "5fa6260f",
   "metadata": {},
   "outputs": [],
   "source": [
    "import pandas as pd\n",
    "\n",
    "from src.models.logreg_and_xgboost import best_model\n",
    "from src.utils import read_yml_file"
   ]
  },
  {
   "cell_type": "code",
   "execution_count": null,
   "id": "05afdb5c",
   "metadata": {},
   "outputs": [],
   "source": [
    "TOPICS = [\"cancel_culture\",\n",
    "          \"feminism\",\n",
    "          \"lgbtq_plus\",\n",
    "          \"ageism\",\n",
    "          \"lookism\"]\n",
    "NAME_CONFIG_PATH = \"configs/name_config.yaml\""
   ]
  },
  {
   "cell_type": "code",
   "execution_count": null,
   "id": "cb269c31",
   "metadata": {},
   "outputs": [],
   "source": [
    "name_config = read_yml_file(NAME_CONFIG_PATH)"
   ]
  },
  {
   "cell_type": "markdown",
   "id": "4853efed",
   "metadata": {},
   "source": [
    "## read data"
   ]
  },
  {
   "cell_type": "code",
   "execution_count": 2,
   "id": "059cdf1e",
   "metadata": {},
   "outputs": [],
   "source": [
    "cancel_culture = pd.read_csv(name_config[f\"preprocessed_data_{TOPICS[0]}_path\"])\n",
    "feminism = pd.read_csv(name_config[f\"preprocessed_data_{TOPICS[1]}_path\"])\n",
    "lgbtq_plus = pd.read_csv(name_config[f\"preprocessed_data_{TOPICS[2]}_path\"])\n",
    "ageism = pd.read_csv(name_config[f\"preprocessed_data_{TOPICS[3]}_path\"])\n",
    "lookism = pd.read_csv(name_config[f\"preprocessed_data_{TOPICS[4]}_path\"])"
   ]
  },
  {
   "cell_type": "markdown",
   "id": "5d234754",
   "metadata": {},
   "source": [
    "## without balancing"
   ]
  },
  {
   "cell_type": "markdown",
   "id": "1a8f07ec",
   "metadata": {},
   "source": [
    "### cancel culture"
   ]
  },
  {
   "cell_type": "markdown",
   "id": "040df23e",
   "metadata": {},
   "source": [
    "#### bow"
   ]
  },
  {
   "cell_type": "code",
   "execution_count": 3,
   "id": "86986acb",
   "metadata": {},
   "outputs": [
    {
     "name": "stdout",
     "output_type": "stream",
     "text": [
      "Fitting 3 folds for each of 14 candidates, totalling 42 fits\n",
      "best parameters for model:\t logreg\n",
      "{'C': 0.01, 'penalty': 'l2'}\n",
      "\n",
      "              precision    recall  f1-score   support\n",
      "\n",
      "           0       0.50      0.42      0.46        62\n",
      "           1       0.00      0.00      0.00        17\n",
      "           2       0.45      0.66      0.53        56\n",
      "\n",
      "    accuracy                           0.47       135\n",
      "   macro avg       0.32      0.36      0.33       135\n",
      "weighted avg       0.41      0.47      0.43       135\n",
      "\n"
     ]
    }
   ],
   "source": [
    "best_model(data=cancel_culture,\n",
    "           model_name=\"logreg\",\n",
    "           vectorizer_type=\"bow\",\n",
    "           balancing=None,\n",
    "           topic_feature=False,\n",
    "           save=False)"
   ]
  },
  {
   "cell_type": "code",
   "execution_count": 4,
   "id": "2645553d",
   "metadata": {},
   "outputs": [
    {
     "name": "stdout",
     "output_type": "stream",
     "text": [
      "Fitting 3 folds for each of 36 candidates, totalling 108 fits\n",
      "best parameters for model:\t xgboost\n",
      "{'eta': 0.5, 'gamma': 0, 'max_depth': 3}\n",
      "\n",
      "              precision    recall  f1-score   support\n",
      "\n",
      "           0       0.43      0.50      0.46        46\n",
      "           1       0.27      0.12      0.17        24\n",
      "           2       0.58      0.63      0.60        65\n",
      "\n",
      "    accuracy                           0.50       135\n",
      "   macro avg       0.43      0.42      0.41       135\n",
      "weighted avg       0.47      0.50      0.48       135\n",
      "\n"
     ]
    }
   ],
   "source": [
    "best_model(data=cancel_culture,\n",
    "           model_name=\"xgboost\",\n",
    "           vectorizer_type=\"bow\",\n",
    "           balancing=None,\n",
    "           topic_feature=False,\n",
    "           save=False)"
   ]
  },
  {
   "cell_type": "markdown",
   "id": "e9e31190",
   "metadata": {},
   "source": [
    "#### tfidf"
   ]
  },
  {
   "cell_type": "code",
   "execution_count": 5,
   "id": "4b66adad",
   "metadata": {},
   "outputs": [
    {
     "name": "stdout",
     "output_type": "stream",
     "text": [
      "Fitting 3 folds for each of 14 candidates, totalling 42 fits\n",
      "best parameters for model:\t logreg\n",
      "{'C': 1, 'penalty': 'l2'}\n",
      "\n",
      "              precision    recall  f1-score   support\n",
      "\n",
      "           0       0.53      0.50      0.52        62\n",
      "           1       0.00      0.00      0.00        24\n",
      "           2       0.44      0.69      0.54        49\n",
      "\n",
      "    accuracy                           0.48       135\n",
      "   macro avg       0.33      0.40      0.35       135\n",
      "weighted avg       0.41      0.48      0.43       135\n",
      "\n"
     ]
    }
   ],
   "source": [
    "best_model(data=cancel_culture,\n",
    "           model_name=\"logreg\",\n",
    "           vectorizer_type=\"tfidf\",\n",
    "           balancing=None,\n",
    "           topic_feature=False,\n",
    "           save=False)"
   ]
  },
  {
   "cell_type": "code",
   "execution_count": 6,
   "id": "f5384237",
   "metadata": {},
   "outputs": [
    {
     "name": "stdout",
     "output_type": "stream",
     "text": [
      "Fitting 3 folds for each of 36 candidates, totalling 108 fits\n",
      "best parameters for model:\t xgboost\n",
      "{'eta': 0.05, 'gamma': 1, 'max_depth': 5}\n",
      "\n",
      "              precision    recall  f1-score   support\n",
      "\n",
      "           0       0.46      0.60      0.52        52\n",
      "           1       0.00      0.00      0.00        23\n",
      "           2       0.54      0.57      0.55        60\n",
      "\n",
      "    accuracy                           0.50       135\n",
      "   macro avg       0.41      0.43      0.42       135\n",
      "weighted avg       0.50      0.48      0.49       135\n",
      "\n"
     ]
    }
   ],
   "source": [
    "best_model(data=cancel_culture,\n",
    "           model_name=\"xgboost\",\n",
    "           vectorizer_type=\"tfidf\",\n",
    "           balancing=None,\n",
    "           topic_feature=False,\n",
    "           save=False)"
   ]
  },
  {
   "cell_type": "markdown",
   "id": "17bc38ed",
   "metadata": {},
   "source": [
    "### feminism"
   ]
  },
  {
   "cell_type": "markdown",
   "id": "b717f6d2",
   "metadata": {},
   "source": [
    "#### bow"
   ]
  },
  {
   "cell_type": "code",
   "execution_count": 7,
   "id": "5af60d75",
   "metadata": {},
   "outputs": [
    {
     "name": "stdout",
     "output_type": "stream",
     "text": [
      "Fitting 3 folds for each of 14 candidates, totalling 42 fits\n",
      "best parameters for model:\t logreg\n",
      "{'C': 0.05, 'penalty': 'l2'}\n",
      "\n",
      "              precision    recall  f1-score   support\n",
      "\n",
      "           0       0.35      0.21      0.26       107\n",
      "           1       0.43      0.39      0.41       131\n",
      "           2       0.43      0.60      0.50       149\n",
      "\n",
      "    accuracy                           0.42       387\n",
      "   macro avg       0.41      0.40      0.39       387\n",
      "weighted avg       0.41      0.42      0.40       387\n",
      "\n"
     ]
    }
   ],
   "source": [
    "best_model(data=feminism,\n",
    "           model_name=\"logreg\",\n",
    "           vectorizer_type=\"bow\",\n",
    "           balancing=None,\n",
    "           topic_feature=False,\n",
    "           save=False)"
   ]
  },
  {
   "cell_type": "code",
   "execution_count": 8,
   "id": "8360c752",
   "metadata": {},
   "outputs": [
    {
     "name": "stdout",
     "output_type": "stream",
     "text": [
      "Fitting 3 folds for each of 36 candidates, totalling 108 fits\n",
      "best parameters for model:\t xgboost\n",
      "{'eta': 0.05, 'gamma': 0.5, 'max_depth': 7}\n",
      "\n",
      "              precision    recall  f1-score   support\n",
      "\n",
      "           0       0.37      0.12      0.18       119\n",
      "           1       0.30      0.31      0.30       120\n",
      "           2       0.41      0.62      0.49       148\n",
      "\n",
      "    accuracy                           0.43       387\n",
      "   macro avg       0.39      0.41      0.40       387\n",
      "weighted avg       0.45      0.44      0.42       387\n",
      "\n"
     ]
    }
   ],
   "source": [
    "best_model(data=feminism,\n",
    "           model_name=\"xgboost\",\n",
    "           vectorizer_type=\"bow\",\n",
    "           balancing=None,\n",
    "           topic_feature=False,\n",
    "           save=False)"
   ]
  },
  {
   "cell_type": "markdown",
   "id": "9b6c6263",
   "metadata": {},
   "source": [
    "#### tfidf"
   ]
  },
  {
   "cell_type": "code",
   "execution_count": 9,
   "id": "29bcd1d7",
   "metadata": {},
   "outputs": [
    {
     "name": "stdout",
     "output_type": "stream",
     "text": [
      "Fitting 3 folds for each of 14 candidates, totalling 42 fits\n",
      "best parameters for model:\t logreg\n",
      "{'C': 0.2, 'penalty': 'l2'}\n",
      "\n",
      "              precision    recall  f1-score   support\n",
      "\n",
      "           0       0.41      0.08      0.14       107\n",
      "           1       0.39      0.43      0.41       121\n",
      "           2       0.45      0.66      0.54       159\n",
      "\n",
      "    accuracy                           0.43       387\n",
      "   macro avg       0.42      0.39      0.36       387\n",
      "weighted avg       0.42      0.43      0.39       387\n",
      "\n"
     ]
    }
   ],
   "source": [
    "best_model(data=feminism,\n",
    "           model_name=\"logreg\",\n",
    "           vectorizer_type=\"tfidf\",\n",
    "           balancing=None,\n",
    "           topic_feature=False,\n",
    "           save=False)"
   ]
  },
  {
   "cell_type": "code",
   "execution_count": 10,
   "id": "d3b29b03",
   "metadata": {},
   "outputs": [
    {
     "name": "stdout",
     "output_type": "stream",
     "text": [
      "Fitting 3 folds for each of 36 candidates, totalling 108 fits\n",
      "best parameters for model:\t xgboost\n",
      "{'eta': 0.05, 'gamma': 0, 'max_depth': 7}\n",
      "\n",
      "              precision    recall  f1-score   support\n",
      "\n",
      "           0       0.41      0.10      0.16       120\n",
      "           1       0.37      0.34      0.36       122\n",
      "           2       0.40      0.68      0.50       145\n",
      "\n",
      "    accuracy                           0.39       387\n",
      "   macro avg       0.40      0.37      0.34       387\n",
      "weighted avg       0.40      0.39      0.35       387\n",
      "\n"
     ]
    }
   ],
   "source": [
    "best_model(data=feminism,\n",
    "           model_name=\"xgboost\",\n",
    "           vectorizer_type=\"tfidf\",\n",
    "           balancing=None,\n",
    "           topic_feature=False,\n",
    "           save=False)"
   ]
  },
  {
   "cell_type": "markdown",
   "id": "bb39339c",
   "metadata": {},
   "source": [
    "### lgbtq+"
   ]
  },
  {
   "cell_type": "markdown",
   "id": "d12168a6",
   "metadata": {},
   "source": [
    "#### bow"
   ]
  },
  {
   "cell_type": "code",
   "execution_count": 11,
   "id": "80756a10",
   "metadata": {},
   "outputs": [
    {
     "name": "stdout",
     "output_type": "stream",
     "text": [
      "Fitting 3 folds for each of 14 candidates, totalling 42 fits\n",
      "best parameters for model:\t logreg\n",
      "{'C': 0.01, 'penalty': 'l2'}\n",
      "\n",
      "              precision    recall  f1-score   support\n",
      "\n",
      "           0       0.34      0.04      0.08       272\n",
      "           1       0.45      0.17      0.24       386\n",
      "           2       0.42      0.87      0.56       440\n",
      "\n",
      "    accuracy                           0.42      1098\n",
      "   macro avg       0.40      0.36      0.29      1098\n",
      "weighted avg       0.41      0.42      0.33      1098\n",
      "\n"
     ]
    }
   ],
   "source": [
    "best_model(data=lgbtq_plus,\n",
    "           model_name=\"logreg\",\n",
    "           vectorizer_type=\"bow\",\n",
    "           balancing=None,\n",
    "           topic_feature=False,\n",
    "           save=False)"
   ]
  },
  {
   "cell_type": "code",
   "execution_count": 12,
   "id": "906a52a4",
   "metadata": {},
   "outputs": [
    {
     "name": "stdout",
     "output_type": "stream",
     "text": [
      "Fitting 3 folds for each of 36 candidates, totalling 108 fits\n",
      "best parameters for model:\t xgboost\n",
      "{'eta': 0.2, 'gamma': 1, 'max_depth': 3}\n",
      "\n",
      "              precision    recall  f1-score   support\n",
      "\n",
      "           0       0.33      0.09      0.15       248\n",
      "           1       0.37      0.17      0.23       322\n",
      "           2       0.50      0.84      0.63       528\n",
      "\n",
      "    accuracy                           0.47      1098\n",
      "   macro avg       0.40      0.37      0.34      1098\n",
      "weighted avg       0.43      0.47      0.40      1098\n",
      "\n"
     ]
    }
   ],
   "source": [
    "best_model(data=lgbtq_plus,\n",
    "           model_name=\"xgboost\",\n",
    "           vectorizer_type=\"bow\",\n",
    "           balancing=None,\n",
    "           topic_feature=False,\n",
    "           save=False)"
   ]
  },
  {
   "cell_type": "markdown",
   "id": "374014a4",
   "metadata": {},
   "source": [
    "#### tfidf"
   ]
  },
  {
   "cell_type": "code",
   "execution_count": 13,
   "id": "0813f450",
   "metadata": {},
   "outputs": [
    {
     "name": "stdout",
     "output_type": "stream",
     "text": [
      "Fitting 3 folds for each of 14 candidates, totalling 42 fits\n",
      "best parameters for model:\t logreg\n",
      "{'C': 0.2, 'penalty': 'l2'}\n",
      "\n",
      "              precision    recall  f1-score   support\n",
      "\n",
      "           0       0.40      0.06      0.10       301\n",
      "           1       0.37      0.20      0.26       315\n",
      "           2       0.46      0.84      0.59       482\n",
      "\n",
      "    accuracy                           0.44      1098\n",
      "   macro avg       0.41      0.37      0.32      1098\n",
      "weighted avg       0.42      0.44      0.36      1098\n",
      "\n"
     ]
    }
   ],
   "source": [
    "best_model(data=lgbtq_plus,\n",
    "           model_name=\"logreg\",\n",
    "           vectorizer_type=\"tfidf\",\n",
    "           balancing=None,\n",
    "           topic_feature=False,\n",
    "           save=False)"
   ]
  },
  {
   "cell_type": "code",
   "execution_count": 14,
   "id": "258fede9",
   "metadata": {},
   "outputs": [
    {
     "name": "stdout",
     "output_type": "stream",
     "text": [
      "Fitting 3 folds for each of 36 candidates, totalling 108 fits\n",
      "best parameters for model:\t xgboost\n",
      "{'eta': 0.05, 'gamma': 1, 'max_depth': 7}\n",
      "\n",
      "              precision    recall  f1-score   support\n",
      "\n",
      "           0       0.49      0.07      0.12       270\n",
      "           1       0.42      0.16      0.23       348\n",
      "           2       0.45      0.88      0.60       480\n",
      "\n",
      "    accuracy                           0.45      1098\n",
      "   macro avg       0.45      0.37      0.31      1098\n",
      "weighted avg       0.45      0.45      0.36      1098\n",
      "\n"
     ]
    }
   ],
   "source": [
    "best_model(data=lgbtq_plus,\n",
    "           model_name=\"xgboost\",\n",
    "           vectorizer_type=\"tfidf\",\n",
    "           balancing=None,\n",
    "           topic_feature=False,\n",
    "           save=False)"
   ]
  },
  {
   "cell_type": "markdown",
   "id": "e67fab3c",
   "metadata": {},
   "source": [
    "### ageism"
   ]
  },
  {
   "cell_type": "markdown",
   "id": "a8c53a6b",
   "metadata": {},
   "source": [
    "#### bow"
   ]
  },
  {
   "cell_type": "code",
   "execution_count": 15,
   "id": "ac2d3c33",
   "metadata": {},
   "outputs": [
    {
     "name": "stdout",
     "output_type": "stream",
     "text": [
      "Fitting 3 folds for each of 14 candidates, totalling 42 fits\n",
      "best parameters for model:\t logreg\n",
      "{'C': 0.01, 'penalty': 'l2'}\n",
      "\n",
      "              precision    recall  f1-score   support\n",
      "\n",
      "           0       0.45      0.95      0.61        64\n",
      "           1       0.00      0.00      0.00        23\n",
      "           2       0.22      0.04      0.06        57\n",
      "\n",
      "    accuracy                           0.44       144\n",
      "   macro avg       0.22      0.33      0.22       144\n",
      "weighted avg       0.29      0.44      0.30       144\n",
      "\n"
     ]
    }
   ],
   "source": [
    "best_model(data=ageism,\n",
    "           model_name=\"logreg\",\n",
    "           vectorizer_type=\"bow\",\n",
    "           balancing=None,\n",
    "           topic_feature=False,\n",
    "           save=False)"
   ]
  },
  {
   "cell_type": "code",
   "execution_count": 16,
   "id": "c97cd44d",
   "metadata": {
    "scrolled": true
   },
   "outputs": [
    {
     "name": "stdout",
     "output_type": "stream",
     "text": [
      "Fitting 3 folds for each of 36 candidates, totalling 108 fits\n",
      "best parameters for model:\t xgboost\n",
      "{'eta': 0.05, 'gamma': 0, 'max_depth': 3}\n",
      "\n",
      "              precision    recall  f1-score   support\n",
      "\n",
      "           0       0.47      0.91      0.62        70\n",
      "           1       0.00      0.00      0.00        21\n",
      "           2       0.25      0.04      0.07        53\n",
      "\n",
      "    accuracy                           0.46       144\n",
      "   macro avg       0.24      0.32      0.23       144\n",
      "weighted avg       0.32      0.46      0.33       144\n",
      "\n"
     ]
    }
   ],
   "source": [
    "best_model(data=ageism,\n",
    "           model_name=\"xgboost\",\n",
    "           vectorizer_type=\"bow\",\n",
    "           balancing=None,\n",
    "           topic_feature=False,\n",
    "           save=False)"
   ]
  },
  {
   "cell_type": "markdown",
   "id": "483fee5b",
   "metadata": {},
   "source": [
    "#### tfidf"
   ]
  },
  {
   "cell_type": "code",
   "execution_count": 17,
   "id": "622a740a",
   "metadata": {},
   "outputs": [
    {
     "name": "stdout",
     "output_type": "stream",
     "text": [
      "Fitting 3 folds for each of 14 candidates, totalling 42 fits\n",
      "best parameters for model:\t logreg\n",
      "{'C': 0.1, 'penalty': 'l2'}\n",
      "\n",
      "              precision    recall  f1-score   support\n",
      "\n",
      "           0       0.44      0.98      0.60        63\n",
      "           1       0.00      0.00      0.00        27\n",
      "           2       0.00      0.00      0.00        54\n",
      "\n",
      "    accuracy                           0.43       144\n",
      "   macro avg       0.15      0.33      0.20       144\n",
      "weighted avg       0.19      0.43      0.26       144\n",
      "\n"
     ]
    }
   ],
   "source": [
    "best_model(data=ageism,\n",
    "           model_name=\"logreg\",\n",
    "           vectorizer_type=\"tfidf\",\n",
    "           balancing=None,\n",
    "           topic_feature=False,\n",
    "           save=False)"
   ]
  },
  {
   "cell_type": "code",
   "execution_count": 18,
   "id": "d2185388",
   "metadata": {
    "scrolled": true
   },
   "outputs": [
    {
     "name": "stdout",
     "output_type": "stream",
     "text": [
      "Fitting 3 folds for each of 36 candidates, totalling 108 fits\n",
      "best parameters for model:\t xgboost\n",
      "{'eta': 0.05, 'gamma': 0, 'max_depth': 3}\n",
      "\n",
      "              precision    recall  f1-score   support\n",
      "\n",
      "           0       0.48      0.95      0.64        66\n",
      "           1       0.00      0.00      0.00        20\n",
      "           2       0.45      0.09      0.14        58\n",
      "\n",
      "    accuracy                           0.47       144\n",
      "   macro avg       0.31      0.35      0.26       144\n",
      "weighted avg       0.40      0.47      0.35       144\n",
      "\n"
     ]
    }
   ],
   "source": [
    "best_model(data=ageism,\n",
    "           model_name=\"xgboost\",\n",
    "           vectorizer_type=\"tfidf\",\n",
    "           balancing=None,\n",
    "           topic_feature=False,\n",
    "           save=False)"
   ]
  },
  {
   "cell_type": "markdown",
   "id": "c194d1be",
   "metadata": {},
   "source": [
    "### lookism"
   ]
  },
  {
   "cell_type": "markdown",
   "id": "32ef2986",
   "metadata": {},
   "source": [
    "#### bow"
   ]
  },
  {
   "cell_type": "code",
   "execution_count": 19,
   "id": "8d951aa6",
   "metadata": {},
   "outputs": [
    {
     "name": "stdout",
     "output_type": "stream",
     "text": [
      "Fitting 3 folds for each of 14 candidates, totalling 42 fits\n",
      "best parameters for model:\t logreg\n",
      "{'C': 0.01, 'penalty': 'l2'}\n",
      "\n",
      "              precision    recall  f1-score   support\n",
      "\n",
      "           0       0.44      0.87      0.58        45\n",
      "           1       0.00      0.00      0.00        22\n",
      "           2       0.42      0.20      0.27        41\n",
      "\n",
      "    accuracy                           0.44       108\n",
      "   macro avg       0.29      0.35      0.28       108\n",
      "weighted avg       0.34      0.44      0.34       108\n",
      "\n"
     ]
    }
   ],
   "source": [
    "best_model(data=lookism,\n",
    "           model_name=\"logreg\",\n",
    "           vectorizer_type=\"bow\",\n",
    "           balancing=None,\n",
    "           topic_feature=False,\n",
    "           save=False)"
   ]
  },
  {
   "cell_type": "code",
   "execution_count": 20,
   "id": "640078dc",
   "metadata": {},
   "outputs": [
    {
     "name": "stdout",
     "output_type": "stream",
     "text": [
      "Fitting 3 folds for each of 36 candidates, totalling 108 fits\n",
      "best parameters for model:\t xgboost\n",
      "{'eta': 0.2, 'gamma': 1, 'max_depth': 7}\n",
      "\n",
      "              precision    recall  f1-score   support\n",
      "\n",
      "           0       0.48      0.50      0.49        54\n",
      "           1       0.33      0.05      0.09        19\n",
      "           2       0.37      0.51      0.43        35\n",
      "\n",
      "    accuracy                           0.43       108\n",
      "   macro avg       0.39      0.36      0.34       108\n",
      "weighted avg       0.42      0.43      0.40       108\n",
      "\n"
     ]
    }
   ],
   "source": [
    "best_model(data=lookism,\n",
    "           model_name=\"xgboost\",\n",
    "           vectorizer_type=\"bow\",\n",
    "           balancing=None,\n",
    "           topic_feature=False,\n",
    "           save=False)"
   ]
  },
  {
   "cell_type": "markdown",
   "id": "afc3c1cd",
   "metadata": {},
   "source": [
    "#### tfidf"
   ]
  },
  {
   "cell_type": "code",
   "execution_count": 21,
   "id": "60c90e08",
   "metadata": {},
   "outputs": [
    {
     "name": "stdout",
     "output_type": "stream",
     "text": [
      "Fitting 3 folds for each of 14 candidates, totalling 42 fits\n",
      "best parameters for model:\t logreg\n",
      "{'C': 0.5, 'penalty': 'l2'}\n",
      "\n",
      "              precision    recall  f1-score   support\n",
      "\n",
      "           0       0.43      0.77      0.55        47\n",
      "           1       0.00      0.00      0.00        13\n",
      "           2       0.42      0.21      0.28        48\n",
      "\n",
      "    accuracy                           0.43       108\n",
      "   macro avg       0.28      0.32      0.28       108\n",
      "weighted avg       0.37      0.43      0.36       108\n",
      "\n"
     ]
    }
   ],
   "source": [
    "best_model(data=lookism,\n",
    "           model_name=\"logreg\",\n",
    "           vectorizer_type=\"tfidf\",\n",
    "           balancing=None,\n",
    "           topic_feature=False,\n",
    "           save=False)"
   ]
  },
  {
   "cell_type": "code",
   "execution_count": 22,
   "id": "13e6c04c",
   "metadata": {},
   "outputs": [
    {
     "name": "stdout",
     "output_type": "stream",
     "text": [
      "Fitting 3 folds for each of 36 candidates, totalling 108 fits\n",
      "best parameters for model:\t xgboost\n",
      "{'eta': 0.05, 'gamma': 1, 'max_depth': 3}\n",
      "\n",
      "              precision    recall  f1-score   support\n",
      "\n",
      "           0       0.40      0.87      0.54        39\n",
      "           1       0.00      0.00      0.00        12\n",
      "           2       0.59      0.23      0.33        57\n",
      "\n",
      "    accuracy                           0.43       108\n",
      "   macro avg       0.33      0.37      0.29       108\n",
      "weighted avg       0.45      0.44      0.37       108\n",
      "\n"
     ]
    }
   ],
   "source": [
    "best_model(data=lookism,\n",
    "           model_name=\"xgboost\",\n",
    "           vectorizer_type=\"tfidf\",\n",
    "           balancing=None,\n",
    "           topic_feature=False,\n",
    "           save=False)"
   ]
  },
  {
   "cell_type": "markdown",
   "id": "21012065",
   "metadata": {},
   "source": [
    "## with balancing"
   ]
  },
  {
   "cell_type": "markdown",
   "id": "c43c0d90",
   "metadata": {},
   "source": [
    "### cancel culture"
   ]
  },
  {
   "cell_type": "markdown",
   "id": "0506fada",
   "metadata": {},
   "source": [
    "#### bow"
   ]
  },
  {
   "cell_type": "code",
   "execution_count": 23,
   "id": "70d18499",
   "metadata": {},
   "outputs": [
    {
     "name": "stdout",
     "output_type": "stream",
     "text": [
      "Fitting 3 folds for each of 14 candidates, totalling 42 fits\n",
      "best parameters for model:\t logreg\n",
      "{'C': 0.05, 'penalty': 'l2'}\n",
      "\n",
      "              precision    recall  f1-score   support\n",
      "\n",
      "           0       0.60      0.57      0.59        68\n",
      "           1       0.00      0.00      0.00        21\n",
      "           2       0.43      0.65      0.52        46\n",
      "\n",
      "    accuracy                           0.51       135\n",
      "   macro avg       0.34      0.41      0.37       135\n",
      "weighted avg       0.45      0.51      0.47       135\n",
      "\n"
     ]
    }
   ],
   "source": [
    "best_model(data=cancel_culture,\n",
    "           model_name=\"logreg\",\n",
    "           vectorizer_type=\"bow\",\n",
    "           balancing=\"all\",\n",
    "           topic_feature=False,\n",
    "           save=False)"
   ]
  },
  {
   "cell_type": "code",
   "execution_count": 24,
   "id": "d92abd07",
   "metadata": {},
   "outputs": [
    {
     "name": "stdout",
     "output_type": "stream",
     "text": [
      "Fitting 3 folds for each of 36 candidates, totalling 108 fits\n",
      "best parameters for model:\t xgboost\n",
      "{'eta': 0.2, 'gamma': 1, 'max_depth': 3}\n",
      "\n",
      "              precision    recall  f1-score   support\n",
      "\n",
      "           0       0.47      0.40      0.43        53\n",
      "           1       0.00      0.00      0.00        30\n",
      "           2       0.49      0.81      0.61        52\n",
      "\n",
      "    accuracy                           0.47       135\n",
      "   macro avg       0.32      0.40      0.35       135\n",
      "weighted avg       0.37      0.47      0.40       135\n",
      "\n"
     ]
    }
   ],
   "source": [
    "best_model(data=cancel_culture,\n",
    "           model_name=\"xgboost\",\n",
    "           vectorizer_type=\"bow\",\n",
    "           balancing=\"all\",\n",
    "           topic_feature=False,\n",
    "           save=False)"
   ]
  },
  {
   "cell_type": "markdown",
   "id": "db544d9a",
   "metadata": {},
   "source": [
    "#### tfidf"
   ]
  },
  {
   "cell_type": "code",
   "execution_count": 25,
   "id": "05f32c9f",
   "metadata": {},
   "outputs": [
    {
     "name": "stdout",
     "output_type": "stream",
     "text": [
      "Fitting 3 folds for each of 14 candidates, totalling 42 fits\n",
      "best parameters for model:\t logreg\n",
      "{'C': 0.2, 'penalty': 'l2'}\n",
      "\n",
      "              precision    recall  f1-score   support\n",
      "\n",
      "           0       0.50      0.73      0.59        51\n",
      "           1       0.00      0.00      0.00        19\n",
      "           2       0.69      0.65      0.67        65\n",
      "\n",
      "    accuracy                           0.59       135\n",
      "   macro avg       0.40      0.46      0.42       135\n",
      "weighted avg       0.52      0.59      0.54       135\n",
      "\n"
     ]
    }
   ],
   "source": [
    "best_model(data=cancel_culture,\n",
    "           model_name=\"logreg\",\n",
    "           vectorizer_type=\"tfidf\",\n",
    "           balancing=\"all\",\n",
    "           topic_feature=False,\n",
    "           save=False)"
   ]
  },
  {
   "cell_type": "code",
   "execution_count": 26,
   "id": "3e9bfe0f",
   "metadata": {},
   "outputs": [
    {
     "name": "stdout",
     "output_type": "stream",
     "text": [
      "Fitting 3 folds for each of 36 candidates, totalling 108 fits\n",
      "best parameters for model:\t xgboost\n",
      "{'eta': 0.05, 'gamma': 1, 'max_depth': 3}\n",
      "\n",
      "              precision    recall  f1-score   support\n",
      "\n",
      "           0       0.45      0.49      0.47        51\n",
      "           1       0.50      0.04      0.08        24\n",
      "           2       0.53      0.68      0.59        60\n",
      "\n",
      "    accuracy                           0.48       135\n",
      "   macro avg       0.48      0.41      0.38       135\n",
      "weighted avg       0.49      0.49      0.46       135\n",
      "\n"
     ]
    }
   ],
   "source": [
    "best_model(data=cancel_culture,\n",
    "           model_name=\"xgboost\",\n",
    "           vectorizer_type=\"tfidf\",\n",
    "           balancing=\"all\",\n",
    "           topic_feature=False,\n",
    "           save=False)"
   ]
  },
  {
   "cell_type": "markdown",
   "id": "8d1e8973",
   "metadata": {},
   "source": [
    "### feminism"
   ]
  },
  {
   "cell_type": "markdown",
   "id": "6034f27f",
   "metadata": {},
   "source": [
    "#### bow"
   ]
  },
  {
   "cell_type": "code",
   "execution_count": 27,
   "id": "5649bcb3",
   "metadata": {},
   "outputs": [
    {
     "name": "stdout",
     "output_type": "stream",
     "text": [
      "Fitting 3 folds for each of 14 candidates, totalling 42 fits\n",
      "best parameters for model:\t logreg\n",
      "{'C': 0.01, 'penalty': 'l2'}\n",
      "\n",
      "              precision    recall  f1-score   support\n",
      "\n",
      "           0       0.45      0.08      0.14       106\n",
      "           1       0.46      0.38      0.41       133\n",
      "           2       0.44      0.76      0.56       148\n",
      "\n",
      "    accuracy                           0.44       387\n",
      "   macro avg       0.45      0.41      0.37       387\n",
      "weighted avg       0.45      0.44      0.39       387\n",
      "\n"
     ]
    }
   ],
   "source": [
    "best_model(data=feminism,\n",
    "           model_name=\"logreg\",\n",
    "           vectorizer_type=\"bow\",\n",
    "           balancing=\"all\",\n",
    "           topic_feature=False,\n",
    "           save=False)"
   ]
  },
  {
   "cell_type": "code",
   "execution_count": 28,
   "id": "2d033e66",
   "metadata": {},
   "outputs": [
    {
     "name": "stdout",
     "output_type": "stream",
     "text": [
      "Fitting 3 folds for each of 36 candidates, totalling 108 fits\n",
      "best parameters for model:\t xgboost\n",
      "{'eta': 0.2, 'gamma': 1, 'max_depth': 3}\n",
      "\n",
      "              precision    recall  f1-score   support\n",
      "\n",
      "           0       0.40      0.15      0.22       117\n",
      "           1       0.38      0.39      0.38       113\n",
      "           2       0.47      0.67      0.55       157\n",
      "\n",
      "    accuracy                           0.43       387\n",
      "   macro avg       0.41      0.40      0.38       387\n",
      "weighted avg       0.42      0.43      0.40       387\n",
      "\n"
     ]
    }
   ],
   "source": [
    "best_model(data=feminism,\n",
    "           model_name=\"xgboost\",\n",
    "           vectorizer_type=\"bow\",\n",
    "           balancing=\"all\",\n",
    "           topic_feature=False,\n",
    "           save=False)"
   ]
  },
  {
   "cell_type": "markdown",
   "id": "21554b8a",
   "metadata": {},
   "source": [
    "#### tfidf"
   ]
  },
  {
   "cell_type": "code",
   "execution_count": 29,
   "id": "a51d6d27",
   "metadata": {
    "scrolled": true
   },
   "outputs": [
    {
     "name": "stdout",
     "output_type": "stream",
     "text": [
      "Fitting 3 folds for each of 14 candidates, totalling 42 fits\n",
      "best parameters for model:\t logreg\n",
      "{'C': 0.5, 'penalty': 'l2'}\n",
      "\n",
      "              precision    recall  f1-score   support\n",
      "\n",
      "           0       0.40      0.17      0.24       121\n",
      "           1       0.43      0.41      0.42       131\n",
      "           2       0.43      0.67      0.52       135\n",
      "\n",
      "    accuracy                           0.43       387\n",
      "   macro avg       0.42      0.42      0.40       387\n",
      "weighted avg       0.42      0.43      0.40       387\n",
      "\n"
     ]
    }
   ],
   "source": [
    "best_model(data=feminism,\n",
    "           model_name=\"logreg\",\n",
    "           vectorizer_type=\"tfidf\",\n",
    "           balancing=\"all\",\n",
    "           topic_feature=False,\n",
    "           save=False)"
   ]
  },
  {
   "cell_type": "code",
   "execution_count": 30,
   "id": "6ceeb492",
   "metadata": {},
   "outputs": [
    {
     "name": "stdout",
     "output_type": "stream",
     "text": [
      "Fitting 3 folds for each of 36 candidates, totalling 108 fits\n",
      "best parameters for model:\t xgboost\n",
      "{'eta': 0.05, 'gamma': 1, 'max_depth': 3}\n",
      "\n",
      "              precision    recall  f1-score   support\n",
      "\n",
      "           0       0.36      0.13      0.19        95\n",
      "           1       0.39      0.38      0.38       123\n",
      "           2       0.47      0.64      0.54       169\n",
      "\n",
      "    accuracy                           0.43       387\n",
      "   macro avg       0.41      0.38      0.37       387\n",
      "weighted avg       0.42      0.43      0.41       387\n",
      "\n"
     ]
    }
   ],
   "source": [
    "best_model(data=feminism,\n",
    "           model_name=\"xgboost\",\n",
    "           vectorizer_type=\"tfidf\",\n",
    "           balancing=\"all\",\n",
    "           topic_feature=False,\n",
    "           save=False)"
   ]
  },
  {
   "cell_type": "markdown",
   "id": "d9f3971c",
   "metadata": {},
   "source": [
    "### lgbtq+"
   ]
  },
  {
   "cell_type": "markdown",
   "id": "fab5a1ee",
   "metadata": {},
   "source": [
    "#### bow"
   ]
  },
  {
   "cell_type": "code",
   "execution_count": 31,
   "id": "cc8ba921",
   "metadata": {},
   "outputs": [
    {
     "name": "stdout",
     "output_type": "stream",
     "text": [
      "Fitting 3 folds for each of 14 candidates, totalling 42 fits\n",
      "best parameters for model:\t logreg\n",
      "{'C': 0.01, 'penalty': 'l2'}\n",
      "\n",
      "              precision    recall  f1-score   support\n",
      "\n",
      "           0       0.35      0.05      0.09       289\n",
      "           1       0.40      0.21      0.27       305\n",
      "           2       0.48      0.86      0.62       504\n",
      "\n",
      "    accuracy                           0.47      1098\n",
      "   macro avg       0.41      0.37      0.33      1098\n",
      "weighted avg       0.42      0.47      0.38      1098\n",
      "\n"
     ]
    }
   ],
   "source": [
    "best_model(data=lgbtq_plus,\n",
    "           model_name=\"logreg\",\n",
    "           vectorizer_type=\"bow\",\n",
    "           balancing=\"all\",\n",
    "           topic_feature=False,\n",
    "           save=False)"
   ]
  },
  {
   "cell_type": "code",
   "execution_count": 32,
   "id": "a42d40d0",
   "metadata": {},
   "outputs": [
    {
     "name": "stdout",
     "output_type": "stream",
     "text": [
      "Fitting 3 folds for each of 36 candidates, totalling 108 fits\n",
      "best parameters for model:\t xgboost\n",
      "{'eta': 0.05, 'gamma': 1, 'max_depth': 3}\n",
      "\n",
      "              precision    recall  f1-score   support\n",
      "\n",
      "           0       0.41      0.05      0.09       268\n",
      "           1       0.45      0.09      0.14       328\n",
      "           2       0.47      0.94      0.63       502\n",
      "\n",
      "    accuracy                           0.47      1098\n",
      "   macro avg       0.44      0.36      0.29      1098\n",
      "weighted avg       0.45      0.47      0.35      1098\n",
      "\n"
     ]
    }
   ],
   "source": [
    "best_model(data=lgbtq_plus,\n",
    "           model_name=\"xgboost\",\n",
    "           vectorizer_type=\"bow\",\n",
    "           balancing=\"all\",\n",
    "           topic_feature=False,\n",
    "           save=False)"
   ]
  },
  {
   "cell_type": "markdown",
   "id": "a090fcdc",
   "metadata": {},
   "source": [
    "#### tfidf"
   ]
  },
  {
   "cell_type": "code",
   "execution_count": 33,
   "id": "de539080",
   "metadata": {},
   "outputs": [
    {
     "name": "stdout",
     "output_type": "stream",
     "text": [
      "Fitting 3 folds for each of 14 candidates, totalling 42 fits\n",
      "best parameters for model:\t logreg\n",
      "{'C': 0.5, 'penalty': 'l2'}\n",
      "\n",
      "              precision    recall  f1-score   support\n",
      "\n",
      "           0       0.46      0.15      0.23       280\n",
      "           1       0.43      0.29      0.34       340\n",
      "           2       0.47      0.77      0.59       478\n",
      "\n",
      "    accuracy                           0.46      1098\n",
      "   macro avg       0.45      0.40      0.39      1098\n",
      "weighted avg       0.46      0.46      0.42      1098\n",
      "\n"
     ]
    }
   ],
   "source": [
    "best_model(data=lgbtq_plus,\n",
    "           model_name=\"logreg\",\n",
    "           vectorizer_type=\"tfidf\",\n",
    "           balancing=\"all\",\n",
    "           topic_feature=False,\n",
    "           save=False)"
   ]
  },
  {
   "cell_type": "code",
   "execution_count": 34,
   "id": "c42d9c86",
   "metadata": {},
   "outputs": [
    {
     "name": "stdout",
     "output_type": "stream",
     "text": [
      "Fitting 3 folds for each of 36 candidates, totalling 108 fits\n",
      "best parameters for model:\t xgboost\n",
      "{'eta': 0.05, 'gamma': 1, 'max_depth': 7}\n",
      "\n",
      "              precision    recall  f1-score   support\n",
      "\n",
      "           0       0.54      0.07      0.12       302\n",
      "           1       0.35      0.14      0.20       324\n",
      "           2       0.45      0.88      0.59       472\n",
      "\n",
      "    accuracy                           0.44      1098\n",
      "   macro avg       0.45      0.36      0.30      1098\n",
      "weighted avg       0.45      0.44      0.35      1098\n",
      "\n"
     ]
    }
   ],
   "source": [
    "best_model(data=lgbtq_plus,\n",
    "           model_name=\"xgboost\",\n",
    "           vectorizer_type=\"tfidf\",\n",
    "           balancing=\"all\",\n",
    "           topic_feature=False,\n",
    "           save=False)"
   ]
  },
  {
   "cell_type": "markdown",
   "id": "29b28afb",
   "metadata": {},
   "source": [
    "### ageism"
   ]
  },
  {
   "cell_type": "markdown",
   "id": "f7e0dddb",
   "metadata": {},
   "source": [
    "#### bow"
   ]
  },
  {
   "cell_type": "code",
   "execution_count": 35,
   "id": "2bf37917",
   "metadata": {},
   "outputs": [
    {
     "name": "stdout",
     "output_type": "stream",
     "text": [
      "Fitting 3 folds for each of 14 candidates, totalling 42 fits\n",
      "best parameters for model:\t logreg\n",
      "{'C': 0.05, 'penalty': 'l2'}\n",
      "\n",
      "              precision    recall  f1-score   support\n",
      "\n",
      "           0       0.48      0.71      0.58        66\n",
      "           1       0.00      0.00      0.00        18\n",
      "           2       0.51      0.40      0.45        60\n",
      "\n",
      "    accuracy                           0.49       144\n",
      "   macro avg       0.33      0.37      0.34       144\n",
      "weighted avg       0.43      0.49      0.45       144\n",
      "\n"
     ]
    }
   ],
   "source": [
    "best_model(data=ageism,\n",
    "           model_name=\"logreg\",\n",
    "           vectorizer_type=\"bow\",\n",
    "           balancing=\"all\",\n",
    "           topic_feature=False,\n",
    "           save=False)"
   ]
  },
  {
   "cell_type": "code",
   "execution_count": 36,
   "id": "d6c43377",
   "metadata": {
    "scrolled": true
   },
   "outputs": [
    {
     "name": "stdout",
     "output_type": "stream",
     "text": [
      "Fitting 3 folds for each of 36 candidates, totalling 108 fits\n",
      "best parameters for model:\t xgboost\n",
      "{'eta': 0.5, 'gamma': 0.1, 'max_depth': 3}\n",
      "\n",
      "              precision    recall  f1-score   support\n",
      "\n",
      "           0       0.64      0.58      0.61        79\n",
      "           1       0.50      0.16      0.24        19\n",
      "           2       0.39      0.57      0.46        46\n",
      "\n",
      "    accuracy                           0.52       144\n",
      "   macro avg       0.51      0.44      0.44       144\n",
      "weighted avg       0.54      0.52      0.51       144\n",
      "\n"
     ]
    }
   ],
   "source": [
    "best_model(data=ageism,\n",
    "           model_name=\"xgboost\",\n",
    "           vectorizer_type=\"bow\",\n",
    "           balancing=\"all\",\n",
    "           topic_feature=False,\n",
    "           save=False)"
   ]
  },
  {
   "cell_type": "markdown",
   "id": "db6a5d04",
   "metadata": {},
   "source": [
    "#### tfidf"
   ]
  },
  {
   "cell_type": "code",
   "execution_count": 37,
   "id": "7f20e6e7",
   "metadata": {},
   "outputs": [
    {
     "name": "stdout",
     "output_type": "stream",
     "text": [
      "Fitting 3 folds for each of 14 candidates, totalling 42 fits\n",
      "best parameters for model:\t logreg\n",
      "{'C': 0.5, 'penalty': 'l2'}\n",
      "\n",
      "              precision    recall  f1-score   support\n",
      "\n",
      "           0       0.58      0.73      0.65        78\n",
      "           1       0.00      0.00      0.00        13\n",
      "           2       0.46      0.40      0.42        53\n",
      "\n",
      "    accuracy                           0.54       144\n",
      "   macro avg       0.35      0.38      0.36       144\n",
      "weighted avg       0.48      0.54      0.51       144\n",
      "\n"
     ]
    }
   ],
   "source": [
    "best_model(data=ageism,\n",
    "           model_name=\"logreg\",\n",
    "           vectorizer_type=\"tfidf\",\n",
    "           balancing=\"all\",\n",
    "           topic_feature=False,\n",
    "           save=False)"
   ]
  },
  {
   "cell_type": "code",
   "execution_count": 38,
   "id": "700329c1",
   "metadata": {},
   "outputs": [
    {
     "name": "stdout",
     "output_type": "stream",
     "text": [
      "Fitting 3 folds for each of 36 candidates, totalling 108 fits\n",
      "best parameters for model:\t xgboost\n",
      "{'eta': 0.05, 'gamma': 0.1, 'max_depth': 5}\n",
      "\n",
      "              precision    recall  f1-score   support\n",
      "\n",
      "           0       0.48      0.91      0.63        65\n",
      "           1       0.00      0.00      0.00        20\n",
      "           2       0.55      0.19      0.28        59\n",
      "\n",
      "    accuracy                           0.49       144\n",
      "   macro avg       0.34      0.36      0.30       144\n",
      "weighted avg       0.44      0.49      0.40       144\n",
      "\n"
     ]
    }
   ],
   "source": [
    "best_model(data=ageism,\n",
    "           model_name=\"xgboost\",\n",
    "           vectorizer_type=\"tfidf\",\n",
    "           balancing=\"all\",\n",
    "           topic_feature=False,\n",
    "           save=False)"
   ]
  },
  {
   "cell_type": "markdown",
   "id": "d4fa1d0e",
   "metadata": {},
   "source": [
    "### lookism"
   ]
  },
  {
   "cell_type": "markdown",
   "id": "2abf2dfb",
   "metadata": {},
   "source": [
    "#### bow"
   ]
  },
  {
   "cell_type": "code",
   "execution_count": 39,
   "id": "def9b118",
   "metadata": {},
   "outputs": [
    {
     "name": "stdout",
     "output_type": "stream",
     "text": [
      "Fitting 3 folds for each of 14 candidates, totalling 42 fits\n",
      "best parameters for model:\t logreg\n",
      "{'C': 0.1, 'penalty': 'l2'}\n",
      "\n",
      "              precision    recall  f1-score   support\n",
      "\n",
      "           0       0.49      0.58      0.53        50\n",
      "           1       0.00      0.00      0.00        17\n",
      "           2       0.48      0.56      0.52        41\n",
      "\n",
      "    accuracy                           0.48       108\n",
      "   macro avg       0.32      0.38      0.35       108\n",
      "weighted avg       0.41      0.48      0.44       108\n",
      "\n"
     ]
    }
   ],
   "source": [
    "best_model(data=lookism,\n",
    "           model_name=\"logreg\",\n",
    "           vectorizer_type=\"bow\",\n",
    "           balancing=\"all\",\n",
    "           topic_feature=False,\n",
    "           save=False)"
   ]
  },
  {
   "cell_type": "code",
   "execution_count": 40,
   "id": "f4897aaf",
   "metadata": {
    "scrolled": true
   },
   "outputs": [
    {
     "name": "stdout",
     "output_type": "stream",
     "text": [
      "Fitting 3 folds for each of 36 candidates, totalling 108 fits\n",
      "best parameters for model:\t xgboost\n",
      "{'eta': 0.5, 'gamma': 0.1, 'max_depth': 3}\n",
      "\n",
      "              precision    recall  f1-score   support\n",
      "\n",
      "           0       0.54      0.54      0.54        52\n",
      "           1       0.00      0.00      0.00        19\n",
      "           2       0.43      0.59      0.50        37\n",
      "\n",
      "    accuracy                           0.46       108\n",
      "   macro avg       0.32      0.38      0.35       108\n",
      "weighted avg       0.41      0.46      0.43       108\n",
      "\n"
     ]
    }
   ],
   "source": [
    "best_model(data=lookism,\n",
    "           model_name=\"xgboost\",\n",
    "           vectorizer_type=\"bow\",\n",
    "           balancing=\"all\",\n",
    "           topic_feature=False,\n",
    "           save=False)"
   ]
  },
  {
   "cell_type": "markdown",
   "id": "e24faf8b",
   "metadata": {},
   "source": [
    "#### tfidf"
   ]
  },
  {
   "cell_type": "code",
   "execution_count": 41,
   "id": "a7b38e93",
   "metadata": {},
   "outputs": [
    {
     "name": "stdout",
     "output_type": "stream",
     "text": [
      "Fitting 3 folds for each of 14 candidates, totalling 42 fits\n",
      "best parameters for model:\t logreg\n",
      "{'C': 0.5, 'penalty': 'l2'}\n",
      "\n",
      "              precision    recall  f1-score   support\n",
      "\n",
      "           0       0.54      0.83      0.65        52\n",
      "           1       0.00      0.00      0.00        15\n",
      "           2       0.61      0.41      0.49        41\n",
      "\n",
      "    accuracy                           0.56       108\n",
      "   macro avg       0.38      0.41      0.38       108\n",
      "weighted avg       0.49      0.56      0.50       108\n",
      "\n"
     ]
    }
   ],
   "source": [
    "best_model(data=lookism,\n",
    "           model_name=\"logreg\",\n",
    "           vectorizer_type=\"tfidf\",\n",
    "           balancing=\"all\",\n",
    "           topic_feature=False,\n",
    "           save=False)"
   ]
  },
  {
   "cell_type": "code",
   "execution_count": 42,
   "id": "5981722b",
   "metadata": {
    "scrolled": true
   },
   "outputs": [
    {
     "name": "stdout",
     "output_type": "stream",
     "text": [
      "Fitting 3 folds for each of 36 candidates, totalling 108 fits\n",
      "best parameters for model:\t xgboost\n",
      "{'eta': 0.05, 'gamma': 1, 'max_depth': 5}\n",
      "\n",
      "              precision    recall  f1-score   support\n",
      "\n",
      "           0       0.49      0.69      0.57        48\n",
      "           1       0.00      0.00      0.00        16\n",
      "           2       0.49      0.45      0.47        44\n",
      "\n",
      "    accuracy                           0.49       108\n",
      "   macro avg       0.33      0.38      0.35       108\n",
      "weighted avg       0.42      0.49      0.45       108\n",
      "\n"
     ]
    }
   ],
   "source": [
    "best_model(data=lookism,\n",
    "           model_name=\"xgboost\",\n",
    "           vectorizer_type=\"tfidf\",\n",
    "           balancing=\"all\",\n",
    "           topic_feature=False,\n",
    "           save=False)"
   ]
  }
 ],
 "metadata": {
  "kernelspec": {
   "display_name": "Python 3 (ipykernel)",
   "language": "python",
   "name": "python3"
  },
  "language_info": {
   "codemirror_mode": {
    "name": "ipython",
    "version": 3
   },
   "file_extension": ".py",
   "mimetype": "text/x-python",
   "name": "python",
   "nbconvert_exporter": "python",
   "pygments_lexer": "ipython3",
   "version": "3.8.12"
  }
 },
 "nbformat": 4,
 "nbformat_minor": 5
}
