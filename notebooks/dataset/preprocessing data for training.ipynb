{
 "cells": [
  {
   "cell_type": "code",
   "execution_count": 31,
   "id": "e85670c2",
   "metadata": {},
   "outputs": [],
   "source": [
    "import pandas as pd\n",
    "import numpy as np\n",
    "\n",
    "from preprocessing import preprocess"
   ]
  },
  {
   "cell_type": "code",
   "execution_count": 4,
   "id": "613fb828",
   "metadata": {},
   "outputs": [],
   "source": [
    "data = pd.read_csv('../labeled_data_1.csv')\n",
    "data = data[['topic', 'content', 'stance']]"
   ]
  },
  {
   "cell_type": "code",
   "execution_count": 6,
   "id": "eee852dc",
   "metadata": {},
   "outputs": [
    {
     "data": {
      "text/plain": [
       "ЛГБТК+             8212\n",
       "феминизм           2930\n",
       "эйджизм            1101\n",
       "культура отмены    1037\n",
       "лукизм              883\n",
       "Name: topic, dtype: int64"
      ]
     },
     "execution_count": 6,
     "metadata": {},
     "output_type": "execute_result"
    }
   ],
   "source": [
    "data.topic.value_counts()"
   ]
  },
  {
   "cell_type": "code",
   "execution_count": 13,
   "id": "9336d243",
   "metadata": {},
   "outputs": [
    {
     "data": {
      "text/html": [
       "<div>\n",
       "<style scoped>\n",
       "    .dataframe tbody tr th:only-of-type {\n",
       "        vertical-align: middle;\n",
       "    }\n",
       "\n",
       "    .dataframe tbody tr th {\n",
       "        vertical-align: top;\n",
       "    }\n",
       "\n",
       "    .dataframe thead th {\n",
       "        text-align: right;\n",
       "    }\n",
       "</style>\n",
       "<table border=\"1\" class=\"dataframe\">\n",
       "  <thead>\n",
       "    <tr style=\"text-align: right;\">\n",
       "      <th></th>\n",
       "      <th>topic</th>\n",
       "      <th>content</th>\n",
       "      <th>stance</th>\n",
       "    </tr>\n",
       "  </thead>\n",
       "  <tbody>\n",
       "    <tr>\n",
       "      <th>0</th>\n",
       "      <td>ЛГБТК+</td>\n",
       "      <td>СИДИТ МУЖИК В ПОЕЗДЕ И ПЯЛИТСЯ В МОЙ ТЕЛЕФОН И...</td>\n",
       "      <td>favor</td>\n",
       "    </tr>\n",
       "    <tr>\n",
       "      <th>1</th>\n",
       "      <td>культура отмены</td>\n",
       "      <td>да просто потому что она женщина которая решил...</td>\n",
       "      <td>favor</td>\n",
       "    </tr>\n",
       "    <tr>\n",
       "      <th>2</th>\n",
       "      <td>ЛГБТК+</td>\n",
       "      <td>люди в реальной жизни:  *ЛГБТ - это фууууууууу...</td>\n",
       "      <td>against</td>\n",
       "    </tr>\n",
       "    <tr>\n",
       "      <th>3</th>\n",
       "      <td>ЛГБТК+</td>\n",
       "      <td>Эта ситуация с Украиной в очередной раз показа...</td>\n",
       "      <td>favor</td>\n",
       "    </tr>\n",
       "    <tr>\n",
       "      <th>4</th>\n",
       "      <td>ЛГБТК+</td>\n",
       "      <td>человек-пенек гей или натурал?</td>\n",
       "      <td>favor</td>\n",
       "    </tr>\n",
       "  </tbody>\n",
       "</table>\n",
       "</div>"
      ],
      "text/plain": [
       "             topic                                            content   stance\n",
       "0           ЛГБТК+  СИДИТ МУЖИК В ПОЕЗДЕ И ПЯЛИТСЯ В МОЙ ТЕЛЕФОН И...    favor\n",
       "1  культура отмены  да просто потому что она женщина которая решил...    favor\n",
       "2           ЛГБТК+  люди в реальной жизни:  *ЛГБТ - это фууууууууу...  against\n",
       "3           ЛГБТК+  Эта ситуация с Украиной в очередной раз показа...    favor\n",
       "4           ЛГБТК+                     человек-пенек гей или натурал?    favor"
      ]
     },
     "execution_count": 13,
     "metadata": {},
     "output_type": "execute_result"
    }
   ],
   "source": [
    "data.head()"
   ]
  },
  {
   "cell_type": "code",
   "execution_count": 14,
   "id": "239893aa",
   "metadata": {},
   "outputs": [],
   "source": [
    "data.loc[data.stance == 'against', 'stance'] = 0\n",
    "data.loc[data.stance == 'favor', 'stance'] = 1\n",
    "data.loc[data.stance == 'neutral', 'stance'] = 2"
   ]
  },
  {
   "cell_type": "code",
   "execution_count": 15,
   "id": "2c43f111",
   "metadata": {},
   "outputs": [
    {
     "data": {
      "text/html": [
       "<div>\n",
       "<style scoped>\n",
       "    .dataframe tbody tr th:only-of-type {\n",
       "        vertical-align: middle;\n",
       "    }\n",
       "\n",
       "    .dataframe tbody tr th {\n",
       "        vertical-align: top;\n",
       "    }\n",
       "\n",
       "    .dataframe thead th {\n",
       "        text-align: right;\n",
       "    }\n",
       "</style>\n",
       "<table border=\"1\" class=\"dataframe\">\n",
       "  <thead>\n",
       "    <tr style=\"text-align: right;\">\n",
       "      <th></th>\n",
       "      <th>topic</th>\n",
       "      <th>content</th>\n",
       "      <th>stance</th>\n",
       "    </tr>\n",
       "  </thead>\n",
       "  <tbody>\n",
       "    <tr>\n",
       "      <th>0</th>\n",
       "      <td>ЛГБТК+</td>\n",
       "      <td>СИДИТ МУЖИК В ПОЕЗДЕ И ПЯЛИТСЯ В МОЙ ТЕЛЕФОН И...</td>\n",
       "      <td>1</td>\n",
       "    </tr>\n",
       "    <tr>\n",
       "      <th>1</th>\n",
       "      <td>культура отмены</td>\n",
       "      <td>да просто потому что она женщина которая решил...</td>\n",
       "      <td>1</td>\n",
       "    </tr>\n",
       "    <tr>\n",
       "      <th>2</th>\n",
       "      <td>ЛГБТК+</td>\n",
       "      <td>люди в реальной жизни:  *ЛГБТ - это фууууууууу...</td>\n",
       "      <td>0</td>\n",
       "    </tr>\n",
       "    <tr>\n",
       "      <th>3</th>\n",
       "      <td>ЛГБТК+</td>\n",
       "      <td>Эта ситуация с Украиной в очередной раз показа...</td>\n",
       "      <td>1</td>\n",
       "    </tr>\n",
       "    <tr>\n",
       "      <th>4</th>\n",
       "      <td>ЛГБТК+</td>\n",
       "      <td>человек-пенек гей или натурал?</td>\n",
       "      <td>1</td>\n",
       "    </tr>\n",
       "  </tbody>\n",
       "</table>\n",
       "</div>"
      ],
      "text/plain": [
       "             topic                                            content stance\n",
       "0           ЛГБТК+  СИДИТ МУЖИК В ПОЕЗДЕ И ПЯЛИТСЯ В МОЙ ТЕЛЕФОН И...      1\n",
       "1  культура отмены  да просто потому что она женщина которая решил...      1\n",
       "2           ЛГБТК+  люди в реальной жизни:  *ЛГБТ - это фууууууууу...      0\n",
       "3           ЛГБТК+  Эта ситуация с Украиной в очередной раз показа...      1\n",
       "4           ЛГБТК+                     человек-пенек гей или натурал?      1"
      ]
     },
     "execution_count": 15,
     "metadata": {},
     "output_type": "execute_result"
    }
   ],
   "source": [
    "data.head()"
   ]
  },
  {
   "cell_type": "code",
   "execution_count": 16,
   "id": "8bae247a",
   "metadata": {},
   "outputs": [
    {
     "data": {
      "text/plain": [
       "2    6183\n",
       "0    4190\n",
       "1    3790\n",
       "Name: stance, dtype: int64"
      ]
     },
     "execution_count": 16,
     "metadata": {},
     "output_type": "execute_result"
    }
   ],
   "source": [
    "data.stance.value_counts()"
   ]
  },
  {
   "cell_type": "code",
   "execution_count": 17,
   "id": "78f56e28",
   "metadata": {},
   "outputs": [],
   "source": [
    "cancel_culture = data[data.topic == 'культура отмены']\n",
    "feminism = data[data.topic == 'феминизм']\n",
    "lgbtq_plus = data[data.topic == 'ЛГБТК+']\n",
    "ageism = data[data.topic == 'эйджизм']\n",
    "lookism = data[data.topic == 'лукизм']"
   ]
  },
  {
   "cell_type": "markdown",
   "id": "0c13b489",
   "metadata": {},
   "source": [
    "### cancel culture"
   ]
  },
  {
   "cell_type": "code",
   "execution_count": 29,
   "id": "cc592ff7",
   "metadata": {},
   "outputs": [
    {
     "data": {
      "text/html": [
       "<div>\n",
       "<style scoped>\n",
       "    .dataframe tbody tr th:only-of-type {\n",
       "        vertical-align: middle;\n",
       "    }\n",
       "\n",
       "    .dataframe tbody tr th {\n",
       "        vertical-align: top;\n",
       "    }\n",
       "\n",
       "    .dataframe thead th {\n",
       "        text-align: right;\n",
       "    }\n",
       "</style>\n",
       "<table border=\"1\" class=\"dataframe\">\n",
       "  <thead>\n",
       "    <tr style=\"text-align: right;\">\n",
       "      <th></th>\n",
       "      <th>topic</th>\n",
       "      <th>content</th>\n",
       "      <th>stance</th>\n",
       "    </tr>\n",
       "  </thead>\n",
       "  <tbody>\n",
       "    <tr>\n",
       "      <th>1</th>\n",
       "      <td>культура отмены</td>\n",
       "      <td>да просто потому что она женщина которая решил...</td>\n",
       "      <td>1</td>\n",
       "    </tr>\n",
       "    <tr>\n",
       "      <th>6</th>\n",
       "      <td>культура отмены</td>\n",
       "      <td>все пишут свои нелюбимые песни бтс но я люблю ...</td>\n",
       "      <td>1</td>\n",
       "    </tr>\n",
       "    <tr>\n",
       "      <th>8</th>\n",
       "      <td>культура отмены</td>\n",
       "      <td>я наоборот очень часто вижу фанов мародеров я ...</td>\n",
       "      <td>2</td>\n",
       "    </tr>\n",
       "    <tr>\n",
       "      <th>9</th>\n",
       "      <td>культура отмены</td>\n",
       "      <td>типо каждая группа проебывалась они блядские л...</td>\n",
       "      <td>0</td>\n",
       "    </tr>\n",
       "    <tr>\n",
       "      <th>15</th>\n",
       "      <td>культура отмены</td>\n",
       "      <td>istandwithjkr jkrowling травля роулинг очередн...</td>\n",
       "      <td>0</td>\n",
       "    </tr>\n",
       "    <tr>\n",
       "      <th>...</th>\n",
       "      <td>...</td>\n",
       "      <td>...</td>\n",
       "      <td>...</td>\n",
       "    </tr>\n",
       "    <tr>\n",
       "      <th>14139</th>\n",
       "      <td>культура отмены</td>\n",
       "      <td>стало известно что нужно делать чтобы тебя не ...</td>\n",
       "      <td>2</td>\n",
       "    </tr>\n",
       "    <tr>\n",
       "      <th>14143</th>\n",
       "      <td>культура отмены</td>\n",
       "      <td>кэнселинг у нас не работает</td>\n",
       "      <td>2</td>\n",
       "    </tr>\n",
       "    <tr>\n",
       "      <th>14144</th>\n",
       "      <td>культура отмены</td>\n",
       "      <td>вообще вся эта кэнсел культура задолбала</td>\n",
       "      <td>0</td>\n",
       "    </tr>\n",
       "    <tr>\n",
       "      <th>14145</th>\n",
       "      <td>культура отмены</td>\n",
       "      <td>у трампа обвинения в изнсилованиях у байдена о...</td>\n",
       "      <td>2</td>\n",
       "    </tr>\n",
       "    <tr>\n",
       "      <th>14146</th>\n",
       "      <td>культура отмены</td>\n",
       "      <td>культура отмены бессильна если за ней не стоит...</td>\n",
       "      <td>2</td>\n",
       "    </tr>\n",
       "  </tbody>\n",
       "</table>\n",
       "<p>1037 rows × 3 columns</p>\n",
       "</div>"
      ],
      "text/plain": [
       "                 topic                                            content  \\\n",
       "1      культура отмены  да просто потому что она женщина которая решил...   \n",
       "6      культура отмены  все пишут свои нелюбимые песни бтс но я люблю ...   \n",
       "8      культура отмены  я наоборот очень часто вижу фанов мародеров я ...   \n",
       "9      культура отмены  типо каждая группа проебывалась они блядские л...   \n",
       "15     культура отмены  istandwithjkr jkrowling травля роулинг очередн...   \n",
       "...                ...                                                ...   \n",
       "14139  культура отмены  стало известно что нужно делать чтобы тебя не ...   \n",
       "14143  культура отмены                        кэнселинг у нас не работает   \n",
       "14144  культура отмены           вообще вся эта кэнсел культура задолбала   \n",
       "14145  культура отмены  у трампа обвинения в изнсилованиях у байдена о...   \n",
       "14146  культура отмены  культура отмены бессильна если за ней не стоит...   \n",
       "\n",
       "      stance  \n",
       "1          1  \n",
       "6          1  \n",
       "8          2  \n",
       "9          0  \n",
       "15         0  \n",
       "...      ...  \n",
       "14139      2  \n",
       "14143      2  \n",
       "14144      0  \n",
       "14145      2  \n",
       "14146      2  \n",
       "\n",
       "[1037 rows x 3 columns]"
      ]
     },
     "execution_count": 29,
     "metadata": {},
     "output_type": "execute_result"
    }
   ],
   "source": [
    "cancel_culture"
   ]
  },
  {
   "cell_type": "code",
   "execution_count": 32,
   "id": "7d70d508",
   "metadata": {},
   "outputs": [
    {
     "name": "stderr",
     "output_type": "stream",
     "text": [
      "/var/folders/b7/g3pfszns5rgb692n3xkgmhz80000gn/T/ipykernel_49899/1882086557.py:25: SettingWithCopyWarning: \n",
      "A value is trying to be set on a copy of a slice from a DataFrame.\n",
      "Try using .loc[row_indexer,col_indexer] = value instead\n",
      "\n",
      "See the caveats in the documentation: https://pandas.pydata.org/pandas-docs/stable/user_guide/indexing.html#returning-a-view-versus-a-copy\n",
      "  data['content'] = data.content.apply(lowercasing)\n",
      "/var/folders/b7/g3pfszns5rgb692n3xkgmhz80000gn/T/ipykernel_49899/1882086557.py:26: SettingWithCopyWarning: \n",
      "A value is trying to be set on a copy of a slice from a DataFrame.\n",
      "Try using .loc[row_indexer,col_indexer] = value instead\n",
      "\n",
      "See the caveats in the documentation: https://pandas.pydata.org/pandas-docs/stable/user_guide/indexing.html#returning-a-view-versus-a-copy\n",
      "  data['content'] = data.content.apply(delete_punctuation)\n"
     ]
    },
    {
     "name": "stdout",
     "output_type": "stream",
     "text": [
      "CPU times: user 1.07 s, sys: 2.45 s, total: 3.52 s\n",
      "Wall time: 17min 22s\n"
     ]
    },
    {
     "name": "stderr",
     "output_type": "stream",
     "text": [
      "/var/folders/b7/g3pfszns5rgb692n3xkgmhz80000gn/T/ipykernel_49899/1882086557.py:27: SettingWithCopyWarning: \n",
      "A value is trying to be set on a copy of a slice from a DataFrame.\n",
      "Try using .loc[row_indexer,col_indexer] = value instead\n",
      "\n",
      "See the caveats in the documentation: https://pandas.pydata.org/pandas-docs/stable/user_guide/indexing.html#returning-a-view-versus-a-copy\n",
      "  data['content'] = data.content.apply(lemmatization)\n",
      "/var/folders/b7/g3pfszns5rgb692n3xkgmhz80000gn/T/ipykernel_49899/1882086557.py:28: SettingWithCopyWarning: \n",
      "A value is trying to be set on a copy of a slice from a DataFrame.\n",
      "Try using .loc[row_indexer,col_indexer] = value instead\n",
      "\n",
      "See the caveats in the documentation: https://pandas.pydata.org/pandas-docs/stable/user_guide/indexing.html#returning-a-view-versus-a-copy\n",
      "  data['content'] = data.content.apply(delete_stopwords)\n"
     ]
    }
   ],
   "source": [
    "%%time\n",
    "cancel_culture_preprocess = preprocess(cancel_culture)"
   ]
  },
  {
   "cell_type": "code",
   "execution_count": 33,
   "id": "748acbe2",
   "metadata": {},
   "outputs": [
    {
     "data": {
      "text/html": [
       "<div>\n",
       "<style scoped>\n",
       "    .dataframe tbody tr th:only-of-type {\n",
       "        vertical-align: middle;\n",
       "    }\n",
       "\n",
       "    .dataframe tbody tr th {\n",
       "        vertical-align: top;\n",
       "    }\n",
       "\n",
       "    .dataframe thead th {\n",
       "        text-align: right;\n",
       "    }\n",
       "</style>\n",
       "<table border=\"1\" class=\"dataframe\">\n",
       "  <thead>\n",
       "    <tr style=\"text-align: right;\">\n",
       "      <th></th>\n",
       "      <th>topic</th>\n",
       "      <th>content</th>\n",
       "      <th>stance</th>\n",
       "    </tr>\n",
       "  </thead>\n",
       "  <tbody>\n",
       "    <tr>\n",
       "      <th>1</th>\n",
       "      <td>культура отмены</td>\n",
       "      <td>просто женщина который решать раскрывать рот к...</td>\n",
       "      <td>1</td>\n",
       "    </tr>\n",
       "    <tr>\n",
       "      <th>6</th>\n",
       "      <td>культура отмены</td>\n",
       "      <td>весь писать свой нелюбимый песня бтс любить ве...</td>\n",
       "      <td>1</td>\n",
       "    </tr>\n",
       "    <tr>\n",
       "      <th>8</th>\n",
       "      <td>культура отмены</td>\n",
       "      <td>наоборот очень часто видеть фанов мародер сказ...</td>\n",
       "      <td>2</td>\n",
       "    </tr>\n",
       "    <tr>\n",
       "      <th>9</th>\n",
       "      <td>культура отмены</td>\n",
       "      <td>типо каждый группа проебываться блядский челов...</td>\n",
       "      <td>0</td>\n",
       "    </tr>\n",
       "    <tr>\n",
       "      <th>15</th>\n",
       "      <td>культура отмены</td>\n",
       "      <td>istandwithjkr jkrowling травля роулинг очередн...</td>\n",
       "      <td>0</td>\n",
       "    </tr>\n",
       "    <tr>\n",
       "      <th>...</th>\n",
       "      <td>...</td>\n",
       "      <td>...</td>\n",
       "      <td>...</td>\n",
       "    </tr>\n",
       "    <tr>\n",
       "      <th>14139</th>\n",
       "      <td>культура отмены</td>\n",
       "      <td>становиться известно нужно делать кэнселять</td>\n",
       "      <td>2</td>\n",
       "    </tr>\n",
       "    <tr>\n",
       "      <th>14143</th>\n",
       "      <td>культура отмены</td>\n",
       "      <td>кэнселинг работать</td>\n",
       "      <td>2</td>\n",
       "    </tr>\n",
       "    <tr>\n",
       "      <th>14144</th>\n",
       "      <td>культура отмены</td>\n",
       "      <td>вообще весь кэнсел культура задолбать</td>\n",
       "      <td>0</td>\n",
       "    </tr>\n",
       "    <tr>\n",
       "      <th>14145</th>\n",
       "      <td>культура отмены</td>\n",
       "      <td>трамп обвинение изнсилование байден обвинение ...</td>\n",
       "      <td>2</td>\n",
       "    </tr>\n",
       "    <tr>\n",
       "      <th>14146</th>\n",
       "      <td>культура отмены</td>\n",
       "      <td>культура отмена бессильный стоить государство</td>\n",
       "      <td>2</td>\n",
       "    </tr>\n",
       "  </tbody>\n",
       "</table>\n",
       "<p>1037 rows × 3 columns</p>\n",
       "</div>"
      ],
      "text/plain": [
       "                 topic                                            content  \\\n",
       "1      культура отмены  просто женщина который решать раскрывать рот к...   \n",
       "6      культура отмены  весь писать свой нелюбимый песня бтс любить ве...   \n",
       "8      культура отмены  наоборот очень часто видеть фанов мародер сказ...   \n",
       "9      культура отмены  типо каждый группа проебываться блядский челов...   \n",
       "15     культура отмены  istandwithjkr jkrowling травля роулинг очередн...   \n",
       "...                ...                                                ...   \n",
       "14139  культура отмены        становиться известно нужно делать кэнселять   \n",
       "14143  культура отмены                                 кэнселинг работать   \n",
       "14144  культура отмены              вообще весь кэнсел культура задолбать   \n",
       "14145  культура отмены  трамп обвинение изнсилование байден обвинение ...   \n",
       "14146  культура отмены      культура отмена бессильный стоить государство   \n",
       "\n",
       "      stance  \n",
       "1          1  \n",
       "6          1  \n",
       "8          2  \n",
       "9          0  \n",
       "15         0  \n",
       "...      ...  \n",
       "14139      2  \n",
       "14143      2  \n",
       "14144      0  \n",
       "14145      2  \n",
       "14146      2  \n",
       "\n",
       "[1037 rows x 3 columns]"
      ]
     },
     "execution_count": 33,
     "metadata": {},
     "output_type": "execute_result"
    }
   ],
   "source": [
    "cancel_culture_preprocess"
   ]
  },
  {
   "cell_type": "code",
   "execution_count": 36,
   "id": "e6f14c4d",
   "metadata": {},
   "outputs": [],
   "source": [
    "cancel_culture_preprocess.to_csv('../labeled_data/preprocess_cancel_culture.csv', index=False)"
   ]
  },
  {
   "cell_type": "code",
   "execution_count": 37,
   "id": "47df927d",
   "metadata": {},
   "outputs": [
    {
     "name": "stderr",
     "output_type": "stream",
     "text": [
      "/var/folders/b7/g3pfszns5rgb692n3xkgmhz80000gn/T/ipykernel_49899/1882086557.py:25: SettingWithCopyWarning: \n",
      "A value is trying to be set on a copy of a slice from a DataFrame.\n",
      "Try using .loc[row_indexer,col_indexer] = value instead\n",
      "\n",
      "See the caveats in the documentation: https://pandas.pydata.org/pandas-docs/stable/user_guide/indexing.html#returning-a-view-versus-a-copy\n",
      "  data['content'] = data.content.apply(lowercasing)\n",
      "/var/folders/b7/g3pfszns5rgb692n3xkgmhz80000gn/T/ipykernel_49899/1882086557.py:26: SettingWithCopyWarning: \n",
      "A value is trying to be set on a copy of a slice from a DataFrame.\n",
      "Try using .loc[row_indexer,col_indexer] = value instead\n",
      "\n",
      "See the caveats in the documentation: https://pandas.pydata.org/pandas-docs/stable/user_guide/indexing.html#returning-a-view-versus-a-copy\n",
      "  data['content'] = data.content.apply(delete_punctuation)\n",
      "/var/folders/b7/g3pfszns5rgb692n3xkgmhz80000gn/T/ipykernel_49899/1882086557.py:27: SettingWithCopyWarning: \n",
      "A value is trying to be set on a copy of a slice from a DataFrame.\n",
      "Try using .loc[row_indexer,col_indexer] = value instead\n",
      "\n",
      "See the caveats in the documentation: https://pandas.pydata.org/pandas-docs/stable/user_guide/indexing.html#returning-a-view-versus-a-copy\n",
      "  data['content'] = data.content.apply(lemmatization)\n"
     ]
    },
    {
     "name": "stdout",
     "output_type": "stream",
     "text": [
      "CPU times: user 2.79 s, sys: 5.95 s, total: 8.74 s\n",
      "Wall time: 50min 23s\n"
     ]
    },
    {
     "name": "stderr",
     "output_type": "stream",
     "text": [
      "/var/folders/b7/g3pfszns5rgb692n3xkgmhz80000gn/T/ipykernel_49899/1882086557.py:28: SettingWithCopyWarning: \n",
      "A value is trying to be set on a copy of a slice from a DataFrame.\n",
      "Try using .loc[row_indexer,col_indexer] = value instead\n",
      "\n",
      "See the caveats in the documentation: https://pandas.pydata.org/pandas-docs/stable/user_guide/indexing.html#returning-a-view-versus-a-copy\n",
      "  data['content'] = data.content.apply(delete_stopwords)\n"
     ]
    }
   ],
   "source": [
    "%%time\n",
    "feminism_preprocess = preprocess(feminism)\n",
    "feminism_preprocess.to_csv('../labeled_data/preprocess_feminism.csv', index=False)"
   ]
  },
  {
   "cell_type": "code",
   "execution_count": 38,
   "id": "004a03c6",
   "metadata": {},
   "outputs": [
    {
     "name": "stderr",
     "output_type": "stream",
     "text": [
      "/var/folders/b7/g3pfszns5rgb692n3xkgmhz80000gn/T/ipykernel_49899/1882086557.py:25: SettingWithCopyWarning: \n",
      "A value is trying to be set on a copy of a slice from a DataFrame.\n",
      "Try using .loc[row_indexer,col_indexer] = value instead\n",
      "\n",
      "See the caveats in the documentation: https://pandas.pydata.org/pandas-docs/stable/user_guide/indexing.html#returning-a-view-versus-a-copy\n",
      "  data['content'] = data.content.apply(lowercasing)\n",
      "/var/folders/b7/g3pfszns5rgb692n3xkgmhz80000gn/T/ipykernel_49899/1882086557.py:26: SettingWithCopyWarning: \n",
      "A value is trying to be set on a copy of a slice from a DataFrame.\n",
      "Try using .loc[row_indexer,col_indexer] = value instead\n",
      "\n",
      "See the caveats in the documentation: https://pandas.pydata.org/pandas-docs/stable/user_guide/indexing.html#returning-a-view-versus-a-copy\n",
      "  data['content'] = data.content.apply(delete_punctuation)\n",
      "/var/folders/b7/g3pfszns5rgb692n3xkgmhz80000gn/T/ipykernel_49899/1882086557.py:27: SettingWithCopyWarning: \n",
      "A value is trying to be set on a copy of a slice from a DataFrame.\n",
      "Try using .loc[row_indexer,col_indexer] = value instead\n",
      "\n",
      "See the caveats in the documentation: https://pandas.pydata.org/pandas-docs/stable/user_guide/indexing.html#returning-a-view-versus-a-copy\n",
      "  data['content'] = data.content.apply(lemmatization)\n"
     ]
    },
    {
     "name": "stdout",
     "output_type": "stream",
     "text": [
      "CPU times: user 7.53 s, sys: 16.5 s, total: 24.1 s\n",
      "Wall time: 2h 20min 32s\n"
     ]
    },
    {
     "name": "stderr",
     "output_type": "stream",
     "text": [
      "/var/folders/b7/g3pfszns5rgb692n3xkgmhz80000gn/T/ipykernel_49899/1882086557.py:28: SettingWithCopyWarning: \n",
      "A value is trying to be set on a copy of a slice from a DataFrame.\n",
      "Try using .loc[row_indexer,col_indexer] = value instead\n",
      "\n",
      "See the caveats in the documentation: https://pandas.pydata.org/pandas-docs/stable/user_guide/indexing.html#returning-a-view-versus-a-copy\n",
      "  data['content'] = data.content.apply(delete_stopwords)\n"
     ]
    }
   ],
   "source": [
    "%%time\n",
    "lgbtq_plus_preprocess = preprocess(lgbtq_plus)\n",
    "lgbtq_plus_preprocess.to_csv('../labeled_data/preprocess_lgbtq_plus.csv', index=False)"
   ]
  },
  {
   "cell_type": "code",
   "execution_count": 39,
   "id": "cde5fa6d",
   "metadata": {},
   "outputs": [
    {
     "name": "stderr",
     "output_type": "stream",
     "text": [
      "/var/folders/b7/g3pfszns5rgb692n3xkgmhz80000gn/T/ipykernel_49899/1882086557.py:25: SettingWithCopyWarning: \n",
      "A value is trying to be set on a copy of a slice from a DataFrame.\n",
      "Try using .loc[row_indexer,col_indexer] = value instead\n",
      "\n",
      "See the caveats in the documentation: https://pandas.pydata.org/pandas-docs/stable/user_guide/indexing.html#returning-a-view-versus-a-copy\n",
      "  data['content'] = data.content.apply(lowercasing)\n",
      "/var/folders/b7/g3pfszns5rgb692n3xkgmhz80000gn/T/ipykernel_49899/1882086557.py:26: SettingWithCopyWarning: \n",
      "A value is trying to be set on a copy of a slice from a DataFrame.\n",
      "Try using .loc[row_indexer,col_indexer] = value instead\n",
      "\n",
      "See the caveats in the documentation: https://pandas.pydata.org/pandas-docs/stable/user_guide/indexing.html#returning-a-view-versus-a-copy\n",
      "  data['content'] = data.content.apply(delete_punctuation)\n"
     ]
    },
    {
     "name": "stdout",
     "output_type": "stream",
     "text": [
      "CPU times: user 1.11 s, sys: 2.75 s, total: 3.85 s\n",
      "Wall time: 18min 52s\n"
     ]
    },
    {
     "name": "stderr",
     "output_type": "stream",
     "text": [
      "/var/folders/b7/g3pfszns5rgb692n3xkgmhz80000gn/T/ipykernel_49899/1882086557.py:27: SettingWithCopyWarning: \n",
      "A value is trying to be set on a copy of a slice from a DataFrame.\n",
      "Try using .loc[row_indexer,col_indexer] = value instead\n",
      "\n",
      "See the caveats in the documentation: https://pandas.pydata.org/pandas-docs/stable/user_guide/indexing.html#returning-a-view-versus-a-copy\n",
      "  data['content'] = data.content.apply(lemmatization)\n",
      "/var/folders/b7/g3pfszns5rgb692n3xkgmhz80000gn/T/ipykernel_49899/1882086557.py:28: SettingWithCopyWarning: \n",
      "A value is trying to be set on a copy of a slice from a DataFrame.\n",
      "Try using .loc[row_indexer,col_indexer] = value instead\n",
      "\n",
      "See the caveats in the documentation: https://pandas.pydata.org/pandas-docs/stable/user_guide/indexing.html#returning-a-view-versus-a-copy\n",
      "  data['content'] = data.content.apply(delete_stopwords)\n"
     ]
    }
   ],
   "source": [
    "%%time\n",
    "ageism_preprocess = preprocess(ageism)\n",
    "ageism_preprocess.to_csv('../labeled_data/preprocess_ageism.csv', index=False)"
   ]
  },
  {
   "cell_type": "code",
   "execution_count": 40,
   "id": "153f70fa",
   "metadata": {},
   "outputs": [
    {
     "name": "stderr",
     "output_type": "stream",
     "text": [
      "/var/folders/b7/g3pfszns5rgb692n3xkgmhz80000gn/T/ipykernel_49899/1882086557.py:25: SettingWithCopyWarning: \n",
      "A value is trying to be set on a copy of a slice from a DataFrame.\n",
      "Try using .loc[row_indexer,col_indexer] = value instead\n",
      "\n",
      "See the caveats in the documentation: https://pandas.pydata.org/pandas-docs/stable/user_guide/indexing.html#returning-a-view-versus-a-copy\n",
      "  data['content'] = data.content.apply(lowercasing)\n",
      "/var/folders/b7/g3pfszns5rgb692n3xkgmhz80000gn/T/ipykernel_49899/1882086557.py:26: SettingWithCopyWarning: \n",
      "A value is trying to be set on a copy of a slice from a DataFrame.\n",
      "Try using .loc[row_indexer,col_indexer] = value instead\n",
      "\n",
      "See the caveats in the documentation: https://pandas.pydata.org/pandas-docs/stable/user_guide/indexing.html#returning-a-view-versus-a-copy\n",
      "  data['content'] = data.content.apply(delete_punctuation)\n"
     ]
    },
    {
     "name": "stdout",
     "output_type": "stream",
     "text": [
      "CPU times: user 919 ms, sys: 2.2 s, total: 3.12 s\n",
      "Wall time: 15min 8s\n"
     ]
    },
    {
     "name": "stderr",
     "output_type": "stream",
     "text": [
      "/var/folders/b7/g3pfszns5rgb692n3xkgmhz80000gn/T/ipykernel_49899/1882086557.py:27: SettingWithCopyWarning: \n",
      "A value is trying to be set on a copy of a slice from a DataFrame.\n",
      "Try using .loc[row_indexer,col_indexer] = value instead\n",
      "\n",
      "See the caveats in the documentation: https://pandas.pydata.org/pandas-docs/stable/user_guide/indexing.html#returning-a-view-versus-a-copy\n",
      "  data['content'] = data.content.apply(lemmatization)\n",
      "/var/folders/b7/g3pfszns5rgb692n3xkgmhz80000gn/T/ipykernel_49899/1882086557.py:28: SettingWithCopyWarning: \n",
      "A value is trying to be set on a copy of a slice from a DataFrame.\n",
      "Try using .loc[row_indexer,col_indexer] = value instead\n",
      "\n",
      "See the caveats in the documentation: https://pandas.pydata.org/pandas-docs/stable/user_guide/indexing.html#returning-a-view-versus-a-copy\n",
      "  data['content'] = data.content.apply(delete_stopwords)\n"
     ]
    }
   ],
   "source": [
    "%%time\n",
    "lookism_preprocess = preprocess(lookism)\n",
    "lookism_preprocess.to_csv('../labeled_data/preprocess_lookism.csv', index=False)"
   ]
  }
 ],
 "metadata": {
  "kernelspec": {
   "display_name": "Python 3 (ipykernel)",
   "language": "python",
   "name": "python3"
  },
  "language_info": {
   "codemirror_mode": {
    "name": "ipython",
    "version": 3
   },
   "file_extension": ".py",
   "mimetype": "text/x-python",
   "name": "python",
   "nbconvert_exporter": "python",
   "pygments_lexer": "ipython3",
   "version": "3.8.12"
  }
 },
 "nbformat": 4,
 "nbformat_minor": 5
}
